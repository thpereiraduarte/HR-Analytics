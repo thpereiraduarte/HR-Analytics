{
 "cells": [
  {
   "cell_type": "markdown",
   "metadata": {},
   "source": [
    "## Stack - Projeto Human Resources Analytics"
   ]
  },
  {
   "cell_type": "markdown",
   "metadata": {},
   "source": [
    "### Machine Learning."
   ]
  },
  {
   "cell_type": "code",
   "execution_count": 1,
   "metadata": {
    "ExecuteTime": {
     "end_time": "2022-01-16T19:36:37.407416Z",
     "start_time": "2022-01-16T19:35:58.789736Z"
    }
   },
   "outputs": [],
   "source": [
    "import pandas as pd\n",
    "import datetime\n",
    "import glob\n",
    "from minio import Minio\n",
    "import numpy as np\n",
    "import matplotlib.pyplot as plt"
   ]
  },
  {
   "cell_type": "code",
   "execution_count": 2,
   "metadata": {
    "ExecuteTime": {
     "end_time": "2022-01-16T19:37:18.970553Z",
     "start_time": "2022-01-16T19:37:18.958977Z"
    }
   },
   "outputs": [],
   "source": [
    "client = Minio(\n",
    "        \"localhost:9000\",\n",
    "        access_key=\"minioadmin\",\n",
    "        secret_key=\"minioadmin\",\n",
    "        secure=False\n",
    "    )"
   ]
  },
  {
   "cell_type": "markdown",
   "metadata": {},
   "source": [
    "### Baixando o Dataset do Data Lake."
   ]
  },
  {
   "cell_type": "code",
   "execution_count": 18,
   "metadata": {
    "ExecuteTime": {
     "end_time": "2022-01-16T19:43:08.090557Z",
     "start_time": "2022-01-16T19:43:07.916666Z"
    }
   },
   "outputs": [],
   "source": [
    "client.fget_object(\n",
    "            \"processing\",\n",
    "            \"employees_dataset.parquet\",\n",
    "            \"temp_.parquet\",\n",
    ")\n",
    "df = pd.read_parquet(\"temp_.parquet\")"
   ]
  },
  {
   "cell_type": "code",
   "execution_count": 19,
   "metadata": {
    "ExecuteTime": {
     "end_time": "2022-01-16T19:43:10.337881Z",
     "start_time": "2022-01-16T19:43:10.316859Z"
    },
    "scrolled": true
   },
   "outputs": [
    {
     "data": {
      "text/html": [
       "<div>\n",
       "<style scoped>\n",
       "    .dataframe tbody tr th:only-of-type {\n",
       "        vertical-align: middle;\n",
       "    }\n",
       "\n",
       "    .dataframe tbody tr th {\n",
       "        vertical-align: top;\n",
       "    }\n",
       "\n",
       "    .dataframe thead th {\n",
       "        text-align: right;\n",
       "    }\n",
       "</style>\n",
       "<table border=\"1\" class=\"dataframe\">\n",
       "  <thead>\n",
       "    <tr style=\"text-align: right;\">\n",
       "      <th></th>\n",
       "      <th>department</th>\n",
       "      <th>salary</th>\n",
       "      <th>left</th>\n",
       "      <th>mean_work_last_3_months</th>\n",
       "      <th>number_projects</th>\n",
       "      <th>satisfaction_level</th>\n",
       "      <th>last_evaluation</th>\n",
       "      <th>time_in_company</th>\n",
       "      <th>work_accident</th>\n",
       "    </tr>\n",
       "  </thead>\n",
       "  <tbody>\n",
       "    <tr>\n",
       "      <th>0</th>\n",
       "      <td>sales</td>\n",
       "      <td>low</td>\n",
       "      <td>1.0</td>\n",
       "      <td>266.000000</td>\n",
       "      <td>2.0</td>\n",
       "      <td>38.0</td>\n",
       "      <td>53.0</td>\n",
       "      <td>3.0</td>\n",
       "      <td>0.0</td>\n",
       "    </tr>\n",
       "    <tr>\n",
       "      <th>1</th>\n",
       "      <td>sales</td>\n",
       "      <td>medium</td>\n",
       "      <td>1.0</td>\n",
       "      <td>252.000000</td>\n",
       "      <td>5.0</td>\n",
       "      <td>80.0</td>\n",
       "      <td>86.0</td>\n",
       "      <td>6.0</td>\n",
       "      <td>0.0</td>\n",
       "    </tr>\n",
       "    <tr>\n",
       "      <th>2</th>\n",
       "      <td>sales</td>\n",
       "      <td>medium</td>\n",
       "      <td>1.0</td>\n",
       "      <td>289.666667</td>\n",
       "      <td>7.0</td>\n",
       "      <td>11.0</td>\n",
       "      <td>88.0</td>\n",
       "      <td>4.0</td>\n",
       "      <td>0.0</td>\n",
       "    </tr>\n",
       "    <tr>\n",
       "      <th>3</th>\n",
       "      <td>sales</td>\n",
       "      <td>low</td>\n",
       "      <td>1.0</td>\n",
       "      <td>275.666667</td>\n",
       "      <td>5.0</td>\n",
       "      <td>72.0</td>\n",
       "      <td>87.0</td>\n",
       "      <td>5.0</td>\n",
       "      <td>0.0</td>\n",
       "    </tr>\n",
       "    <tr>\n",
       "      <th>4</th>\n",
       "      <td>sales</td>\n",
       "      <td>low</td>\n",
       "      <td>1.0</td>\n",
       "      <td>292.333333</td>\n",
       "      <td>2.0</td>\n",
       "      <td>37.0</td>\n",
       "      <td>52.0</td>\n",
       "      <td>3.0</td>\n",
       "      <td>0.0</td>\n",
       "    </tr>\n",
       "  </tbody>\n",
       "</table>\n",
       "</div>"
      ],
      "text/plain": [
       "  department  salary  left  mean_work_last_3_months  number_projects  \\\n",
       "0      sales     low   1.0               266.000000              2.0   \n",
       "1      sales  medium   1.0               252.000000              5.0   \n",
       "2      sales  medium   1.0               289.666667              7.0   \n",
       "3      sales     low   1.0               275.666667              5.0   \n",
       "4      sales     low   1.0               292.333333              2.0   \n",
       "\n",
       "   satisfaction_level  last_evaluation  time_in_company  work_accident  \n",
       "0                38.0             53.0              3.0            0.0  \n",
       "1                80.0             86.0              6.0            0.0  \n",
       "2                11.0             88.0              4.0            0.0  \n",
       "3                72.0             87.0              5.0            0.0  \n",
       "4                37.0             52.0              3.0            0.0  "
      ]
     },
     "execution_count": 19,
     "metadata": {},
     "output_type": "execute_result"
    }
   ],
   "source": [
    "df.head()"
   ]
  },
  {
   "cell_type": "markdown",
   "metadata": {},
   "source": [
    "#### Organizando o dataset."
   ]
  },
  {
   "cell_type": "code",
   "execution_count": 20,
   "metadata": {
    "ExecuteTime": {
     "end_time": "2022-01-16T19:43:13.553446Z",
     "start_time": "2022-01-16T19:43:13.539414Z"
    }
   },
   "outputs": [],
   "source": [
    "df = df[['department', 'salary', 'mean_work_last_3_months',\n",
    "       'number_projects', 'satisfaction_level', 'last_evaluation',\n",
    "       'time_in_company', 'work_accident','left']]"
   ]
  },
  {
   "cell_type": "code",
   "execution_count": 21,
   "metadata": {
    "ExecuteTime": {
     "end_time": "2022-01-16T19:43:15.587863Z",
     "start_time": "2022-01-16T19:43:15.559830Z"
    },
    "scrolled": true
   },
   "outputs": [
    {
     "data": {
      "text/html": [
       "<div>\n",
       "<style scoped>\n",
       "    .dataframe tbody tr th:only-of-type {\n",
       "        vertical-align: middle;\n",
       "    }\n",
       "\n",
       "    .dataframe tbody tr th {\n",
       "        vertical-align: top;\n",
       "    }\n",
       "\n",
       "    .dataframe thead th {\n",
       "        text-align: right;\n",
       "    }\n",
       "</style>\n",
       "<table border=\"1\" class=\"dataframe\">\n",
       "  <thead>\n",
       "    <tr style=\"text-align: right;\">\n",
       "      <th></th>\n",
       "      <th>department</th>\n",
       "      <th>salary</th>\n",
       "      <th>mean_work_last_3_months</th>\n",
       "      <th>number_projects</th>\n",
       "      <th>satisfaction_level</th>\n",
       "      <th>last_evaluation</th>\n",
       "      <th>time_in_company</th>\n",
       "      <th>work_accident</th>\n",
       "      <th>left</th>\n",
       "    </tr>\n",
       "  </thead>\n",
       "  <tbody>\n",
       "    <tr>\n",
       "      <th>0</th>\n",
       "      <td>sales</td>\n",
       "      <td>low</td>\n",
       "      <td>266.000000</td>\n",
       "      <td>2.0</td>\n",
       "      <td>38.0</td>\n",
       "      <td>53.0</td>\n",
       "      <td>3.0</td>\n",
       "      <td>0.0</td>\n",
       "      <td>1.0</td>\n",
       "    </tr>\n",
       "    <tr>\n",
       "      <th>1</th>\n",
       "      <td>sales</td>\n",
       "      <td>medium</td>\n",
       "      <td>252.000000</td>\n",
       "      <td>5.0</td>\n",
       "      <td>80.0</td>\n",
       "      <td>86.0</td>\n",
       "      <td>6.0</td>\n",
       "      <td>0.0</td>\n",
       "      <td>1.0</td>\n",
       "    </tr>\n",
       "    <tr>\n",
       "      <th>2</th>\n",
       "      <td>sales</td>\n",
       "      <td>medium</td>\n",
       "      <td>289.666667</td>\n",
       "      <td>7.0</td>\n",
       "      <td>11.0</td>\n",
       "      <td>88.0</td>\n",
       "      <td>4.0</td>\n",
       "      <td>0.0</td>\n",
       "      <td>1.0</td>\n",
       "    </tr>\n",
       "    <tr>\n",
       "      <th>3</th>\n",
       "      <td>sales</td>\n",
       "      <td>low</td>\n",
       "      <td>275.666667</td>\n",
       "      <td>5.0</td>\n",
       "      <td>72.0</td>\n",
       "      <td>87.0</td>\n",
       "      <td>5.0</td>\n",
       "      <td>0.0</td>\n",
       "      <td>1.0</td>\n",
       "    </tr>\n",
       "    <tr>\n",
       "      <th>4</th>\n",
       "      <td>sales</td>\n",
       "      <td>low</td>\n",
       "      <td>292.333333</td>\n",
       "      <td>2.0</td>\n",
       "      <td>37.0</td>\n",
       "      <td>52.0</td>\n",
       "      <td>3.0</td>\n",
       "      <td>0.0</td>\n",
       "      <td>1.0</td>\n",
       "    </tr>\n",
       "  </tbody>\n",
       "</table>\n",
       "</div>"
      ],
      "text/plain": [
       "  department  salary  mean_work_last_3_months  number_projects  \\\n",
       "0      sales     low               266.000000              2.0   \n",
       "1      sales  medium               252.000000              5.0   \n",
       "2      sales  medium               289.666667              7.0   \n",
       "3      sales     low               275.666667              5.0   \n",
       "4      sales     low               292.333333              2.0   \n",
       "\n",
       "   satisfaction_level  last_evaluation  time_in_company  work_accident  left  \n",
       "0                38.0             53.0              3.0            0.0   1.0  \n",
       "1                80.0             86.0              6.0            0.0   1.0  \n",
       "2                11.0             88.0              4.0            0.0   1.0  \n",
       "3                72.0             87.0              5.0            0.0   1.0  \n",
       "4                37.0             52.0              3.0            0.0   1.0  "
      ]
     },
     "execution_count": 21,
     "metadata": {},
     "output_type": "execute_result"
    }
   ],
   "source": [
    "df.head()"
   ]
  },
  {
   "cell_type": "markdown",
   "metadata": {},
   "source": [
    "#### Verificando os registros missing."
   ]
  },
  {
   "cell_type": "code",
   "execution_count": 22,
   "metadata": {
    "ExecuteTime": {
     "end_time": "2022-01-16T19:43:17.649488Z",
     "start_time": "2022-01-16T19:43:17.628453Z"
    }
   },
   "outputs": [
    {
     "data": {
      "text/plain": [
       "department                 1\n",
       "salary                     1\n",
       "mean_work_last_3_months    0\n",
       "number_projects            1\n",
       "satisfaction_level         1\n",
       "last_evaluation            1\n",
       "time_in_company            1\n",
       "work_accident              1\n",
       "left                       1\n",
       "dtype: int64"
      ]
     },
     "execution_count": 22,
     "metadata": {},
     "output_type": "execute_result"
    }
   ],
   "source": [
    "df.isnull().sum()"
   ]
  },
  {
   "cell_type": "code",
   "execution_count": 23,
   "metadata": {
    "ExecuteTime": {
     "end_time": "2022-01-16T19:43:19.692754Z",
     "start_time": "2022-01-16T19:43:19.661468Z"
    }
   },
   "outputs": [
    {
     "data": {
      "text/html": [
       "<div>\n",
       "<style scoped>\n",
       "    .dataframe tbody tr th:only-of-type {\n",
       "        vertical-align: middle;\n",
       "    }\n",
       "\n",
       "    .dataframe tbody tr th {\n",
       "        vertical-align: top;\n",
       "    }\n",
       "\n",
       "    .dataframe thead th {\n",
       "        text-align: right;\n",
       "    }\n",
       "</style>\n",
       "<table border=\"1\" class=\"dataframe\">\n",
       "  <thead>\n",
       "    <tr style=\"text-align: right;\">\n",
       "      <th></th>\n",
       "      <th>department</th>\n",
       "      <th>salary</th>\n",
       "      <th>mean_work_last_3_months</th>\n",
       "      <th>number_projects</th>\n",
       "      <th>satisfaction_level</th>\n",
       "      <th>last_evaluation</th>\n",
       "      <th>time_in_company</th>\n",
       "      <th>work_accident</th>\n",
       "      <th>left</th>\n",
       "    </tr>\n",
       "  </thead>\n",
       "  <tbody>\n",
       "    <tr>\n",
       "      <th>0</th>\n",
       "      <td>sales</td>\n",
       "      <td>low</td>\n",
       "      <td>266.000000</td>\n",
       "      <td>2.0</td>\n",
       "      <td>38.0</td>\n",
       "      <td>53.0</td>\n",
       "      <td>3.0</td>\n",
       "      <td>0.0</td>\n",
       "      <td>1.0</td>\n",
       "    </tr>\n",
       "    <tr>\n",
       "      <th>1</th>\n",
       "      <td>sales</td>\n",
       "      <td>medium</td>\n",
       "      <td>252.000000</td>\n",
       "      <td>5.0</td>\n",
       "      <td>80.0</td>\n",
       "      <td>86.0</td>\n",
       "      <td>6.0</td>\n",
       "      <td>0.0</td>\n",
       "      <td>1.0</td>\n",
       "    </tr>\n",
       "    <tr>\n",
       "      <th>2</th>\n",
       "      <td>sales</td>\n",
       "      <td>medium</td>\n",
       "      <td>289.666667</td>\n",
       "      <td>7.0</td>\n",
       "      <td>11.0</td>\n",
       "      <td>88.0</td>\n",
       "      <td>4.0</td>\n",
       "      <td>0.0</td>\n",
       "      <td>1.0</td>\n",
       "    </tr>\n",
       "    <tr>\n",
       "      <th>3</th>\n",
       "      <td>sales</td>\n",
       "      <td>low</td>\n",
       "      <td>275.666667</td>\n",
       "      <td>5.0</td>\n",
       "      <td>72.0</td>\n",
       "      <td>87.0</td>\n",
       "      <td>5.0</td>\n",
       "      <td>0.0</td>\n",
       "      <td>1.0</td>\n",
       "    </tr>\n",
       "    <tr>\n",
       "      <th>4</th>\n",
       "      <td>sales</td>\n",
       "      <td>low</td>\n",
       "      <td>292.333333</td>\n",
       "      <td>2.0</td>\n",
       "      <td>37.0</td>\n",
       "      <td>52.0</td>\n",
       "      <td>3.0</td>\n",
       "      <td>0.0</td>\n",
       "      <td>1.0</td>\n",
       "    </tr>\n",
       "    <tr>\n",
       "      <th>...</th>\n",
       "      <td>...</td>\n",
       "      <td>...</td>\n",
       "      <td>...</td>\n",
       "      <td>...</td>\n",
       "      <td>...</td>\n",
       "      <td>...</td>\n",
       "      <td>...</td>\n",
       "      <td>...</td>\n",
       "      <td>...</td>\n",
       "    </tr>\n",
       "    <tr>\n",
       "      <th>14995</th>\n",
       "      <td>support</td>\n",
       "      <td>low</td>\n",
       "      <td>253.333333</td>\n",
       "      <td>2.0</td>\n",
       "      <td>37.0</td>\n",
       "      <td>48.0</td>\n",
       "      <td>3.0</td>\n",
       "      <td>0.0</td>\n",
       "      <td>1.0</td>\n",
       "    </tr>\n",
       "    <tr>\n",
       "      <th>14996</th>\n",
       "      <td>support</td>\n",
       "      <td>low</td>\n",
       "      <td>288.000000</td>\n",
       "      <td>2.0</td>\n",
       "      <td>37.0</td>\n",
       "      <td>53.0</td>\n",
       "      <td>3.0</td>\n",
       "      <td>0.0</td>\n",
       "      <td>1.0</td>\n",
       "    </tr>\n",
       "    <tr>\n",
       "      <th>14997</th>\n",
       "      <td>support</td>\n",
       "      <td>low</td>\n",
       "      <td>272.000000</td>\n",
       "      <td>6.0</td>\n",
       "      <td>11.0</td>\n",
       "      <td>96.0</td>\n",
       "      <td>4.0</td>\n",
       "      <td>0.0</td>\n",
       "      <td>1.0</td>\n",
       "    </tr>\n",
       "    <tr>\n",
       "      <th>14998</th>\n",
       "      <td>support</td>\n",
       "      <td>low</td>\n",
       "      <td>276.666667</td>\n",
       "      <td>2.0</td>\n",
       "      <td>37.0</td>\n",
       "      <td>52.0</td>\n",
       "      <td>3.0</td>\n",
       "      <td>0.0</td>\n",
       "      <td>1.0</td>\n",
       "    </tr>\n",
       "    <tr>\n",
       "      <th>14999</th>\n",
       "      <td>NaN</td>\n",
       "      <td>NaN</td>\n",
       "      <td>261.000000</td>\n",
       "      <td>NaN</td>\n",
       "      <td>NaN</td>\n",
       "      <td>NaN</td>\n",
       "      <td>NaN</td>\n",
       "      <td>NaN</td>\n",
       "      <td>NaN</td>\n",
       "    </tr>\n",
       "  </tbody>\n",
       "</table>\n",
       "<p>15000 rows × 9 columns</p>\n",
       "</div>"
      ],
      "text/plain": [
       "      department  salary  mean_work_last_3_months  number_projects  \\\n",
       "0          sales     low               266.000000              2.0   \n",
       "1          sales  medium               252.000000              5.0   \n",
       "2          sales  medium               289.666667              7.0   \n",
       "3          sales     low               275.666667              5.0   \n",
       "4          sales     low               292.333333              2.0   \n",
       "...          ...     ...                      ...              ...   \n",
       "14995    support     low               253.333333              2.0   \n",
       "14996    support     low               288.000000              2.0   \n",
       "14997    support     low               272.000000              6.0   \n",
       "14998    support     low               276.666667              2.0   \n",
       "14999        NaN     NaN               261.000000              NaN   \n",
       "\n",
       "       satisfaction_level  last_evaluation  time_in_company  work_accident  \\\n",
       "0                    38.0             53.0              3.0            0.0   \n",
       "1                    80.0             86.0              6.0            0.0   \n",
       "2                    11.0             88.0              4.0            0.0   \n",
       "3                    72.0             87.0              5.0            0.0   \n",
       "4                    37.0             52.0              3.0            0.0   \n",
       "...                   ...              ...              ...            ...   \n",
       "14995                37.0             48.0              3.0            0.0   \n",
       "14996                37.0             53.0              3.0            0.0   \n",
       "14997                11.0             96.0              4.0            0.0   \n",
       "14998                37.0             52.0              3.0            0.0   \n",
       "14999                 NaN              NaN              NaN            NaN   \n",
       "\n",
       "       left  \n",
       "0       1.0  \n",
       "1       1.0  \n",
       "2       1.0  \n",
       "3       1.0  \n",
       "4       1.0  \n",
       "...     ...  \n",
       "14995   1.0  \n",
       "14996   1.0  \n",
       "14997   1.0  \n",
       "14998   1.0  \n",
       "14999   NaN  \n",
       "\n",
       "[15000 rows x 9 columns]"
      ]
     },
     "execution_count": 23,
     "metadata": {},
     "output_type": "execute_result"
    }
   ],
   "source": [
    "df[df.notnull()]"
   ]
  },
  {
   "cell_type": "code",
   "execution_count": 24,
   "metadata": {
    "ExecuteTime": {
     "end_time": "2022-01-16T19:43:21.718049Z",
     "start_time": "2022-01-16T19:43:21.702382Z"
    }
   },
   "outputs": [],
   "source": [
    "df = df[:14998]"
   ]
  },
  {
   "cell_type": "markdown",
   "metadata": {},
   "source": [
    "#### Alterando os tipos de dados."
   ]
  },
  {
   "cell_type": "code",
   "execution_count": 25,
   "metadata": {
    "ExecuteTime": {
     "end_time": "2022-01-16T19:43:24.121877Z",
     "start_time": "2022-01-16T19:43:24.106239Z"
    }
   },
   "outputs": [],
   "source": [
    "df[\"number_projects\"] = df[\"number_projects\"].astype(int)\n",
    "df[\"mean_work_last_3_months\"] = df[\"mean_work_last_3_months\"].astype(int)\n",
    "df[\"time_in_company\"] = df[\"time_in_company\"].astype(int)\n",
    "df[\"work_accident\"] = df[\"work_accident\"].astype(int)\n",
    "df[\"left\"] = df[\"left\"].astype(int)"
   ]
  },
  {
   "cell_type": "code",
   "execution_count": 26,
   "metadata": {
    "ExecuteTime": {
     "end_time": "2022-01-16T19:43:26.697721Z",
     "start_time": "2022-01-16T19:43:26.677465Z"
    }
   },
   "outputs": [
    {
     "name": "stdout",
     "output_type": "stream",
     "text": [
      "<class 'pandas.core.frame.DataFrame'>\n",
      "RangeIndex: 14998 entries, 0 to 14997\n",
      "Data columns (total 9 columns):\n",
      " #   Column                   Non-Null Count  Dtype  \n",
      "---  ------                   --------------  -----  \n",
      " 0   department               14998 non-null  object \n",
      " 1   salary                   14998 non-null  object \n",
      " 2   mean_work_last_3_months  14998 non-null  int32  \n",
      " 3   number_projects          14998 non-null  int32  \n",
      " 4   satisfaction_level       14998 non-null  float64\n",
      " 5   last_evaluation          14998 non-null  float64\n",
      " 6   time_in_company          14998 non-null  int32  \n",
      " 7   work_accident            14998 non-null  int32  \n",
      " 8   left                     14998 non-null  int32  \n",
      "dtypes: float64(2), int32(5), object(2)\n",
      "memory usage: 761.7+ KB\n"
     ]
    }
   ],
   "source": [
    "df.info()"
   ]
  },
  {
   "cell_type": "code",
   "execution_count": 27,
   "metadata": {
    "ExecuteTime": {
     "end_time": "2022-01-16T19:43:30.281760Z",
     "start_time": "2022-01-16T19:43:30.250500Z"
    }
   },
   "outputs": [
    {
     "data": {
      "text/html": [
       "<div>\n",
       "<style scoped>\n",
       "    .dataframe tbody tr th:only-of-type {\n",
       "        vertical-align: middle;\n",
       "    }\n",
       "\n",
       "    .dataframe tbody tr th {\n",
       "        vertical-align: top;\n",
       "    }\n",
       "\n",
       "    .dataframe thead th {\n",
       "        text-align: right;\n",
       "    }\n",
       "</style>\n",
       "<table border=\"1\" class=\"dataframe\">\n",
       "  <thead>\n",
       "    <tr style=\"text-align: right;\">\n",
       "      <th></th>\n",
       "      <th>department</th>\n",
       "      <th>salary</th>\n",
       "      <th>mean_work_last_3_months</th>\n",
       "      <th>number_projects</th>\n",
       "      <th>satisfaction_level</th>\n",
       "      <th>last_evaluation</th>\n",
       "      <th>time_in_company</th>\n",
       "      <th>work_accident</th>\n",
       "      <th>left</th>\n",
       "    </tr>\n",
       "  </thead>\n",
       "  <tbody>\n",
       "    <tr>\n",
       "      <th>0</th>\n",
       "      <td>sales</td>\n",
       "      <td>low</td>\n",
       "      <td>266</td>\n",
       "      <td>2</td>\n",
       "      <td>38.0</td>\n",
       "      <td>53.0</td>\n",
       "      <td>3</td>\n",
       "      <td>0</td>\n",
       "      <td>1</td>\n",
       "    </tr>\n",
       "    <tr>\n",
       "      <th>1</th>\n",
       "      <td>sales</td>\n",
       "      <td>medium</td>\n",
       "      <td>252</td>\n",
       "      <td>5</td>\n",
       "      <td>80.0</td>\n",
       "      <td>86.0</td>\n",
       "      <td>6</td>\n",
       "      <td>0</td>\n",
       "      <td>1</td>\n",
       "    </tr>\n",
       "    <tr>\n",
       "      <th>2</th>\n",
       "      <td>sales</td>\n",
       "      <td>medium</td>\n",
       "      <td>289</td>\n",
       "      <td>7</td>\n",
       "      <td>11.0</td>\n",
       "      <td>88.0</td>\n",
       "      <td>4</td>\n",
       "      <td>0</td>\n",
       "      <td>1</td>\n",
       "    </tr>\n",
       "    <tr>\n",
       "      <th>3</th>\n",
       "      <td>sales</td>\n",
       "      <td>low</td>\n",
       "      <td>275</td>\n",
       "      <td>5</td>\n",
       "      <td>72.0</td>\n",
       "      <td>87.0</td>\n",
       "      <td>5</td>\n",
       "      <td>0</td>\n",
       "      <td>1</td>\n",
       "    </tr>\n",
       "    <tr>\n",
       "      <th>4</th>\n",
       "      <td>sales</td>\n",
       "      <td>low</td>\n",
       "      <td>292</td>\n",
       "      <td>2</td>\n",
       "      <td>37.0</td>\n",
       "      <td>52.0</td>\n",
       "      <td>3</td>\n",
       "      <td>0</td>\n",
       "      <td>1</td>\n",
       "    </tr>\n",
       "  </tbody>\n",
       "</table>\n",
       "</div>"
      ],
      "text/plain": [
       "  department  salary  mean_work_last_3_months  number_projects  \\\n",
       "0      sales     low                      266                2   \n",
       "1      sales  medium                      252                5   \n",
       "2      sales  medium                      289                7   \n",
       "3      sales     low                      275                5   \n",
       "4      sales     low                      292                2   \n",
       "\n",
       "   satisfaction_level  last_evaluation  time_in_company  work_accident  left  \n",
       "0                38.0             53.0                3              0     1  \n",
       "1                80.0             86.0                6              0     1  \n",
       "2                11.0             88.0                4              0     1  \n",
       "3                72.0             87.0                5              0     1  \n",
       "4                37.0             52.0                3              0     1  "
      ]
     },
     "execution_count": 27,
     "metadata": {},
     "output_type": "execute_result"
    }
   ],
   "source": [
    "df.head()"
   ]
  },
  {
   "cell_type": "code",
   "execution_count": 28,
   "metadata": {
    "ExecuteTime": {
     "end_time": "2022-01-16T19:43:33.355606Z",
     "start_time": "2022-01-16T19:43:33.339939Z"
    }
   },
   "outputs": [],
   "source": [
    "df = df[:14998]"
   ]
  },
  {
   "cell_type": "markdown",
   "metadata": {},
   "source": [
    "#### Renomeando atributos"
   ]
  },
  {
   "cell_type": "code",
   "execution_count": 29,
   "metadata": {
    "ExecuteTime": {
     "end_time": "2022-01-16T19:43:35.205921Z",
     "start_time": "2022-01-16T19:43:35.174818Z"
    }
   },
   "outputs": [],
   "source": [
    "df = df.rename(columns={'satisfaction_level': 'satisfaction', \n",
    "                        'last_evaluation': 'evaluation',\n",
    "                        'number_projects': 'projectCount',\n",
    "                        'mean_work_last_3_months': 'averageMonthlyHours',\n",
    "                        'time_in_company': 'yearsAtCompany',\n",
    "                        'work_accident': 'workAccident',\n",
    "                        'left' : 'turnover'\n",
    "                        })"
   ]
  },
  {
   "cell_type": "code",
   "execution_count": 30,
   "metadata": {
    "ExecuteTime": {
     "end_time": "2022-01-16T19:43:37.408257Z",
     "start_time": "2022-01-16T19:43:37.376971Z"
    },
    "scrolled": true
   },
   "outputs": [
    {
     "data": {
      "text/html": [
       "<div>\n",
       "<style scoped>\n",
       "    .dataframe tbody tr th:only-of-type {\n",
       "        vertical-align: middle;\n",
       "    }\n",
       "\n",
       "    .dataframe tbody tr th {\n",
       "        vertical-align: top;\n",
       "    }\n",
       "\n",
       "    .dataframe thead th {\n",
       "        text-align: right;\n",
       "    }\n",
       "</style>\n",
       "<table border=\"1\" class=\"dataframe\">\n",
       "  <thead>\n",
       "    <tr style=\"text-align: right;\">\n",
       "      <th></th>\n",
       "      <th>department</th>\n",
       "      <th>salary</th>\n",
       "      <th>averageMonthlyHours</th>\n",
       "      <th>projectCount</th>\n",
       "      <th>satisfaction</th>\n",
       "      <th>evaluation</th>\n",
       "      <th>yearsAtCompany</th>\n",
       "      <th>workAccident</th>\n",
       "      <th>turnover</th>\n",
       "    </tr>\n",
       "  </thead>\n",
       "  <tbody>\n",
       "    <tr>\n",
       "      <th>0</th>\n",
       "      <td>sales</td>\n",
       "      <td>low</td>\n",
       "      <td>266</td>\n",
       "      <td>2</td>\n",
       "      <td>38.0</td>\n",
       "      <td>53.0</td>\n",
       "      <td>3</td>\n",
       "      <td>0</td>\n",
       "      <td>1</td>\n",
       "    </tr>\n",
       "    <tr>\n",
       "      <th>1</th>\n",
       "      <td>sales</td>\n",
       "      <td>medium</td>\n",
       "      <td>252</td>\n",
       "      <td>5</td>\n",
       "      <td>80.0</td>\n",
       "      <td>86.0</td>\n",
       "      <td>6</td>\n",
       "      <td>0</td>\n",
       "      <td>1</td>\n",
       "    </tr>\n",
       "    <tr>\n",
       "      <th>2</th>\n",
       "      <td>sales</td>\n",
       "      <td>medium</td>\n",
       "      <td>289</td>\n",
       "      <td>7</td>\n",
       "      <td>11.0</td>\n",
       "      <td>88.0</td>\n",
       "      <td>4</td>\n",
       "      <td>0</td>\n",
       "      <td>1</td>\n",
       "    </tr>\n",
       "    <tr>\n",
       "      <th>3</th>\n",
       "      <td>sales</td>\n",
       "      <td>low</td>\n",
       "      <td>275</td>\n",
       "      <td>5</td>\n",
       "      <td>72.0</td>\n",
       "      <td>87.0</td>\n",
       "      <td>5</td>\n",
       "      <td>0</td>\n",
       "      <td>1</td>\n",
       "    </tr>\n",
       "    <tr>\n",
       "      <th>4</th>\n",
       "      <td>sales</td>\n",
       "      <td>low</td>\n",
       "      <td>292</td>\n",
       "      <td>2</td>\n",
       "      <td>37.0</td>\n",
       "      <td>52.0</td>\n",
       "      <td>3</td>\n",
       "      <td>0</td>\n",
       "      <td>1</td>\n",
       "    </tr>\n",
       "  </tbody>\n",
       "</table>\n",
       "</div>"
      ],
      "text/plain": [
       "  department  salary  averageMonthlyHours  projectCount  satisfaction  \\\n",
       "0      sales     low                  266             2          38.0   \n",
       "1      sales  medium                  252             5          80.0   \n",
       "2      sales  medium                  289             7          11.0   \n",
       "3      sales     low                  275             5          72.0   \n",
       "4      sales     low                  292             2          37.0   \n",
       "\n",
       "   evaluation  yearsAtCompany  workAccident  turnover  \n",
       "0        53.0               3             0         1  \n",
       "1        86.0               6             0         1  \n",
       "2        88.0               4             0         1  \n",
       "3        87.0               5             0         1  \n",
       "4        52.0               3             0         1  "
      ]
     },
     "execution_count": 30,
     "metadata": {},
     "output_type": "execute_result"
    }
   ],
   "source": [
    "df.head()"
   ]
  },
  {
   "cell_type": "markdown",
   "metadata": {},
   "source": [
    "## Preprocessamento"
   ]
  },
  {
   "cell_type": "markdown",
   "metadata": {},
   "source": [
    "#### Converte os atributos categoricos valores numéricos."
   ]
  },
  {
   "cell_type": "code",
   "execution_count": 31,
   "metadata": {
    "ExecuteTime": {
     "end_time": "2022-01-16T19:43:48.269198Z",
     "start_time": "2022-01-16T19:43:48.238113Z"
    }
   },
   "outputs": [],
   "source": [
    "df[\"department\"] = df[\"department\"].astype('category').cat.codes\n",
    "df[\"salary\"] = df[\"salary\"].astype('category').cat.codes"
   ]
  },
  {
   "cell_type": "code",
   "execution_count": 32,
   "metadata": {
    "ExecuteTime": {
     "end_time": "2022-01-16T19:43:50.456599Z",
     "start_time": "2022-01-16T19:43:50.425538Z"
    }
   },
   "outputs": [
    {
     "data": {
      "text/html": [
       "<div>\n",
       "<style scoped>\n",
       "    .dataframe tbody tr th:only-of-type {\n",
       "        vertical-align: middle;\n",
       "    }\n",
       "\n",
       "    .dataframe tbody tr th {\n",
       "        vertical-align: top;\n",
       "    }\n",
       "\n",
       "    .dataframe thead th {\n",
       "        text-align: right;\n",
       "    }\n",
       "</style>\n",
       "<table border=\"1\" class=\"dataframe\">\n",
       "  <thead>\n",
       "    <tr style=\"text-align: right;\">\n",
       "      <th></th>\n",
       "      <th>department</th>\n",
       "      <th>salary</th>\n",
       "      <th>averageMonthlyHours</th>\n",
       "      <th>projectCount</th>\n",
       "      <th>satisfaction</th>\n",
       "      <th>evaluation</th>\n",
       "      <th>yearsAtCompany</th>\n",
       "      <th>workAccident</th>\n",
       "      <th>turnover</th>\n",
       "    </tr>\n",
       "  </thead>\n",
       "  <tbody>\n",
       "    <tr>\n",
       "      <th>0</th>\n",
       "      <td>7</td>\n",
       "      <td>1</td>\n",
       "      <td>266</td>\n",
       "      <td>2</td>\n",
       "      <td>38.0</td>\n",
       "      <td>53.0</td>\n",
       "      <td>3</td>\n",
       "      <td>0</td>\n",
       "      <td>1</td>\n",
       "    </tr>\n",
       "    <tr>\n",
       "      <th>1</th>\n",
       "      <td>7</td>\n",
       "      <td>2</td>\n",
       "      <td>252</td>\n",
       "      <td>5</td>\n",
       "      <td>80.0</td>\n",
       "      <td>86.0</td>\n",
       "      <td>6</td>\n",
       "      <td>0</td>\n",
       "      <td>1</td>\n",
       "    </tr>\n",
       "    <tr>\n",
       "      <th>2</th>\n",
       "      <td>7</td>\n",
       "      <td>2</td>\n",
       "      <td>289</td>\n",
       "      <td>7</td>\n",
       "      <td>11.0</td>\n",
       "      <td>88.0</td>\n",
       "      <td>4</td>\n",
       "      <td>0</td>\n",
       "      <td>1</td>\n",
       "    </tr>\n",
       "    <tr>\n",
       "      <th>3</th>\n",
       "      <td>7</td>\n",
       "      <td>1</td>\n",
       "      <td>275</td>\n",
       "      <td>5</td>\n",
       "      <td>72.0</td>\n",
       "      <td>87.0</td>\n",
       "      <td>5</td>\n",
       "      <td>0</td>\n",
       "      <td>1</td>\n",
       "    </tr>\n",
       "    <tr>\n",
       "      <th>4</th>\n",
       "      <td>7</td>\n",
       "      <td>1</td>\n",
       "      <td>292</td>\n",
       "      <td>2</td>\n",
       "      <td>37.0</td>\n",
       "      <td>52.0</td>\n",
       "      <td>3</td>\n",
       "      <td>0</td>\n",
       "      <td>1</td>\n",
       "    </tr>\n",
       "  </tbody>\n",
       "</table>\n",
       "</div>"
      ],
      "text/plain": [
       "   department  salary  averageMonthlyHours  projectCount  satisfaction  \\\n",
       "0           7       1                  266             2          38.0   \n",
       "1           7       2                  252             5          80.0   \n",
       "2           7       2                  289             7          11.0   \n",
       "3           7       1                  275             5          72.0   \n",
       "4           7       1                  292             2          37.0   \n",
       "\n",
       "   evaluation  yearsAtCompany  workAccident  turnover  \n",
       "0        53.0               3             0         1  \n",
       "1        86.0               6             0         1  \n",
       "2        88.0               4             0         1  \n",
       "3        87.0               5             0         1  \n",
       "4        52.0               3             0         1  "
      ]
     },
     "execution_count": 32,
     "metadata": {},
     "output_type": "execute_result"
    }
   ],
   "source": [
    "df.head()"
   ]
  },
  {
   "cell_type": "markdown",
   "metadata": {},
   "source": [
    "#### Separando os conjuntos de dados."
   ]
  },
  {
   "cell_type": "code",
   "execution_count": 33,
   "metadata": {
    "ExecuteTime": {
     "end_time": "2022-01-16T19:53:24.302670Z",
     "start_time": "2022-01-16T19:53:24.285694Z"
    }
   },
   "outputs": [],
   "source": [
    "target_name = 'turnover'\n",
    "X = df.drop('turnover', axis=1)\n",
    "y = df[target_name]"
   ]
  },
  {
   "cell_type": "markdown",
   "metadata": {},
   "source": [
    "#### Transformando os dados."
   ]
  },
  {
   "cell_type": "code",
   "execution_count": 34,
   "metadata": {
    "ExecuteTime": {
     "end_time": "2022-01-16T19:59:28.621742Z",
     "start_time": "2022-01-16T19:59:17.012911Z"
    }
   },
   "outputs": [],
   "source": [
    "from sklearn.preprocessing import MinMaxScaler"
   ]
  },
  {
   "cell_type": "code",
   "execution_count": 35,
   "metadata": {
    "ExecuteTime": {
     "end_time": "2022-01-16T19:59:59.180207Z",
     "start_time": "2022-01-16T19:59:59.164576Z"
    }
   },
   "outputs": [],
   "source": [
    "scaler = MinMaxScaler()"
   ]
  },
  {
   "cell_type": "code",
   "execution_count": 36,
   "metadata": {
    "ExecuteTime": {
     "end_time": "2022-01-16T20:00:15.968497Z",
     "start_time": "2022-01-16T20:00:15.952875Z"
    }
   },
   "outputs": [],
   "source": [
    "X = scaler.fit_transform(X)"
   ]
  },
  {
   "cell_type": "code",
   "execution_count": 37,
   "metadata": {
    "ExecuteTime": {
     "end_time": "2022-01-16T20:00:20.989944Z",
     "start_time": "2022-01-16T20:00:20.974358Z"
    }
   },
   "outputs": [
    {
     "data": {
      "text/plain": [
       "array([[0.77777778, 0.5       , 0.38202247, ..., 0.265625  , 0.125     ,\n",
       "        0.        ],\n",
       "       [0.77777778, 1.        , 0.2247191 , ..., 0.78125   , 0.5       ,\n",
       "        0.        ],\n",
       "       [0.77777778, 1.        , 0.64044944, ..., 0.8125    , 0.25      ,\n",
       "        0.        ],\n",
       "       ...,\n",
       "       [0.88888889, 0.5       , 0.23595506, ..., 0.1875    , 0.125     ,\n",
       "        0.        ],\n",
       "       [0.88888889, 0.5       , 0.62921348, ..., 0.265625  , 0.125     ,\n",
       "        0.        ],\n",
       "       [0.88888889, 0.5       , 0.4494382 , ..., 0.9375    , 0.25      ,\n",
       "        0.        ]])"
      ]
     },
     "execution_count": 37,
     "metadata": {},
     "output_type": "execute_result"
    }
   ],
   "source": [
    "X"
   ]
  },
  {
   "cell_type": "markdown",
   "metadata": {},
   "source": [
    "### Separando os conjuntos de dados."
   ]
  },
  {
   "cell_type": "markdown",
   "metadata": {},
   "source": [
    "<img src=\"https://www.researchgate.net/profile/Brian-Mwandau/publication/325870973/figure/fig6/AS:639531594285060@1529487622235/Train-Test-Data-Split.png\" align=\"left\">"
   ]
  },
  {
   "cell_type": "code",
   "execution_count": 38,
   "metadata": {
    "ExecuteTime": {
     "end_time": "2022-01-16T20:10:34.938997Z",
     "start_time": "2022-01-16T20:10:33.999095Z"
    }
   },
   "outputs": [],
   "source": [
    "from sklearn.model_selection import train_test_split"
   ]
  },
  {
   "cell_type": "code",
   "execution_count": 39,
   "metadata": {
    "ExecuteTime": {
     "end_time": "2022-01-16T20:14:04.763038Z",
     "start_time": "2022-01-16T20:14:04.716254Z"
    }
   },
   "outputs": [],
   "source": [
    "X_train, X_test, y_train, y_test = train_test_split(\n",
    "        X\n",
    "       ,y\n",
    "       ,test_size = 0.2\n",
    "       ,random_state = 123\n",
    "       ,stratify = y\n",
    ")"
   ]
  },
  {
   "cell_type": "markdown",
   "metadata": {},
   "source": [
    "#### Treinando o algoritmo de arvore de decisão."
   ]
  },
  {
   "cell_type": "code",
   "execution_count": 40,
   "metadata": {
    "ExecuteTime": {
     "end_time": "2022-01-16T20:22:05.033399Z",
     "start_time": "2022-01-16T20:22:01.669262Z"
    }
   },
   "outputs": [],
   "source": [
    "from sklearn.tree import DecisionTreeClassifier"
   ]
  },
  {
   "cell_type": "code",
   "execution_count": 41,
   "metadata": {
    "ExecuteTime": {
     "end_time": "2022-01-16T20:22:09.491820Z",
     "start_time": "2022-01-16T20:22:09.435099Z"
    }
   },
   "outputs": [],
   "source": [
    "dtree = DecisionTreeClassifier()\n",
    "dtree = dtree.fit(X_train,y_train)"
   ]
  },
  {
   "cell_type": "code",
   "execution_count": 42,
   "metadata": {
    "ExecuteTime": {
     "end_time": "2022-01-16T20:22:54.093301Z",
     "start_time": "2022-01-16T20:22:54.085331Z"
    }
   },
   "outputs": [],
   "source": [
    "importances = dtree.feature_importances_\n",
    "feat_names = df.drop(['turnover'],axis=1).columns"
   ]
  },
  {
   "cell_type": "code",
   "execution_count": 43,
   "metadata": {
    "ExecuteTime": {
     "end_time": "2022-01-16T20:26:16.783008Z",
     "start_time": "2022-01-16T20:26:16.124990Z"
    }
   },
   "outputs": [
    {
     "data": {
      "image/png": "[encoded data removed]",
      "text/plain": [
       "<Figure size 864x288 with 1 Axes>"
      ]
     },
     "metadata": {
      "needs_background": "light"
     },
     "output_type": "display_data"
    }
   ],
   "source": [
    "indices = np.argsort(importances)[::-1]\n",
    "plt.figure(figsize=(12,4))\n",
    "plt.title(\"Feature Importance by Decision Tree Classifier\")\n",
    "plt.bar(range(len(indices)), importances[indices], color='lightblue',  align=\"center\")\n",
    "plt.xticks(range(len(indices)), feat_names[indices], rotation='vertical',fontsize=14)\n",
    "plt.xlim([-1, len(indices)])\n",
    "plt.show()"
   ]
  },
  {
   "cell_type": "markdown",
   "metadata": {},
   "source": [
    "#### Filtrando apenas os atributos relevantes."
   ]
  },
  {
   "cell_type": "code",
   "execution_count": 44,
   "metadata": {
    "ExecuteTime": {
     "end_time": "2022-01-16T20:26:59.841563Z",
     "start_time": "2022-01-16T20:26:59.824778Z"
    }
   },
   "outputs": [],
   "source": [
    "X = df[[\"satisfaction\",\"evaluation\",\"averageMonthlyHours\",\"yearsAtCompany\"]]"
   ]
  },
  {
   "cell_type": "markdown",
   "metadata": {},
   "source": [
    "#### Separando os conjuntos de dados - Incluindo apenas as variáveis mais relevantes."
   ]
  },
  {
   "cell_type": "code",
   "execution_count": 45,
   "metadata": {
    "ExecuteTime": {
     "end_time": "2022-01-16T20:31:46.016425Z",
     "start_time": "2022-01-16T20:31:46.012427Z"
    }
   },
   "outputs": [],
   "source": [
    "scaler = MinMaxScaler()"
   ]
  },
  {
   "cell_type": "code",
   "execution_count": 46,
   "metadata": {
    "ExecuteTime": {
     "end_time": "2022-01-16T20:32:03.301087Z",
     "start_time": "2022-01-16T20:32:03.285427Z"
    }
   },
   "outputs": [],
   "source": [
    "X = scaler.fit_transform(X)"
   ]
  },
  {
   "cell_type": "code",
   "execution_count": 47,
   "metadata": {
    "ExecuteTime": {
     "end_time": "2022-01-16T20:32:45.877545Z",
     "start_time": "2022-01-16T20:32:45.855400Z"
    }
   },
   "outputs": [],
   "source": [
    "X_train, X_test, y_train, y_test = train_test_split(\n",
    "        X\n",
    "       ,y\n",
    "       ,test_size = 0.2\n",
    "       ,random_state = 123\n",
    "       ,stratify = y\n",
    ")"
   ]
  },
  {
   "cell_type": "code",
   "execution_count": 48,
   "metadata": {
    "ExecuteTime": {
     "end_time": "2022-01-16T20:33:10.189155Z",
     "start_time": "2022-01-16T20:33:10.157895Z"
    }
   },
   "outputs": [
    {
     "data": {
      "text/plain": [
       "array([[0.06593407, 0.046875  , 0.53932584, 0.25      ],\n",
       "       [0.        , 0.703125  , 0.41573034, 0.25      ],\n",
       "       [0.81318681, 0.296875  , 0.76404494, 0.625     ],\n",
       "       ...,\n",
       "       [0.32967033, 0.3125    , 0.59550562, 0.125     ],\n",
       "       [0.95604396, 0.234375  , 0.48314607, 0.5       ],\n",
       "       [0.05494505, 0.828125  , 0.51685393, 0.5       ]])"
      ]
     },
     "execution_count": 48,
     "metadata": {},
     "output_type": "execute_result"
    }
   ],
   "source": [
    "X_train"
   ]
  },
  {
   "cell_type": "markdown",
   "metadata": {},
   "source": [
    "#### Função do modelo de base."
   ]
  },
  {
   "cell_type": "code",
   "execution_count": 49,
   "metadata": {
    "ExecuteTime": {
     "end_time": "2022-01-16T20:35:24.652891Z",
     "start_time": "2022-01-16T20:35:24.636875Z"
    }
   },
   "outputs": [],
   "source": [
    "def base_rate_model(X):\n",
    "    y = np.zeros(X.shape[0])\n",
    "    return y"
   ]
  },
  {
   "cell_type": "markdown",
   "metadata": {},
   "source": [
    "#### Importando métodos de métrica de avaliação."
   ]
  },
  {
   "cell_type": "code",
   "execution_count": 50,
   "metadata": {
    "ExecuteTime": {
     "end_time": "2022-01-16T20:35:41.842644Z",
     "start_time": "2022-01-16T20:35:41.830723Z"
    }
   },
   "outputs": [],
   "source": [
    "from sklearn.metrics import roc_auc_score\n",
    "from sklearn.metrics import accuracy_score\n",
    "from sklearn.metrics import classification_report"
   ]
  },
  {
   "cell_type": "code",
   "execution_count": 51,
   "metadata": {
    "ExecuteTime": {
     "end_time": "2022-01-16T20:36:40.412459Z",
     "start_time": "2022-01-16T20:36:40.396462Z"
    }
   },
   "outputs": [],
   "source": [
    "def accuracy_result(y_test,y_predict):\n",
    "    acc = accuracy_score(y_test, y_predict)\n",
    "    print (\"Accuracy = %2.2f\" % acc)"
   ]
  },
  {
   "cell_type": "code",
   "execution_count": 52,
   "metadata": {
    "ExecuteTime": {
     "end_time": "2022-01-16T20:36:48.613745Z",
     "start_time": "2022-01-16T20:36:48.601898Z"
    }
   },
   "outputs": [],
   "source": [
    "def roc_classification_report_results(model,y_test,y_predict):\n",
    "    roc_ = roc_auc_score(y_test, y_predict)\n",
    "    classfication_report = classification_report(y_test, y_predict)\n",
    "    \n",
    "    print (\"\\n{} AUC = {}\\n\".format(model, roc_))\n",
    "    print(classfication_report)"
   ]
  },
  {
   "cell_type": "markdown",
   "metadata": {},
   "source": [
    "#### Análise do modelo de baseline"
   ]
  },
  {
   "cell_type": "code",
   "execution_count": 53,
   "metadata": {
    "ExecuteTime": {
     "end_time": "2022-01-16T20:37:19.152125Z",
     "start_time": "2022-01-16T20:37:19.142616Z"
    }
   },
   "outputs": [],
   "source": [
    "y_predict = base_rate_model(X_test)"
   ]
  },
  {
   "cell_type": "code",
   "execution_count": 54,
   "metadata": {
    "ExecuteTime": {
     "end_time": "2022-01-16T20:37:27.014649Z",
     "start_time": "2022-01-16T20:37:27.004592Z"
    }
   },
   "outputs": [
    {
     "name": "stdout",
     "output_type": "stream",
     "text": [
      "Accuracy = 0.76\n"
     ]
    }
   ],
   "source": [
    "accuracy_result(y_test, y_predict)"
   ]
  },
  {
   "cell_type": "code",
   "execution_count": 55,
   "metadata": {
    "ExecuteTime": {
     "end_time": "2022-01-16T20:37:42.275910Z",
     "start_time": "2022-01-16T20:37:41.672630Z"
    }
   },
   "outputs": [
    {
     "name": "stdout",
     "output_type": "stream",
     "text": [
      "\n",
      "Base Model AUC = 0.5\n",
      "\n",
      "              precision    recall  f1-score   support\n",
      "\n",
      "           0       0.76      1.00      0.86      2286\n",
      "           1       0.00      0.00      0.00       714\n",
      "\n",
      "    accuracy                           0.76      3000\n",
      "   macro avg       0.38      0.50      0.43      3000\n",
      "weighted avg       0.58      0.76      0.66      3000\n",
      "\n"
     ]
    },
    {
     "name": "stderr",
     "output_type": "stream",
     "text": [
      "C:\\Users\\Thiago\\anaconda3\\lib\\site-packages\\sklearn\\metrics\\_classification.py:1221: UndefinedMetricWarning: Precision and F-score are ill-defined and being set to 0.0 in labels with no predicted samples. Use `zero_division` parameter to control this behavior.\n",
      "  _warn_prf(average, modifier, msg_start, len(result))\n"
     ]
    }
   ],
   "source": [
    "roc_classification_report_results(\"Base Model\", y_test, y_predict)"
   ]
  },
  {
   "cell_type": "markdown",
   "metadata": {},
   "source": [
    "### Modelo de Regressão Logística."
   ]
  },
  {
   "cell_type": "markdown",
   "metadata": {},
   "source": [
    "<img src=\"https://editor.analyticsvidhya.com/uploads/95588WhatsApp-Image-2020-02-11-at-8.30.11-PM.jpeg\" align=\"left\">"
   ]
  },
  {
   "cell_type": "markdown",
   "metadata": {},
   "source": [
    "#### Instânciando o algoritmo."
   ]
  },
  {
   "cell_type": "code",
   "execution_count": 56,
   "metadata": {
    "ExecuteTime": {
     "end_time": "2022-01-16T21:57:48.661335Z",
     "start_time": "2022-01-16T21:57:48.653176Z"
    }
   },
   "outputs": [],
   "source": [
    "from sklearn.linear_model import LogisticRegression\n",
    "logis = LogisticRegression()"
   ]
  },
  {
   "cell_type": "markdown",
   "metadata": {},
   "source": [
    "#### Realizando o treinamento."
   ]
  },
  {
   "cell_type": "code",
   "execution_count": 57,
   "metadata": {
    "ExecuteTime": {
     "end_time": "2022-01-16T21:58:01.739591Z",
     "start_time": "2022-01-16T21:58:01.292144Z"
    },
    "scrolled": true
   },
   "outputs": [
    {
     "data": {
      "text/plain": [
       "LogisticRegression()"
      ]
     },
     "execution_count": 57,
     "metadata": {},
     "output_type": "execute_result"
    }
   ],
   "source": [
    "logis.fit(X_train, y_train)"
   ]
  },
  {
   "cell_type": "markdown",
   "metadata": {},
   "source": [
    "#### Calculando as predições."
   ]
  },
  {
   "cell_type": "code",
   "execution_count": 58,
   "metadata": {
    "ExecuteTime": {
     "end_time": "2022-01-16T21:59:10.931872Z",
     "start_time": "2022-01-16T21:59:10.916236Z"
    }
   },
   "outputs": [],
   "source": [
    "y_predict = logis.predict(X_test)"
   ]
  },
  {
   "cell_type": "markdown",
   "metadata": {},
   "source": [
    "#### Avaliando o resultado."
   ]
  },
  {
   "cell_type": "code",
   "execution_count": 59,
   "metadata": {
    "ExecuteTime": {
     "end_time": "2022-01-16T21:59:39.375288Z",
     "start_time": "2022-01-16T21:59:39.344205Z"
    }
   },
   "outputs": [
    {
     "name": "stdout",
     "output_type": "stream",
     "text": [
      "Accuracy = 0.75\n"
     ]
    }
   ],
   "source": [
    "accuracy_result(y_test, y_predict)"
   ]
  },
  {
   "cell_type": "code",
   "execution_count": 58,
   "metadata": {},
   "outputs": [
    {
     "name": "stdout",
     "output_type": "stream",
     "text": [
      "\n",
      "Logistic Regression AUC = 0.5406235985207731\n",
      "\n",
      "              precision    recall  f1-score   support\n",
      "\n",
      "           0       0.78      0.97      0.86      2286\n",
      "           1       0.55      0.11      0.18       714\n",
      "\n",
      "    accuracy                           0.77      3000\n",
      "   macro avg       0.66      0.54      0.52      3000\n",
      "weighted avg       0.72      0.77      0.70      3000\n",
      "\n"
     ]
    }
   ],
   "source": [
    "roc_classification_report_results(\"Logistic Regression\", y_test, y_predict)"
   ]
  },
  {
   "cell_type": "markdown",
   "metadata": {},
   "source": [
    "### Modelo de Arvore de decisão."
   ]
  },
  {
   "cell_type": "markdown",
   "metadata": {},
   "source": [
    "<img src=\"https://www.devops.ae/wp-content/uploads/2021/04/decision-tree-classification-algorithm.png\" align=\"left\">"
   ]
  },
  {
   "cell_type": "markdown",
   "metadata": {},
   "source": [
    "#### Instânciando o algoritmo."
   ]
  },
  {
   "cell_type": "code",
   "execution_count": 60,
   "metadata": {
    "ExecuteTime": {
     "end_time": "2022-01-16T22:03:29.772773Z",
     "start_time": "2022-01-16T22:03:29.764772Z"
    }
   },
   "outputs": [],
   "source": [
    "from sklearn.tree import DecisionTreeClassifier\n",
    "dtree = DecisionTreeClassifier()"
   ]
  },
  {
   "cell_type": "markdown",
   "metadata": {},
   "source": [
    "#### Realizando o treinamento."
   ]
  },
  {
   "cell_type": "code",
   "execution_count": 61,
   "metadata": {
    "ExecuteTime": {
     "end_time": "2022-01-16T22:03:38.432370Z",
     "start_time": "2022-01-16T22:03:38.381699Z"
    },
    "scrolled": true
   },
   "outputs": [],
   "source": [
    "dtree = dtree.fit(X_train,y_train)"
   ]
  },
  {
   "cell_type": "markdown",
   "metadata": {},
   "source": [
    "#### Calculando as predições."
   ]
  },
  {
   "cell_type": "code",
   "execution_count": 63,
   "metadata": {
    "ExecuteTime": {
     "end_time": "2022-01-16T22:04:19.074176Z",
     "start_time": "2022-01-16T22:04:19.058552Z"
    }
   },
   "outputs": [],
   "source": [
    "y_predict = dtree.predict(X_test)"
   ]
  },
  {
   "cell_type": "markdown",
   "metadata": {},
   "source": [
    "#### Avaliando o resultado."
   ]
  },
  {
   "cell_type": "code",
   "execution_count": 64,
   "metadata": {
    "ExecuteTime": {
     "end_time": "2022-01-16T22:04:35.684047Z",
     "start_time": "2022-01-16T22:04:35.661870Z"
    }
   },
   "outputs": [
    {
     "name": "stdout",
     "output_type": "stream",
     "text": [
      "Accuracy = 0.73\n"
     ]
    }
   ],
   "source": [
    "accuracy_result(y_test, y_predict)"
   ]
  },
  {
   "cell_type": "code",
   "execution_count": 65,
   "metadata": {
    "ExecuteTime": {
     "end_time": "2022-01-16T22:05:34.515392Z",
     "start_time": "2022-01-16T22:05:34.415109Z"
    }
   },
   "outputs": [
    {
     "name": "stdout",
     "output_type": "stream",
     "text": [
      "\n",
      "Decision Tree AUC = 0.6356852452266996\n",
      "\n",
      "              precision    recall  f1-score   support\n",
      "\n",
      "           0       0.83      0.81      0.82      2286\n",
      "           1       0.43      0.46      0.45       714\n",
      "\n",
      "    accuracy                           0.73      3000\n",
      "   macro avg       0.63      0.64      0.63      3000\n",
      "weighted avg       0.73      0.73      0.73      3000\n",
      "\n"
     ]
    }
   ],
   "source": [
    "roc_classification_report_results(\"Decision Tree\", y_test, y_predict)"
   ]
  },
  {
   "cell_type": "markdown",
   "metadata": {},
   "source": [
    "### Modelo de Floresta Aleatória (Random Forest)"
   ]
  },
  {
   "cell_type": "markdown",
   "metadata": {},
   "source": [
    "<img src=\"https://miro.medium.com/max/1200/0*YEwFetXQGPB8aDFV\" align=\"left\">"
   ]
  },
  {
   "cell_type": "markdown",
   "metadata": {},
   "source": [
    "#### Instânciando o algoritmo."
   ]
  },
  {
   "cell_type": "code",
   "execution_count": 66,
   "metadata": {
    "ExecuteTime": {
     "end_time": "2022-01-16T22:11:17.251037Z",
     "start_time": "2022-01-16T22:11:16.746991Z"
    }
   },
   "outputs": [],
   "source": [
    "from sklearn.ensemble import RandomForestClassifier"
   ]
  },
  {
   "cell_type": "code",
   "execution_count": 67,
   "metadata": {
    "ExecuteTime": {
     "end_time": "2022-01-16T22:11:22.903766Z",
     "start_time": "2022-01-16T22:11:22.887733Z"
    }
   },
   "outputs": [],
   "source": [
    "rf = RandomForestClassifier()"
   ]
  },
  {
   "cell_type": "markdown",
   "metadata": {},
   "source": [
    "#### Realizando o treinamento."
   ]
  },
  {
   "cell_type": "code",
   "execution_count": 68,
   "metadata": {
    "ExecuteTime": {
     "end_time": "2022-01-16T22:11:35.921450Z",
     "start_time": "2022-01-16T22:11:34.684823Z"
    },
    "scrolled": true
   },
   "outputs": [],
   "source": [
    "rf = rf.fit(X_train,y_train)"
   ]
  },
  {
   "cell_type": "markdown",
   "metadata": {},
   "source": [
    "#### Calculando as predições."
   ]
  },
  {
   "cell_type": "code",
   "execution_count": 69,
   "metadata": {
    "ExecuteTime": {
     "end_time": "2022-01-16T22:11:38.315393Z",
     "start_time": "2022-01-16T22:11:38.233803Z"
    }
   },
   "outputs": [],
   "source": [
    "y_predict = rf.predict(X_test)"
   ]
  },
  {
   "cell_type": "markdown",
   "metadata": {},
   "source": [
    "#### Avaliando o resultado."
   ]
  },
  {
   "cell_type": "code",
   "execution_count": 70,
   "metadata": {
    "ExecuteTime": {
     "end_time": "2022-01-16T22:11:42.512368Z",
     "start_time": "2022-01-16T22:11:42.500399Z"
    }
   },
   "outputs": [
    {
     "name": "stdout",
     "output_type": "stream",
     "text": [
      "Accuracy = 0.80\n"
     ]
    }
   ],
   "source": [
    "accuracy_result(y_test, y_predict)"
   ]
  },
  {
   "cell_type": "code",
   "execution_count": 71,
   "metadata": {
    "ExecuteTime": {
     "end_time": "2022-01-16T22:11:46.931090Z",
     "start_time": "2022-01-16T22:11:46.913393Z"
    }
   },
   "outputs": [
    {
     "name": "stdout",
     "output_type": "stream",
     "text": [
      "\n",
      "Random Forest AUC = 0.6889690259305823\n",
      "\n",
      "              precision    recall  f1-score   support\n",
      "\n",
      "           0       0.85      0.91      0.87      2286\n",
      "           1       0.61      0.47      0.53       714\n",
      "\n",
      "    accuracy                           0.80      3000\n",
      "   macro avg       0.73      0.69      0.70      3000\n",
      "weighted avg       0.79      0.80      0.79      3000\n",
      "\n"
     ]
    }
   ],
   "source": [
    "roc_classification_report_results(\"Random Forest\", y_test, y_predict)"
   ]
  },
  {
   "cell_type": "code",
   "execution_count": null,
   "metadata": {},
   "outputs": [],
   "source": []
  },
  {
   "cell_type": "markdown",
   "metadata": {},
   "source": [
    "### Pycaret"
   ]
  },
  {
   "cell_type": "markdown",
   "metadata": {},
   "source": [
    "<img src=\"https://miro.medium.com/max/1024/0*T3u62CFmhRgur_ZZ.png\" align=\"left\">"
   ]
  },
  {
   "cell_type": "markdown",
   "metadata": {},
   "source": [
    "<img src=\"https://i.pinimg.com/originals/28/c3/de/28c3decb69d2b89c42e3979a9565d84b.jpg\" align=\"left\">"
   ]
  },
  {
   "cell_type": "code",
   "execution_count": 75,
   "metadata": {
    "ExecuteTime": {
     "end_time": "2022-01-16T22:36:10.736110Z",
     "start_time": "2022-01-16T22:33:26.587060Z"
    },
    "jupyter": {
     "outputs_hidden": true
    },
    "tags": []
   },
   "outputs": [
    {
     "name": "stdout",
     "output_type": "stream",
     "text": [
      "Collecting pycaret\n",
      "  Using cached pycaret-2.3.6-py3-none-any.whl (301 kB)\n",
      "Requirement already satisfied: kmodes>=0.10.1 in c:\\users\\thiago\\anaconda3\\lib\\site-packages (from pycaret) (0.11.1)\n",
      "Requirement already satisfied: nltk in c:\\users\\thiago\\anaconda3\\lib\\site-packages (from pycaret) (3.5)\n",
      "Collecting pandas-profiling>=2.8.0\n",
      "  Using cached pandas_profiling-3.1.0-py2.py3-none-any.whl (261 kB)\n",
      "Requirement already satisfied: IPython in c:\\users\\thiago\\anaconda3\\lib\\site-packages (from pycaret) (7.19.0)\n",
      "Requirement already satisfied: ipywidgets in c:\\users\\thiago\\anaconda3\\lib\\site-packages (from pycaret) (7.5.1)\n",
      "Collecting spacy<2.4.0\n",
      "  Using cached spacy-2.3.7-cp38-cp38-win_amd64.whl (9.7 MB)\n",
      "Collecting mlflow\n",
      "  Using cached mlflow-1.22.0-py3-none-any.whl (15.5 MB)\n",
      "Requirement already satisfied: matplotlib in c:\\users\\thiago\\anaconda3\\lib\\site-packages (from pycaret) (3.3.2)\n",
      "Collecting yellowbrick>=1.0.1\n",
      "  Using cached yellowbrick-1.3.post1-py3-none-any.whl (271 kB)\n",
      "Requirement already satisfied: scikit-learn==0.23.2 in c:\\users\\thiago\\anaconda3\\lib\\site-packages (from pycaret) (0.23.2)\n",
      "Requirement already satisfied: Boruta in c:\\users\\thiago\\anaconda3\\lib\\site-packages (from pycaret) (0.3)\n",
      "Requirement already satisfied: seaborn in c:\\users\\thiago\\anaconda3\\lib\\site-packages (from pycaret) (0.11.1)\n",
      "Processing c:\\users\\thiago\\appdata\\local\\pip\\cache\\wheels\\6b\\76\\62\\6da97734911ffcbdd559fd1a3f28526321f0ae699182a23866\\cufflinks-0.17.3-py3-none-any.whl\n",
      "Requirement already satisfied: plotly>=4.4.1 in c:\\users\\thiago\\anaconda3\\lib\\site-packages (from pycaret) (4.14.3)\n",
      "Processing c:\\users\\thiago\\appdata\\local\\pip\\cache\\wheels\\f2\\64\\75\\df601da9514261c8cb0830b9515d2b94b5a51f09ddeae92b9e\\umap_learn-0.5.2-py3-none-any.whl\n",
      "Processing c:\\users\\thiago\\appdata\\local\\pip\\cache\\wheels\\7c\\a1\\43\\7e69ab42be37151d91eee7daee202561a2fe01e2f48388b153\\pyod-0.9.7-py3-none-any.whl\n",
      "Processing c:\\users\\thiago\\appdata\\local\\pip\\cache\\wheels\\90\\61\\ec\\9dbe9efc3acf9c4e37ba70fbbcc3f3a0ebd121060aa593181a\\pyldavis-3.3.1-py2.py3-none-any.whl\n",
      "Requirement already satisfied: pyyaml<6.0.0 in c:\\users\\thiago\\anaconda3\\lib\\site-packages (from pycaret) (5.3.1)\n",
      "Collecting textblob\n",
      "  Using cached textblob-0.17.1-py2.py3-none-any.whl (636 kB)\n",
      "Collecting scikit-plot\n",
      "  Using cached scikit_plot-0.3.7-py3-none-any.whl (33 kB)\n",
      "Collecting imbalanced-learn==0.7.0\n",
      "  Using cached imbalanced_learn-0.7.0-py3-none-any.whl (167 kB)\n",
      "Requirement already satisfied: joblib in c:\\users\\thiago\\anaconda3\\lib\\site-packages (from pycaret) (0.17.0)\n",
      "Requirement already satisfied: pandas in c:\\users\\thiago\\anaconda3\\lib\\site-packages (from pycaret) (1.1.3)\n",
      "Collecting wordcloud\n",
      "  Using cached wordcloud-1.8.1-cp38-cp38-win_amd64.whl (155 kB)\n",
      "Requirement already satisfied: scipy<=1.5.4 in c:\\users\\thiago\\anaconda3\\lib\\site-packages (from pycaret) (1.5.2)\n",
      "Collecting mlxtend>=0.17.0\n",
      "  Using cached mlxtend-0.19.0-py2.py3-none-any.whl (1.3 MB)\n",
      "Collecting lightgbm>=2.3.1\n",
      "  Using cached lightgbm-3.3.2-py3-none-win_amd64.whl (1.0 MB)\n",
      "Collecting gensim<4.0.0\n",
      "  Using cached gensim-3.8.3-cp38-cp38-win_amd64.whl (24.2 MB)\n",
      "Requirement already satisfied: numpy>=1.10.4 in c:\\users\\thiago\\anaconda3\\lib\\site-packages (from kmodes>=0.10.1->pycaret) (1.20.1+mkl)\n",
      "Requirement already satisfied: regex in c:\\users\\thiago\\anaconda3\\lib\\site-packages (from nltk->pycaret) (2020.10.15)\n",
      "Requirement already satisfied: tqdm in c:\\users\\thiago\\anaconda3\\lib\\site-packages (from nltk->pycaret) (4.50.2)\n",
      "Requirement already satisfied: click in c:\\users\\thiago\\anaconda3\\lib\\site-packages (from nltk->pycaret) (7.1.2)\n",
      "Requirement already satisfied: tangled-up-in-unicode==0.1.0 in c:\\users\\thiago\\anaconda3\\lib\\site-packages (from pandas-profiling>=2.8.0->pycaret) (0.1.0)\n",
      "Requirement already satisfied: jinja2>=2.11.1 in c:\\users\\thiago\\anaconda3\\lib\\site-packages (from pandas-profiling>=2.8.0->pycaret) (2.11.2)\n",
      "Requirement already satisfied: pydantic>=1.8.1 in c:\\users\\thiago\\anaconda3\\lib\\site-packages (from pandas-profiling>=2.8.0->pycaret) (1.9.0)\n",
      "Requirement already satisfied: htmlmin>=0.1.12 in c:\\users\\thiago\\anaconda3\\lib\\site-packages (from pandas-profiling>=2.8.0->pycaret) (0.1.12)\n",
      "Requirement already satisfied: markupsafe~=2.0.1 in c:\\users\\thiago\\anaconda3\\lib\\site-packages (from pandas-profiling>=2.8.0->pycaret) (2.0.1)\n",
      "Requirement already satisfied: requests>=2.24.0 in c:\\users\\thiago\\anaconda3\\lib\\site-packages (from pandas-profiling>=2.8.0->pycaret) (2.25.1)\n",
      "Collecting phik>=0.11.1\n",
      "  Using cached phik-0.12.0-cp38-cp38-win_amd64.whl (659 kB)\n",
      "Requirement already satisfied: multimethod>=1.4 in c:\\users\\thiago\\anaconda3\\lib\\site-packages (from pandas-profiling>=2.8.0->pycaret) (1.6)\n",
      "Requirement already satisfied: missingno>=0.4.2 in c:\\users\\thiago\\anaconda3\\lib\\site-packages (from pandas-profiling>=2.8.0->pycaret) (0.5.0)\n",
      "Collecting visions[type_image_path]==0.7.4\n",
      "  Using cached visions-0.7.4-py3-none-any.whl (102 kB)\n",
      "Requirement already satisfied: backcall in c:\\users\\thiago\\anaconda3\\lib\\site-packages (from IPython->pycaret) (0.2.0)\n",
      "Requirement already satisfied: pickleshare in c:\\users\\thiago\\anaconda3\\lib\\site-packages (from IPython->pycaret) (0.7.5)\n",
      "Requirement already satisfied: colorama; sys_platform == \"win32\" in c:\\users\\thiago\\anaconda3\\lib\\site-packages (from IPython->pycaret) (0.4.4)\n",
      "Requirement already satisfied: pygments in c:\\users\\thiago\\anaconda3\\lib\\site-packages (from IPython->pycaret) (2.7.2)\n",
      "Requirement already satisfied: decorator in c:\\users\\thiago\\anaconda3\\lib\\site-packages (from IPython->pycaret) (4.4.2)\n",
      "Requirement already satisfied: traitlets>=4.2 in c:\\users\\thiago\\anaconda3\\lib\\site-packages (from IPython->pycaret) (5.0.5)\n",
      "Requirement already satisfied: jedi>=0.10 in c:\\users\\thiago\\anaconda3\\lib\\site-packages (from IPython->pycaret) (0.17.1)\n",
      "Requirement already satisfied: prompt-toolkit!=3.0.0,!=3.0.1,<3.1.0,>=2.0.0 in c:\\users\\thiago\\anaconda3\\lib\\site-packages (from IPython->pycaret) (3.0.8)\n",
      "Requirement already satisfied: setuptools>=18.5 in c:\\users\\thiago\\anaconda3\\lib\\site-packages (from IPython->pycaret) (54.0.0)\n",
      "Requirement already satisfied: widgetsnbextension~=3.5.0 in c:\\users\\thiago\\anaconda3\\lib\\site-packages (from ipywidgets->pycaret) (3.5.1)\n",
      "Requirement already satisfied: ipykernel>=4.5.1 in c:\\users\\thiago\\anaconda3\\lib\\site-packages (from ipywidgets->pycaret) (5.3.4)\n",
      "Requirement already satisfied: nbformat>=4.2.0 in c:\\users\\thiago\\anaconda3\\lib\\site-packages (from ipywidgets->pycaret) (5.0.8)\n",
      "Collecting catalogue<1.1.0,>=0.0.7\n",
      "  Using cached catalogue-1.0.0-py2.py3-none-any.whl (7.7 kB)\n",
      "Collecting thinc<7.5.0,>=7.4.1\n",
      "  Using cached thinc-7.4.5-cp38-cp38-win_amd64.whl (910 kB)\n",
      "Collecting blis<0.8.0,>=0.4.0\n",
      "  Using cached blis-0.7.5-cp38-cp38-win_amd64.whl (6.6 MB)\n",
      "Collecting plac<1.2.0,>=0.9.6\n",
      "  Using cached plac-1.1.3-py2.py3-none-any.whl (20 kB)\n",
      "Collecting srsly<1.1.0,>=1.0.2\n",
      "  Using cached srsly-1.0.5-cp38-cp38-win_amd64.whl (178 kB)\n",
      "Collecting cymem<2.1.0,>=2.0.2\n",
      "  Using cached cymem-2.0.6-cp38-cp38-win_amd64.whl (36 kB)\n",
      "Collecting wasabi<1.1.0,>=0.4.0\n",
      "  Using cached wasabi-0.9.0-py3-none-any.whl (25 kB)\n",
      "Collecting murmurhash<1.1.0,>=0.28.0\n",
      "  Using cached murmurhash-1.0.6-cp38-cp38-win_amd64.whl (21 kB)\n",
      "Collecting preshed<3.1.0,>=3.0.2\n",
      "  Using cached preshed-3.0.6-cp38-cp38-win_amd64.whl (113 kB)\n"
     ]
    },
    {
     "name": "stderr",
     "output_type": "stream",
     "text": [
      "WARNING: Error parsing requirements for jupyter-highlight-selected-word: [Errno 2] No such file or directory: 'c:\\\\users\\\\thiago\\\\anaconda3\\\\lib\\\\site-packages\\\\jupyter_highlight_selected_word-0.2.0.dist-info\\\\METADATA'\n",
      "WARNING: Error parsing requirements for jupyter-contrib-nbextensions: [Errno 2] No such file or directory: 'c:\\\\users\\\\thiago\\\\anaconda3\\\\lib\\\\site-packages\\\\jupyter_contrib_nbextensions-0.5.1.dist-info\\\\METADATA'\n",
      "ERROR: After October 2020 you may experience errors when installing or updating packages. This is because pip will change the way that it resolves dependency conflicts.\n",
      "\n",
      "We recommend you use --use-feature=2020-resolver to test your packages with the new resolver before it becomes the default.\n",
      "\n",
      "pandas-profiling 3.1.0 requires joblib~=1.0.1, but you'll have joblib 0.17.0 which is incompatible.\n",
      "yellowbrick 1.3.post1 requires numpy<1.20,>=1.16.0, but you'll have numpy 1.20.1+mkl which is incompatible.\n",
      "pyldavis 3.3.1 requires pandas>=1.2.0, but you'll have pandas 1.1.3 which is incompatible.\n"
     ]
    },
    {
     "name": "stdout",
     "output_type": "stream",
     "text": [
      "Collecting waitress; platform_system == \"Windows\"\n",
      "  Using cached waitress-2.0.0-py3-none-any.whl (56 kB)\n",
      "Requirement already satisfied: entrypoints in c:\\users\\thiago\\anaconda3\\lib\\site-packages (from mlflow->pycaret) (0.3)\n",
      "Requirement already satisfied: gitpython>=2.1.0 in c:\\users\\thiago\\anaconda3\\lib\\site-packages (from mlflow->pycaret) (3.1.24)\n",
      "Collecting prometheus-flask-exporter\n",
      "  Using cached prometheus_flask_exporter-0.18.7-py3-none-any.whl (17 kB)\n",
      "Collecting docker>=4.0.0\n",
      "  Using cached docker-5.0.3-py2.py3-none-any.whl (146 kB)\n",
      "Processing c:\\users\\thiago\\appdata\\local\\pip\\cache\\wheels\\9d\\de\\6d\\ca8d461ec29e010b1267d7353d0b058819770f7680bb9360e4\\alembic-1.4.1-py2.py3-none-any.whl\n",
      "Collecting sqlparse>=0.3.1\n",
      "  Using cached sqlparse-0.4.2-py3-none-any.whl (42 kB)\n",
      "Requirement already satisfied: protobuf>=3.7.0 in c:\\users\\thiago\\anaconda3\\lib\\site-packages (from mlflow->pycaret) (3.18.1)\n",
      "Requirement already satisfied: Flask in c:\\users\\thiago\\anaconda3\\lib\\site-packages (from mlflow->pycaret) (1.1.2)\n",
      "Processing c:\\users\\thiago\\appdata\\local\\pip\\cache\\wheels\\41\\66\\9f\\fd5eb13d3397db11750e995d82055dca2528a2da030e144b2d\\databricks_cli-0.16.2-py3-none-any.whl\n",
      "Requirement already satisfied: sqlalchemy in c:\\users\\thiago\\anaconda3\\lib\\site-packages (from mlflow->pycaret) (1.3.20)\n",
      "Requirement already satisfied: cloudpickle in c:\\users\\thiago\\anaconda3\\lib\\site-packages (from mlflow->pycaret) (1.6.0)\n",
      "Collecting querystring-parser\n",
      "  Using cached querystring_parser-1.2.4-py2.py3-none-any.whl (7.9 kB)\n",
      "Requirement already satisfied: packaging in c:\\users\\thiago\\anaconda3\\lib\\site-packages (from mlflow->pycaret) (20.4)\n",
      "Requirement already satisfied: pytz in c:\\users\\thiago\\anaconda3\\lib\\site-packages (from mlflow->pycaret) (2020.1)\n",
      "Collecting importlib-metadata!=4.7.0,>=3.7.0\n",
      "  Using cached importlib_metadata-4.10.0-py3-none-any.whl (17 kB)\n",
      "Requirement already satisfied: pyparsing!=2.0.4,!=2.1.2,!=2.1.6,>=2.0.3 in c:\\users\\thiago\\anaconda3\\lib\\site-packages (from matplotlib->pycaret) (2.4.7)\n",
      "Requirement already satisfied: kiwisolver>=1.0.1 in c:\\users\\thiago\\anaconda3\\lib\\site-packages (from matplotlib->pycaret) (1.3.0)\n",
      "Requirement already satisfied: pillow>=6.2.0 in c:\\users\\thiago\\anaconda3\\lib\\site-packages (from matplotlib->pycaret) (8.0.1)\n",
      "Requirement already satisfied: cycler>=0.10 in c:\\users\\thiago\\anaconda3\\lib\\site-packages (from matplotlib->pycaret) (0.10.0)\n",
      "Requirement already satisfied: python-dateutil>=2.1 in c:\\users\\thiago\\anaconda3\\lib\\site-packages (from matplotlib->pycaret) (2.8.1)\n",
      "Requirement already satisfied: certifi>=2020.06.20 in c:\\users\\thiago\\anaconda3\\lib\\site-packages (from matplotlib->pycaret) (2020.6.20)\n",
      "Requirement already satisfied: threadpoolctl>=2.0.0 in c:\\users\\thiago\\anaconda3\\lib\\site-packages (from scikit-learn==0.23.2->pycaret) (2.1.0)\n",
      "Requirement already satisfied: six>=1.9.0 in c:\\users\\thiago\\anaconda3\\lib\\site-packages (from cufflinks>=0.17.0->pycaret) (1.15.0)\n",
      "Collecting colorlover>=0.2.1\n",
      "  Using cached colorlover-0.3.0-py3-none-any.whl (8.9 kB)\n",
      "Requirement already satisfied: retrying>=1.3.3 in c:\\users\\thiago\\anaconda3\\lib\\site-packages (from plotly>=4.4.1->pycaret) (1.3.3)\n",
      "Requirement already satisfied: numba>=0.49 in c:\\users\\thiago\\anaconda3\\lib\\site-packages (from umap-learn->pycaret) (0.51.2)\n",
      "Processing c:\\users\\thiago\\appdata\\local\\pip\\cache\\wheels\\e4\\0e\\b5\\07c0c231aacb04e5d1046fe7459bb27ea79f95b5edbe88e435\\pynndescent-0.5.5-py3-none-any.whl\n",
      "Requirement already satisfied: statsmodels in c:\\users\\thiago\\anaconda3\\lib\\site-packages (from pyod->pycaret) (0.12.0)\n",
      "Requirement already satisfied: future in c:\\users\\thiago\\anaconda3\\lib\\site-packages (from pyLDAvis->pycaret) (0.18.2)\n",
      "Collecting funcy\n",
      "  Using cached funcy-1.17-py2.py3-none-any.whl (33 kB)\n",
      "Requirement already satisfied: sklearn in c:\\users\\thiago\\anaconda3\\lib\\site-packages (from pyLDAvis->pycaret) (0.0)\n",
      "Requirement already satisfied: numexpr in c:\\users\\thiago\\anaconda3\\lib\\site-packages (from pyLDAvis->pycaret) (2.7.1)\n",
      "Requirement already satisfied: wheel in c:\\users\\thiago\\anaconda3\\lib\\site-packages (from lightgbm>=2.3.1->pycaret) (0.35.1)\n",
      "Collecting smart-open>=1.8.1\n",
      "  Using cached smart_open-5.2.1-py3-none-any.whl (58 kB)\n",
      "Collecting Cython==0.29.14\n",
      "  Using cached Cython-0.29.14-cp38-cp38-win_amd64.whl (1.7 MB)\n",
      "Requirement already satisfied: typing-extensions>=3.7.4.3 in c:\\users\\thiago\\anaconda3\\lib\\site-packages (from pydantic>=1.8.1->pandas-profiling>=2.8.0->pycaret) (3.7.4.3)\n",
      "Requirement already satisfied: chardet<5,>=3.0.2 in c:\\users\\thiago\\anaconda3\\lib\\site-packages (from requests>=2.24.0->pandas-profiling>=2.8.0->pycaret) (3.0.4)\n",
      "Requirement already satisfied: idna<3,>=2.5 in c:\\users\\thiago\\anaconda3\\lib\\site-packages (from requests>=2.24.0->pandas-profiling>=2.8.0->pycaret) (2.10)\n",
      "Requirement already satisfied: urllib3<1.27,>=1.21.1 in c:\\users\\thiago\\anaconda3\\lib\\site-packages (from requests>=2.24.0->pandas-profiling>=2.8.0->pycaret) (1.26.4)\n",
      "Requirement already satisfied: attrs>=19.3.0 in c:\\users\\thiago\\anaconda3\\lib\\site-packages (from visions[type_image_path]==0.7.4->pandas-profiling>=2.8.0->pycaret) (20.3.0)\n",
      "Requirement already satisfied: networkx>=2.4 in c:\\users\\thiago\\anaconda3\\lib\\site-packages (from visions[type_image_path]==0.7.4->pandas-profiling>=2.8.0->pycaret) (2.5)\n",
      "Processing c:\\users\\thiago\\appdata\\local\\pip\\cache\\wheels\\48\\a1\\7f\\096c1269d6bf78d4768180602579b35a1e8cb1250bb4b40c74\\imagehash-4.2.1-py2.py3-none-any.whl\n",
      "Requirement already satisfied: ipython-genutils in c:\\users\\thiago\\anaconda3\\lib\\site-packages (from traitlets>=4.2->IPython->pycaret) (0.2.0)\n",
      "Requirement already satisfied: parso<0.8.0,>=0.7.0 in c:\\users\\thiago\\anaconda3\\lib\\site-packages (from jedi>=0.10->IPython->pycaret) (0.7.0)\n",
      "Requirement already satisfied: wcwidth in c:\\users\\thiago\\anaconda3\\lib\\site-packages (from prompt-toolkit!=3.0.0,!=3.0.1,<3.1.0,>=2.0.0->IPython->pycaret) (0.2.5)\n",
      "Requirement already satisfied: notebook>=4.4.1 in c:\\users\\thiago\\anaconda3\\lib\\site-packages (from widgetsnbextension~=3.5.0->ipywidgets->pycaret) (6.1.4)\n",
      "Requirement already satisfied: tornado>=4.2 in c:\\users\\thiago\\anaconda3\\lib\\site-packages (from ipykernel>=4.5.1->ipywidgets->pycaret) (6.0.4)\n",
      "Requirement already satisfied: jupyter-client in c:\\users\\thiago\\anaconda3\\lib\\site-packages (from ipykernel>=4.5.1->ipywidgets->pycaret) (6.1.7)\n",
      "Requirement already satisfied: jsonschema!=2.5.0,>=2.4 in c:\\users\\thiago\\anaconda3\\lib\\site-packages (from nbformat>=4.2.0->ipywidgets->pycaret) (3.2.0)\n",
      "Requirement already satisfied: jupyter-core in c:\\users\\thiago\\anaconda3\\lib\\site-packages (from nbformat>=4.2.0->ipywidgets->pycaret) (4.6.3)\n",
      "Requirement already satisfied: gitdb<5,>=4.0.1 in c:\\users\\thiago\\anaconda3\\lib\\site-packages (from gitpython>=2.1.0->mlflow->pycaret) (4.0.7)\n",
      "Requirement already satisfied: prometheus-client in c:\\users\\thiago\\anaconda3\\lib\\site-packages (from prometheus-flask-exporter->mlflow->pycaret) (0.8.0)\n",
      "Requirement already satisfied: pywin32==227; sys_platform == \"win32\" in c:\\users\\thiago\\anaconda3\\lib\\site-packages (from docker>=4.0.0->mlflow->pycaret) (227)\n",
      "Collecting websocket-client>=0.32.0\n",
      "  Using cached websocket_client-1.2.3-py3-none-any.whl (53 kB)\n",
      "Collecting python-editor>=0.3\n",
      "  Using cached python_editor-1.0.4-py3-none-any.whl (4.9 kB)\n",
      "Collecting Mako\n",
      "  Using cached Mako-1.1.6-py2.py3-none-any.whl (75 kB)\n",
      "Requirement already satisfied: Werkzeug>=0.15 in c:\\users\\thiago\\anaconda3\\lib\\site-packages (from Flask->mlflow->pycaret) (1.0.1)\n",
      "Requirement already satisfied: itsdangerous>=0.24 in c:\\users\\thiago\\anaconda3\\lib\\site-packages (from Flask->mlflow->pycaret) (1.1.0)\n",
      "Requirement already satisfied: tabulate>=0.7.7 in c:\\users\\thiago\\anaconda3\\lib\\site-packages (from databricks-cli>=0.8.7->mlflow->pycaret) (0.8.9)\n",
      "Requirement already satisfied: zipp>=0.5 in c:\\users\\thiago\\anaconda3\\lib\\site-packages (from importlib-metadata!=4.7.0,>=3.7.0->mlflow->pycaret) (3.4.0)\n",
      "Requirement already satisfied: llvmlite<0.35,>=0.34.0.dev0 in c:\\users\\thiago\\anaconda3\\lib\\site-packages (from numba>=0.49->umap-learn->pycaret) (0.34.0)\n",
      "Requirement already satisfied: patsy>=0.5 in c:\\users\\thiago\\anaconda3\\lib\\site-packages (from statsmodels->pyod->pycaret) (0.5.1)\n",
      "Requirement already satisfied: PyWavelets in c:\\users\\thiago\\anaconda3\\lib\\site-packages (from imagehash; extra == \"type_image_path\"->visions[type_image_path]==0.7.4->pandas-profiling>=2.8.0->pycaret) (1.1.1)\n",
      "Requirement already satisfied: pyzmq>=17 in c:\\users\\thiago\\anaconda3\\lib\\site-packages (from notebook>=4.4.1->widgetsnbextension~=3.5.0->ipywidgets->pycaret) (19.0.2)\n",
      "Requirement already satisfied: argon2-cffi in c:\\users\\thiago\\anaconda3\\lib\\site-packages (from notebook>=4.4.1->widgetsnbextension~=3.5.0->ipywidgets->pycaret) (20.1.0)\n",
      "Requirement already satisfied: Send2Trash in c:\\users\\thiago\\anaconda3\\lib\\site-packages (from notebook>=4.4.1->widgetsnbextension~=3.5.0->ipywidgets->pycaret) (1.5.0)\n",
      "Requirement already satisfied: nbconvert in c:\\users\\thiago\\anaconda3\\lib\\site-packages (from notebook>=4.4.1->widgetsnbextension~=3.5.0->ipywidgets->pycaret) (6.0.7)\n",
      "Requirement already satisfied: terminado>=0.8.3 in c:\\users\\thiago\\anaconda3\\lib\\site-packages (from notebook>=4.4.1->widgetsnbextension~=3.5.0->ipywidgets->pycaret) (0.9.1)\n",
      "Requirement already satisfied: pyrsistent>=0.14.0 in c:\\users\\thiago\\anaconda3\\lib\\site-packages (from jsonschema!=2.5.0,>=2.4->nbformat>=4.2.0->ipywidgets->pycaret) (0.17.3)\n",
      "Requirement already satisfied: smmap<5,>=3.0.1 in c:\\users\\thiago\\anaconda3\\lib\\site-packages (from gitdb<5,>=4.0.1->gitpython>=2.1.0->mlflow->pycaret) (4.0.0)\n",
      "Requirement already satisfied: cffi>=1.0.0 in c:\\users\\thiago\\anaconda3\\lib\\site-packages (from argon2-cffi->notebook>=4.4.1->widgetsnbextension~=3.5.0->ipywidgets->pycaret) (1.14.3)\n",
      "Requirement already satisfied: jupyterlab-pygments in c:\\users\\thiago\\anaconda3\\lib\\site-packages (from nbconvert->notebook>=4.4.1->widgetsnbextension~=3.5.0->ipywidgets->pycaret) (0.1.2)\n",
      "Requirement already satisfied: pandocfilters>=1.4.1 in c:\\users\\thiago\\anaconda3\\lib\\site-packages (from nbconvert->notebook>=4.4.1->widgetsnbextension~=3.5.0->ipywidgets->pycaret) (1.4.3)\n",
      "Requirement already satisfied: mistune<2,>=0.8.1 in c:\\users\\thiago\\anaconda3\\lib\\site-packages (from nbconvert->notebook>=4.4.1->widgetsnbextension~=3.5.0->ipywidgets->pycaret) (0.8.4)\n",
      "Requirement already satisfied: testpath in c:\\users\\thiago\\anaconda3\\lib\\site-packages (from nbconvert->notebook>=4.4.1->widgetsnbextension~=3.5.0->ipywidgets->pycaret) (0.4.4)\n",
      "Requirement already satisfied: nbclient<0.6.0,>=0.5.0 in c:\\users\\thiago\\anaconda3\\lib\\site-packages (from nbconvert->notebook>=4.4.1->widgetsnbextension~=3.5.0->ipywidgets->pycaret) (0.5.1)\n",
      "Requirement already satisfied: defusedxml in c:\\users\\thiago\\anaconda3\\lib\\site-packages (from nbconvert->notebook>=4.4.1->widgetsnbextension~=3.5.0->ipywidgets->pycaret) (0.6.0)\n",
      "Requirement already satisfied: bleach in c:\\users\\thiago\\anaconda3\\lib\\site-packages (from nbconvert->notebook>=4.4.1->widgetsnbextension~=3.5.0->ipywidgets->pycaret) (3.2.1)\n",
      "Requirement already satisfied: pywinpty>=0.5 in c:\\users\\thiago\\anaconda3\\lib\\site-packages (from terminado>=0.8.3->notebook>=4.4.1->widgetsnbextension~=3.5.0->ipywidgets->pycaret) (0.5.7)\n",
      "Requirement already satisfied: pycparser in c:\\users\\thiago\\anaconda3\\lib\\site-packages (from cffi>=1.0.0->argon2-cffi->notebook>=4.4.1->widgetsnbextension~=3.5.0->ipywidgets->pycaret) (2.20)\n",
      "Requirement already satisfied: async-generator in c:\\users\\thiago\\anaconda3\\lib\\site-packages (from nbclient<0.6.0,>=0.5.0->nbconvert->notebook>=4.4.1->widgetsnbextension~=3.5.0->ipywidgets->pycaret) (1.10)\n",
      "Requirement already satisfied: nest-asyncio in c:\\users\\thiago\\anaconda3\\lib\\site-packages (from nbclient<0.6.0,>=0.5.0->nbconvert->notebook>=4.4.1->widgetsnbextension~=3.5.0->ipywidgets->pycaret) (1.4.2)\n",
      "Requirement already satisfied: webencodings in c:\\users\\thiago\\anaconda3\\lib\\site-packages (from bleach->nbconvert->notebook>=4.4.1->widgetsnbextension~=3.5.0->ipywidgets->pycaret) (0.5.1)\n",
      "Installing collected packages: phik, imagehash, visions, pandas-profiling, catalogue, cymem, murmurhash, preshed, blis, plac, srsly, wasabi, thinc, spacy, waitress, prometheus-flask-exporter, websocket-client, docker, python-editor, Mako, alembic, sqlparse, databricks-cli, querystring-parser, importlib-metadata, mlflow, yellowbrick, colorlover, cufflinks, pynndescent, umap-learn, pyod, funcy, smart-open, Cython, gensim, pyLDAvis, textblob, scikit-plot, imbalanced-learn, wordcloud, mlxtend, lightgbm, pycaret\n",
      "  Attempting uninstall: importlib-metadata\n",
      "    Found existing installation: importlib-metadata 2.0.0\n",
      "    Uninstalling importlib-metadata-2.0.0:\n",
      "      Successfully uninstalled importlib-metadata-2.0.0\n",
      "  Attempting uninstall: Cython\n",
      "    Found existing installation: Cython 0.29.21\n",
      "    Uninstalling Cython-0.29.21:\n",
      "      Successfully uninstalled Cython-0.29.21\n",
      "Successfully installed Cython-0.29.14 Mako-1.1.6 alembic-1.4.1 blis-0.7.5 catalogue-1.0.0 colorlover-0.3.0 cufflinks-0.17.3 cymem-2.0.6 databricks-cli-0.16.2 docker-5.0.3 funcy-1.17 gensim-3.8.3 imagehash-4.2.1 imbalanced-learn-0.7.0 importlib-metadata-4.10.0 lightgbm-3.3.2 mlflow-1.22.0 mlxtend-0.19.0 murmurhash-1.0.6 pandas-profiling-3.1.0 phik-0.12.0 plac-1.1.3 preshed-3.0.6 prometheus-flask-exporter-0.18.7 pyLDAvis-3.3.1 pycaret-2.3.6 pynndescent-0.5.5 pyod-0.9.7 python-editor-1.0.4 querystring-parser-1.2.4 scikit-plot-0.3.7 smart-open-5.2.1 spacy-2.3.7 sqlparse-0.4.2 srsly-1.0.5 textblob-0.17.1 thinc-7.4.5 umap-learn-0.5.2 visions-0.7.4 waitress-2.0.0 wasabi-0.9.0 websocket-client-1.2.3 wordcloud-1.8.1 yellowbrick-1.3.post1\n"
     ]
    }
   ],
   "source": [
    "!pip install pycaret"
   ]
  },
  {
   "cell_type": "markdown",
   "metadata": {},
   "source": [
    "#### Importando os métodos."
   ]
  },
  {
   "cell_type": "code",
   "execution_count": 76,
   "metadata": {
    "ExecuteTime": {
     "end_time": "2022-01-16T22:37:31.046645Z",
     "start_time": "2022-01-16T22:37:04.459428Z"
    }
   },
   "outputs": [],
   "source": [
    "from pycaret.classification import *"
   ]
  },
  {
   "cell_type": "markdown",
   "metadata": {},
   "source": [
    "#### Definindo o Setup."
   ]
  },
  {
   "cell_type": "code",
   "execution_count": 78,
   "metadata": {
    "ExecuteTime": {
     "end_time": "2022-01-16T23:01:01.647762Z",
     "start_time": "2022-01-16T23:00:43.909885Z"
    },
    "scrolled": true,
    "tags": []
   },
   "outputs": [
    {
     "data": {
      "text/html": [
       "<style  type=\"text/css\" >\n",
       "#T_2cc60aeb_7720_11ec_9837_90324b3c0982row29_col1,#T_2cc60aeb_7720_11ec_9837_90324b3c0982row44_col1,#T_2cc60aeb_7720_11ec_9837_90324b3c0982row58_col1{\n",
       "            background-color:  lightgreen;\n",
       "        }</style><table id=\"T_2cc60aeb_7720_11ec_9837_90324b3c0982\" ><thead>    <tr>        <th class=\"blank level0\" ></th>        <th class=\"col_heading level0 col0\" >Description</th>        <th class=\"col_heading level0 col1\" >Value</th>    </tr></thead><tbody>\n",
       "                <tr>\n",
       "                        <th id=\"T_2cc60aeb_7720_11ec_9837_90324b3c0982level0_row0\" class=\"row_heading level0 row0\" >0</th>\n",
       "                        <td id=\"T_2cc60aeb_7720_11ec_9837_90324b3c0982row0_col0\" class=\"data row0 col0\" >session_id</td>\n",
       "                        <td id=\"T_2cc60aeb_7720_11ec_9837_90324b3c0982row0_col1\" class=\"data row0 col1\" >7257</td>\n",
       "            </tr>\n",
       "            <tr>\n",
       "                        <th id=\"T_2cc60aeb_7720_11ec_9837_90324b3c0982level0_row1\" class=\"row_heading level0 row1\" >1</th>\n",
       "                        <td id=\"T_2cc60aeb_7720_11ec_9837_90324b3c0982row1_col0\" class=\"data row1 col0\" >Target</td>\n",
       "                        <td id=\"T_2cc60aeb_7720_11ec_9837_90324b3c0982row1_col1\" class=\"data row1 col1\" >turnover</td>\n",
       "            </tr>\n",
       "            <tr>\n",
       "                        <th id=\"T_2cc60aeb_7720_11ec_9837_90324b3c0982level0_row2\" class=\"row_heading level0 row2\" >2</th>\n",
       "                        <td id=\"T_2cc60aeb_7720_11ec_9837_90324b3c0982row2_col0\" class=\"data row2 col0\" >Target Type</td>\n",
       "                        <td id=\"T_2cc60aeb_7720_11ec_9837_90324b3c0982row2_col1\" class=\"data row2 col1\" >Binary</td>\n",
       "            </tr>\n",
       "            <tr>\n",
       "                        <th id=\"T_2cc60aeb_7720_11ec_9837_90324b3c0982level0_row3\" class=\"row_heading level0 row3\" >3</th>\n",
       "                        <td id=\"T_2cc60aeb_7720_11ec_9837_90324b3c0982row3_col0\" class=\"data row3 col0\" >Label Encoded</td>\n",
       "                        <td id=\"T_2cc60aeb_7720_11ec_9837_90324b3c0982row3_col1\" class=\"data row3 col1\" >None</td>\n",
       "            </tr>\n",
       "            <tr>\n",
       "                        <th id=\"T_2cc60aeb_7720_11ec_9837_90324b3c0982level0_row4\" class=\"row_heading level0 row4\" >4</th>\n",
       "                        <td id=\"T_2cc60aeb_7720_11ec_9837_90324b3c0982row4_col0\" class=\"data row4 col0\" >Original Data</td>\n",
       "                        <td id=\"T_2cc60aeb_7720_11ec_9837_90324b3c0982row4_col1\" class=\"data row4 col1\" >(14998, 5)</td>\n",
       "            </tr>\n",
       "            <tr>\n",
       "                        <th id=\"T_2cc60aeb_7720_11ec_9837_90324b3c0982level0_row5\" class=\"row_heading level0 row5\" >5</th>\n",
       "                        <td id=\"T_2cc60aeb_7720_11ec_9837_90324b3c0982row5_col0\" class=\"data row5 col0\" >Missing Values</td>\n",
       "                        <td id=\"T_2cc60aeb_7720_11ec_9837_90324b3c0982row5_col1\" class=\"data row5 col1\" >False</td>\n",
       "            </tr>\n",
       "            <tr>\n",
       "                        <th id=\"T_2cc60aeb_7720_11ec_9837_90324b3c0982level0_row6\" class=\"row_heading level0 row6\" >6</th>\n",
       "                        <td id=\"T_2cc60aeb_7720_11ec_9837_90324b3c0982row6_col0\" class=\"data row6 col0\" >Numeric Features</td>\n",
       "                        <td id=\"T_2cc60aeb_7720_11ec_9837_90324b3c0982row6_col1\" class=\"data row6 col1\" >4</td>\n",
       "            </tr>\n",
       "            <tr>\n",
       "                        <th id=\"T_2cc60aeb_7720_11ec_9837_90324b3c0982level0_row7\" class=\"row_heading level0 row7\" >7</th>\n",
       "                        <td id=\"T_2cc60aeb_7720_11ec_9837_90324b3c0982row7_col0\" class=\"data row7 col0\" >Categorical Features</td>\n",
       "                        <td id=\"T_2cc60aeb_7720_11ec_9837_90324b3c0982row7_col1\" class=\"data row7 col1\" >0</td>\n",
       "            </tr>\n",
       "            <tr>\n",
       "                        <th id=\"T_2cc60aeb_7720_11ec_9837_90324b3c0982level0_row8\" class=\"row_heading level0 row8\" >8</th>\n",
       "                        <td id=\"T_2cc60aeb_7720_11ec_9837_90324b3c0982row8_col0\" class=\"data row8 col0\" >Ordinal Features</td>\n",
       "                        <td id=\"T_2cc60aeb_7720_11ec_9837_90324b3c0982row8_col1\" class=\"data row8 col1\" >False</td>\n",
       "            </tr>\n",
       "            <tr>\n",
       "                        <th id=\"T_2cc60aeb_7720_11ec_9837_90324b3c0982level0_row9\" class=\"row_heading level0 row9\" >9</th>\n",
       "                        <td id=\"T_2cc60aeb_7720_11ec_9837_90324b3c0982row9_col0\" class=\"data row9 col0\" >High Cardinality Features</td>\n",
       "                        <td id=\"T_2cc60aeb_7720_11ec_9837_90324b3c0982row9_col1\" class=\"data row9 col1\" >False</td>\n",
       "            </tr>\n",
       "            <tr>\n",
       "                        <th id=\"T_2cc60aeb_7720_11ec_9837_90324b3c0982level0_row10\" class=\"row_heading level0 row10\" >10</th>\n",
       "                        <td id=\"T_2cc60aeb_7720_11ec_9837_90324b3c0982row10_col0\" class=\"data row10 col0\" >High Cardinality Method</td>\n",
       "                        <td id=\"T_2cc60aeb_7720_11ec_9837_90324b3c0982row10_col1\" class=\"data row10 col1\" >None</td>\n",
       "            </tr>\n",
       "            <tr>\n",
       "                        <th id=\"T_2cc60aeb_7720_11ec_9837_90324b3c0982level0_row11\" class=\"row_heading level0 row11\" >11</th>\n",
       "                        <td id=\"T_2cc60aeb_7720_11ec_9837_90324b3c0982row11_col0\" class=\"data row11 col0\" >Transformed Train Set</td>\n",
       "                        <td id=\"T_2cc60aeb_7720_11ec_9837_90324b3c0982row11_col1\" class=\"data row11 col1\" >(10498, 4)</td>\n",
       "            </tr>\n",
       "            <tr>\n",
       "                        <th id=\"T_2cc60aeb_7720_11ec_9837_90324b3c0982level0_row12\" class=\"row_heading level0 row12\" >12</th>\n",
       "                        <td id=\"T_2cc60aeb_7720_11ec_9837_90324b3c0982row12_col0\" class=\"data row12 col0\" >Transformed Test Set</td>\n",
       "                        <td id=\"T_2cc60aeb_7720_11ec_9837_90324b3c0982row12_col1\" class=\"data row12 col1\" >(4500, 4)</td>\n",
       "            </tr>\n",
       "            <tr>\n",
       "                        <th id=\"T_2cc60aeb_7720_11ec_9837_90324b3c0982level0_row13\" class=\"row_heading level0 row13\" >13</th>\n",
       "                        <td id=\"T_2cc60aeb_7720_11ec_9837_90324b3c0982row13_col0\" class=\"data row13 col0\" >Shuffle Train-Test</td>\n",
       "                        <td id=\"T_2cc60aeb_7720_11ec_9837_90324b3c0982row13_col1\" class=\"data row13 col1\" >True</td>\n",
       "            </tr>\n",
       "            <tr>\n",
       "                        <th id=\"T_2cc60aeb_7720_11ec_9837_90324b3c0982level0_row14\" class=\"row_heading level0 row14\" >14</th>\n",
       "                        <td id=\"T_2cc60aeb_7720_11ec_9837_90324b3c0982row14_col0\" class=\"data row14 col0\" >Stratify Train-Test</td>\n",
       "                        <td id=\"T_2cc60aeb_7720_11ec_9837_90324b3c0982row14_col1\" class=\"data row14 col1\" >True</td>\n",
       "            </tr>\n",
       "            <tr>\n",
       "                        <th id=\"T_2cc60aeb_7720_11ec_9837_90324b3c0982level0_row15\" class=\"row_heading level0 row15\" >15</th>\n",
       "                        <td id=\"T_2cc60aeb_7720_11ec_9837_90324b3c0982row15_col0\" class=\"data row15 col0\" >Fold Generator</td>\n",
       "                        <td id=\"T_2cc60aeb_7720_11ec_9837_90324b3c0982row15_col1\" class=\"data row15 col1\" >StratifiedKFold</td>\n",
       "            </tr>\n",
       "            <tr>\n",
       "                        <th id=\"T_2cc60aeb_7720_11ec_9837_90324b3c0982level0_row16\" class=\"row_heading level0 row16\" >16</th>\n",
       "                        <td id=\"T_2cc60aeb_7720_11ec_9837_90324b3c0982row16_col0\" class=\"data row16 col0\" >Fold Number</td>\n",
       "                        <td id=\"T_2cc60aeb_7720_11ec_9837_90324b3c0982row16_col1\" class=\"data row16 col1\" >10</td>\n",
       "            </tr>\n",
       "            <tr>\n",
       "                        <th id=\"T_2cc60aeb_7720_11ec_9837_90324b3c0982level0_row17\" class=\"row_heading level0 row17\" >17</th>\n",
       "                        <td id=\"T_2cc60aeb_7720_11ec_9837_90324b3c0982row17_col0\" class=\"data row17 col0\" >CPU Jobs</td>\n",
       "                        <td id=\"T_2cc60aeb_7720_11ec_9837_90324b3c0982row17_col1\" class=\"data row17 col1\" >-1</td>\n",
       "            </tr>\n",
       "            <tr>\n",
       "                        <th id=\"T_2cc60aeb_7720_11ec_9837_90324b3c0982level0_row18\" class=\"row_heading level0 row18\" >18</th>\n",
       "                        <td id=\"T_2cc60aeb_7720_11ec_9837_90324b3c0982row18_col0\" class=\"data row18 col0\" >Use GPU</td>\n",
       "                        <td id=\"T_2cc60aeb_7720_11ec_9837_90324b3c0982row18_col1\" class=\"data row18 col1\" >False</td>\n",
       "            </tr>\n",
       "            <tr>\n",
       "                        <th id=\"T_2cc60aeb_7720_11ec_9837_90324b3c0982level0_row19\" class=\"row_heading level0 row19\" >19</th>\n",
       "                        <td id=\"T_2cc60aeb_7720_11ec_9837_90324b3c0982row19_col0\" class=\"data row19 col0\" >Log Experiment</td>\n",
       "                        <td id=\"T_2cc60aeb_7720_11ec_9837_90324b3c0982row19_col1\" class=\"data row19 col1\" >False</td>\n",
       "            </tr>\n",
       "            <tr>\n",
       "                        <th id=\"T_2cc60aeb_7720_11ec_9837_90324b3c0982level0_row20\" class=\"row_heading level0 row20\" >20</th>\n",
       "                        <td id=\"T_2cc60aeb_7720_11ec_9837_90324b3c0982row20_col0\" class=\"data row20 col0\" >Experiment Name</td>\n",
       "                        <td id=\"T_2cc60aeb_7720_11ec_9837_90324b3c0982row20_col1\" class=\"data row20 col1\" >clf-default-name</td>\n",
       "            </tr>\n",
       "            <tr>\n",
       "                        <th id=\"T_2cc60aeb_7720_11ec_9837_90324b3c0982level0_row21\" class=\"row_heading level0 row21\" >21</th>\n",
       "                        <td id=\"T_2cc60aeb_7720_11ec_9837_90324b3c0982row21_col0\" class=\"data row21 col0\" >USI</td>\n",
       "                        <td id=\"T_2cc60aeb_7720_11ec_9837_90324b3c0982row21_col1\" class=\"data row21 col1\" >ce3a</td>\n",
       "            </tr>\n",
       "            <tr>\n",
       "                        <th id=\"T_2cc60aeb_7720_11ec_9837_90324b3c0982level0_row22\" class=\"row_heading level0 row22\" >22</th>\n",
       "                        <td id=\"T_2cc60aeb_7720_11ec_9837_90324b3c0982row22_col0\" class=\"data row22 col0\" >Imputation Type</td>\n",
       "                        <td id=\"T_2cc60aeb_7720_11ec_9837_90324b3c0982row22_col1\" class=\"data row22 col1\" >simple</td>\n",
       "            </tr>\n",
       "            <tr>\n",
       "                        <th id=\"T_2cc60aeb_7720_11ec_9837_90324b3c0982level0_row23\" class=\"row_heading level0 row23\" >23</th>\n",
       "                        <td id=\"T_2cc60aeb_7720_11ec_9837_90324b3c0982row23_col0\" class=\"data row23 col0\" >Iterative Imputation Iteration</td>\n",
       "                        <td id=\"T_2cc60aeb_7720_11ec_9837_90324b3c0982row23_col1\" class=\"data row23 col1\" >None</td>\n",
       "            </tr>\n",
       "            <tr>\n",
       "                        <th id=\"T_2cc60aeb_7720_11ec_9837_90324b3c0982level0_row24\" class=\"row_heading level0 row24\" >24</th>\n",
       "                        <td id=\"T_2cc60aeb_7720_11ec_9837_90324b3c0982row24_col0\" class=\"data row24 col0\" >Numeric Imputer</td>\n",
       "                        <td id=\"T_2cc60aeb_7720_11ec_9837_90324b3c0982row24_col1\" class=\"data row24 col1\" >mean</td>\n",
       "            </tr>\n",
       "            <tr>\n",
       "                        <th id=\"T_2cc60aeb_7720_11ec_9837_90324b3c0982level0_row25\" class=\"row_heading level0 row25\" >25</th>\n",
       "                        <td id=\"T_2cc60aeb_7720_11ec_9837_90324b3c0982row25_col0\" class=\"data row25 col0\" >Iterative Imputation Numeric Model</td>\n",
       "                        <td id=\"T_2cc60aeb_7720_11ec_9837_90324b3c0982row25_col1\" class=\"data row25 col1\" >None</td>\n",
       "            </tr>\n",
       "            <tr>\n",
       "                        <th id=\"T_2cc60aeb_7720_11ec_9837_90324b3c0982level0_row26\" class=\"row_heading level0 row26\" >26</th>\n",
       "                        <td id=\"T_2cc60aeb_7720_11ec_9837_90324b3c0982row26_col0\" class=\"data row26 col0\" >Categorical Imputer</td>\n",
       "                        <td id=\"T_2cc60aeb_7720_11ec_9837_90324b3c0982row26_col1\" class=\"data row26 col1\" >constant</td>\n",
       "            </tr>\n",
       "            <tr>\n",
       "                        <th id=\"T_2cc60aeb_7720_11ec_9837_90324b3c0982level0_row27\" class=\"row_heading level0 row27\" >27</th>\n",
       "                        <td id=\"T_2cc60aeb_7720_11ec_9837_90324b3c0982row27_col0\" class=\"data row27 col0\" >Iterative Imputation Categorical Model</td>\n",
       "                        <td id=\"T_2cc60aeb_7720_11ec_9837_90324b3c0982row27_col1\" class=\"data row27 col1\" >None</td>\n",
       "            </tr>\n",
       "            <tr>\n",
       "                        <th id=\"T_2cc60aeb_7720_11ec_9837_90324b3c0982level0_row28\" class=\"row_heading level0 row28\" >28</th>\n",
       "                        <td id=\"T_2cc60aeb_7720_11ec_9837_90324b3c0982row28_col0\" class=\"data row28 col0\" >Unknown Categoricals Handling</td>\n",
       "                        <td id=\"T_2cc60aeb_7720_11ec_9837_90324b3c0982row28_col1\" class=\"data row28 col1\" >least_frequent</td>\n",
       "            </tr>\n",
       "            <tr>\n",
       "                        <th id=\"T_2cc60aeb_7720_11ec_9837_90324b3c0982level0_row29\" class=\"row_heading level0 row29\" >29</th>\n",
       "                        <td id=\"T_2cc60aeb_7720_11ec_9837_90324b3c0982row29_col0\" class=\"data row29 col0\" >Normalize</td>\n",
       "                        <td id=\"T_2cc60aeb_7720_11ec_9837_90324b3c0982row29_col1\" class=\"data row29 col1\" >True</td>\n",
       "            </tr>\n",
       "            <tr>\n",
       "                        <th id=\"T_2cc60aeb_7720_11ec_9837_90324b3c0982level0_row30\" class=\"row_heading level0 row30\" >30</th>\n",
       "                        <td id=\"T_2cc60aeb_7720_11ec_9837_90324b3c0982row30_col0\" class=\"data row30 col0\" >Normalize Method</td>\n",
       "                        <td id=\"T_2cc60aeb_7720_11ec_9837_90324b3c0982row30_col1\" class=\"data row30 col1\" >minmax</td>\n",
       "            </tr>\n",
       "            <tr>\n",
       "                        <th id=\"T_2cc60aeb_7720_11ec_9837_90324b3c0982level0_row31\" class=\"row_heading level0 row31\" >31</th>\n",
       "                        <td id=\"T_2cc60aeb_7720_11ec_9837_90324b3c0982row31_col0\" class=\"data row31 col0\" >Transformation</td>\n",
       "                        <td id=\"T_2cc60aeb_7720_11ec_9837_90324b3c0982row31_col1\" class=\"data row31 col1\" >False</td>\n",
       "            </tr>\n",
       "            <tr>\n",
       "                        <th id=\"T_2cc60aeb_7720_11ec_9837_90324b3c0982level0_row32\" class=\"row_heading level0 row32\" >32</th>\n",
       "                        <td id=\"T_2cc60aeb_7720_11ec_9837_90324b3c0982row32_col0\" class=\"data row32 col0\" >Transformation Method</td>\n",
       "                        <td id=\"T_2cc60aeb_7720_11ec_9837_90324b3c0982row32_col1\" class=\"data row32 col1\" >None</td>\n",
       "            </tr>\n",
       "            <tr>\n",
       "                        <th id=\"T_2cc60aeb_7720_11ec_9837_90324b3c0982level0_row33\" class=\"row_heading level0 row33\" >33</th>\n",
       "                        <td id=\"T_2cc60aeb_7720_11ec_9837_90324b3c0982row33_col0\" class=\"data row33 col0\" >PCA</td>\n",
       "                        <td id=\"T_2cc60aeb_7720_11ec_9837_90324b3c0982row33_col1\" class=\"data row33 col1\" >False</td>\n",
       "            </tr>\n",
       "            <tr>\n",
       "                        <th id=\"T_2cc60aeb_7720_11ec_9837_90324b3c0982level0_row34\" class=\"row_heading level0 row34\" >34</th>\n",
       "                        <td id=\"T_2cc60aeb_7720_11ec_9837_90324b3c0982row34_col0\" class=\"data row34 col0\" >PCA Method</td>\n",
       "                        <td id=\"T_2cc60aeb_7720_11ec_9837_90324b3c0982row34_col1\" class=\"data row34 col1\" >None</td>\n",
       "            </tr>\n",
       "            <tr>\n",
       "                        <th id=\"T_2cc60aeb_7720_11ec_9837_90324b3c0982level0_row35\" class=\"row_heading level0 row35\" >35</th>\n",
       "                        <td id=\"T_2cc60aeb_7720_11ec_9837_90324b3c0982row35_col0\" class=\"data row35 col0\" >PCA Components</td>\n",
       "                        <td id=\"T_2cc60aeb_7720_11ec_9837_90324b3c0982row35_col1\" class=\"data row35 col1\" >None</td>\n",
       "            </tr>\n",
       "            <tr>\n",
       "                        <th id=\"T_2cc60aeb_7720_11ec_9837_90324b3c0982level0_row36\" class=\"row_heading level0 row36\" >36</th>\n",
       "                        <td id=\"T_2cc60aeb_7720_11ec_9837_90324b3c0982row36_col0\" class=\"data row36 col0\" >Ignore Low Variance</td>\n",
       "                        <td id=\"T_2cc60aeb_7720_11ec_9837_90324b3c0982row36_col1\" class=\"data row36 col1\" >False</td>\n",
       "            </tr>\n",
       "            <tr>\n",
       "                        <th id=\"T_2cc60aeb_7720_11ec_9837_90324b3c0982level0_row37\" class=\"row_heading level0 row37\" >37</th>\n",
       "                        <td id=\"T_2cc60aeb_7720_11ec_9837_90324b3c0982row37_col0\" class=\"data row37 col0\" >Combine Rare Levels</td>\n",
       "                        <td id=\"T_2cc60aeb_7720_11ec_9837_90324b3c0982row37_col1\" class=\"data row37 col1\" >False</td>\n",
       "            </tr>\n",
       "            <tr>\n",
       "                        <th id=\"T_2cc60aeb_7720_11ec_9837_90324b3c0982level0_row38\" class=\"row_heading level0 row38\" >38</th>\n",
       "                        <td id=\"T_2cc60aeb_7720_11ec_9837_90324b3c0982row38_col0\" class=\"data row38 col0\" >Rare Level Threshold</td>\n",
       "                        <td id=\"T_2cc60aeb_7720_11ec_9837_90324b3c0982row38_col1\" class=\"data row38 col1\" >None</td>\n",
       "            </tr>\n",
       "            <tr>\n",
       "                        <th id=\"T_2cc60aeb_7720_11ec_9837_90324b3c0982level0_row39\" class=\"row_heading level0 row39\" >39</th>\n",
       "                        <td id=\"T_2cc60aeb_7720_11ec_9837_90324b3c0982row39_col0\" class=\"data row39 col0\" >Numeric Binning</td>\n",
       "                        <td id=\"T_2cc60aeb_7720_11ec_9837_90324b3c0982row39_col1\" class=\"data row39 col1\" >False</td>\n",
       "            </tr>\n",
       "            <tr>\n",
       "                        <th id=\"T_2cc60aeb_7720_11ec_9837_90324b3c0982level0_row40\" class=\"row_heading level0 row40\" >40</th>\n",
       "                        <td id=\"T_2cc60aeb_7720_11ec_9837_90324b3c0982row40_col0\" class=\"data row40 col0\" >Remove Outliers</td>\n",
       "                        <td id=\"T_2cc60aeb_7720_11ec_9837_90324b3c0982row40_col1\" class=\"data row40 col1\" >False</td>\n",
       "            </tr>\n",
       "            <tr>\n",
       "                        <th id=\"T_2cc60aeb_7720_11ec_9837_90324b3c0982level0_row41\" class=\"row_heading level0 row41\" >41</th>\n",
       "                        <td id=\"T_2cc60aeb_7720_11ec_9837_90324b3c0982row41_col0\" class=\"data row41 col0\" >Outliers Threshold</td>\n",
       "                        <td id=\"T_2cc60aeb_7720_11ec_9837_90324b3c0982row41_col1\" class=\"data row41 col1\" >None</td>\n",
       "            </tr>\n",
       "            <tr>\n",
       "                        <th id=\"T_2cc60aeb_7720_11ec_9837_90324b3c0982level0_row42\" class=\"row_heading level0 row42\" >42</th>\n",
       "                        <td id=\"T_2cc60aeb_7720_11ec_9837_90324b3c0982row42_col0\" class=\"data row42 col0\" >Remove Multicollinearity</td>\n",
       "                        <td id=\"T_2cc60aeb_7720_11ec_9837_90324b3c0982row42_col1\" class=\"data row42 col1\" >False</td>\n",
       "            </tr>\n",
       "            <tr>\n",
       "                        <th id=\"T_2cc60aeb_7720_11ec_9837_90324b3c0982level0_row43\" class=\"row_heading level0 row43\" >43</th>\n",
       "                        <td id=\"T_2cc60aeb_7720_11ec_9837_90324b3c0982row43_col0\" class=\"data row43 col0\" >Multicollinearity Threshold</td>\n",
       "                        <td id=\"T_2cc60aeb_7720_11ec_9837_90324b3c0982row43_col1\" class=\"data row43 col1\" >None</td>\n",
       "            </tr>\n",
       "            <tr>\n",
       "                        <th id=\"T_2cc60aeb_7720_11ec_9837_90324b3c0982level0_row44\" class=\"row_heading level0 row44\" >44</th>\n",
       "                        <td id=\"T_2cc60aeb_7720_11ec_9837_90324b3c0982row44_col0\" class=\"data row44 col0\" >Remove Perfect Collinearity</td>\n",
       "                        <td id=\"T_2cc60aeb_7720_11ec_9837_90324b3c0982row44_col1\" class=\"data row44 col1\" >True</td>\n",
       "            </tr>\n",
       "            <tr>\n",
       "                        <th id=\"T_2cc60aeb_7720_11ec_9837_90324b3c0982level0_row45\" class=\"row_heading level0 row45\" >45</th>\n",
       "                        <td id=\"T_2cc60aeb_7720_11ec_9837_90324b3c0982row45_col0\" class=\"data row45 col0\" >Clustering</td>\n",
       "                        <td id=\"T_2cc60aeb_7720_11ec_9837_90324b3c0982row45_col1\" class=\"data row45 col1\" >False</td>\n",
       "            </tr>\n",
       "            <tr>\n",
       "                        <th id=\"T_2cc60aeb_7720_11ec_9837_90324b3c0982level0_row46\" class=\"row_heading level0 row46\" >46</th>\n",
       "                        <td id=\"T_2cc60aeb_7720_11ec_9837_90324b3c0982row46_col0\" class=\"data row46 col0\" >Clustering Iteration</td>\n",
       "                        <td id=\"T_2cc60aeb_7720_11ec_9837_90324b3c0982row46_col1\" class=\"data row46 col1\" >None</td>\n",
       "            </tr>\n",
       "            <tr>\n",
       "                        <th id=\"T_2cc60aeb_7720_11ec_9837_90324b3c0982level0_row47\" class=\"row_heading level0 row47\" >47</th>\n",
       "                        <td id=\"T_2cc60aeb_7720_11ec_9837_90324b3c0982row47_col0\" class=\"data row47 col0\" >Polynomial Features</td>\n",
       "                        <td id=\"T_2cc60aeb_7720_11ec_9837_90324b3c0982row47_col1\" class=\"data row47 col1\" >False</td>\n",
       "            </tr>\n",
       "            <tr>\n",
       "                        <th id=\"T_2cc60aeb_7720_11ec_9837_90324b3c0982level0_row48\" class=\"row_heading level0 row48\" >48</th>\n",
       "                        <td id=\"T_2cc60aeb_7720_11ec_9837_90324b3c0982row48_col0\" class=\"data row48 col0\" >Polynomial Degree</td>\n",
       "                        <td id=\"T_2cc60aeb_7720_11ec_9837_90324b3c0982row48_col1\" class=\"data row48 col1\" >None</td>\n",
       "            </tr>\n",
       "            <tr>\n",
       "                        <th id=\"T_2cc60aeb_7720_11ec_9837_90324b3c0982level0_row49\" class=\"row_heading level0 row49\" >49</th>\n",
       "                        <td id=\"T_2cc60aeb_7720_11ec_9837_90324b3c0982row49_col0\" class=\"data row49 col0\" >Trignometry Features</td>\n",
       "                        <td id=\"T_2cc60aeb_7720_11ec_9837_90324b3c0982row49_col1\" class=\"data row49 col1\" >False</td>\n",
       "            </tr>\n",
       "            <tr>\n",
       "                        <th id=\"T_2cc60aeb_7720_11ec_9837_90324b3c0982level0_row50\" class=\"row_heading level0 row50\" >50</th>\n",
       "                        <td id=\"T_2cc60aeb_7720_11ec_9837_90324b3c0982row50_col0\" class=\"data row50 col0\" >Polynomial Threshold</td>\n",
       "                        <td id=\"T_2cc60aeb_7720_11ec_9837_90324b3c0982row50_col1\" class=\"data row50 col1\" >None</td>\n",
       "            </tr>\n",
       "            <tr>\n",
       "                        <th id=\"T_2cc60aeb_7720_11ec_9837_90324b3c0982level0_row51\" class=\"row_heading level0 row51\" >51</th>\n",
       "                        <td id=\"T_2cc60aeb_7720_11ec_9837_90324b3c0982row51_col0\" class=\"data row51 col0\" >Group Features</td>\n",
       "                        <td id=\"T_2cc60aeb_7720_11ec_9837_90324b3c0982row51_col1\" class=\"data row51 col1\" >False</td>\n",
       "            </tr>\n",
       "            <tr>\n",
       "                        <th id=\"T_2cc60aeb_7720_11ec_9837_90324b3c0982level0_row52\" class=\"row_heading level0 row52\" >52</th>\n",
       "                        <td id=\"T_2cc60aeb_7720_11ec_9837_90324b3c0982row52_col0\" class=\"data row52 col0\" >Feature Selection</td>\n",
       "                        <td id=\"T_2cc60aeb_7720_11ec_9837_90324b3c0982row52_col1\" class=\"data row52 col1\" >False</td>\n",
       "            </tr>\n",
       "            <tr>\n",
       "                        <th id=\"T_2cc60aeb_7720_11ec_9837_90324b3c0982level0_row53\" class=\"row_heading level0 row53\" >53</th>\n",
       "                        <td id=\"T_2cc60aeb_7720_11ec_9837_90324b3c0982row53_col0\" class=\"data row53 col0\" >Feature Selection Method</td>\n",
       "                        <td id=\"T_2cc60aeb_7720_11ec_9837_90324b3c0982row53_col1\" class=\"data row53 col1\" >classic</td>\n",
       "            </tr>\n",
       "            <tr>\n",
       "                        <th id=\"T_2cc60aeb_7720_11ec_9837_90324b3c0982level0_row54\" class=\"row_heading level0 row54\" >54</th>\n",
       "                        <td id=\"T_2cc60aeb_7720_11ec_9837_90324b3c0982row54_col0\" class=\"data row54 col0\" >Features Selection Threshold</td>\n",
       "                        <td id=\"T_2cc60aeb_7720_11ec_9837_90324b3c0982row54_col1\" class=\"data row54 col1\" >None</td>\n",
       "            </tr>\n",
       "            <tr>\n",
       "                        <th id=\"T_2cc60aeb_7720_11ec_9837_90324b3c0982level0_row55\" class=\"row_heading level0 row55\" >55</th>\n",
       "                        <td id=\"T_2cc60aeb_7720_11ec_9837_90324b3c0982row55_col0\" class=\"data row55 col0\" >Feature Interaction</td>\n",
       "                        <td id=\"T_2cc60aeb_7720_11ec_9837_90324b3c0982row55_col1\" class=\"data row55 col1\" >False</td>\n",
       "            </tr>\n",
       "            <tr>\n",
       "                        <th id=\"T_2cc60aeb_7720_11ec_9837_90324b3c0982level0_row56\" class=\"row_heading level0 row56\" >56</th>\n",
       "                        <td id=\"T_2cc60aeb_7720_11ec_9837_90324b3c0982row56_col0\" class=\"data row56 col0\" >Feature Ratio</td>\n",
       "                        <td id=\"T_2cc60aeb_7720_11ec_9837_90324b3c0982row56_col1\" class=\"data row56 col1\" >False</td>\n",
       "            </tr>\n",
       "            <tr>\n",
       "                        <th id=\"T_2cc60aeb_7720_11ec_9837_90324b3c0982level0_row57\" class=\"row_heading level0 row57\" >57</th>\n",
       "                        <td id=\"T_2cc60aeb_7720_11ec_9837_90324b3c0982row57_col0\" class=\"data row57 col0\" >Interaction Threshold</td>\n",
       "                        <td id=\"T_2cc60aeb_7720_11ec_9837_90324b3c0982row57_col1\" class=\"data row57 col1\" >None</td>\n",
       "            </tr>\n",
       "            <tr>\n",
       "                        <th id=\"T_2cc60aeb_7720_11ec_9837_90324b3c0982level0_row58\" class=\"row_heading level0 row58\" >58</th>\n",
       "                        <td id=\"T_2cc60aeb_7720_11ec_9837_90324b3c0982row58_col0\" class=\"data row58 col0\" >Fix Imbalance</td>\n",
       "                        <td id=\"T_2cc60aeb_7720_11ec_9837_90324b3c0982row58_col1\" class=\"data row58 col1\" >True</td>\n",
       "            </tr>\n",
       "            <tr>\n",
       "                        <th id=\"T_2cc60aeb_7720_11ec_9837_90324b3c0982level0_row59\" class=\"row_heading level0 row59\" >59</th>\n",
       "                        <td id=\"T_2cc60aeb_7720_11ec_9837_90324b3c0982row59_col0\" class=\"data row59 col0\" >Fix Imbalance Method</td>\n",
       "                        <td id=\"T_2cc60aeb_7720_11ec_9837_90324b3c0982row59_col1\" class=\"data row59 col1\" >SMOTE</td>\n",
       "            </tr>\n",
       "    </tbody></table>"
      ],
      "text/plain": [
       "<pandas.io.formats.style.Styler at 0x20a3b1768e0>"
      ]
     },
     "metadata": {},
     "output_type": "display_data"
    }
   ],
   "source": [
    "s = setup( df[[\"satisfaction\",\"evaluation\",\"averageMonthlyHours\",\"yearsAtCompany\",\"turnover\"]]\n",
    "          ,target = \"turnover\"\n",
    "          ,numeric_features = [\"yearsAtCompany\"]\n",
    "          ,normalize = True\n",
    "          ,normalize_method = \"minmax\"\n",
    "          ,data_split_stratify = True\n",
    "          ,fix_imbalance = True,\n",
    "         )"
   ]
  },
  {
   "cell_type": "markdown",
   "metadata": {
    "tags": []
   },
   "source": [
    "#### Comparando diferentes modelos."
   ]
  },
  {
   "cell_type": "code",
   "execution_count": 79,
   "metadata": {
    "ExecuteTime": {
     "end_time": "2022-01-16T23:02:55.171751Z",
     "start_time": "2022-01-16T23:01:30.957537Z"
    }
   },
   "outputs": [
    {
     "data": {
      "text/html": [
       "<style  type=\"text/css\" >\n",
       "    #T_707cef4d_7720_11ec_a8ac_90324b3c0982 th {\n",
       "          text-align: left;\n",
       "    }#T_707cef4d_7720_11ec_a8ac_90324b3c0982row0_col0,#T_707cef4d_7720_11ec_a8ac_90324b3c0982row0_col1,#T_707cef4d_7720_11ec_a8ac_90324b3c0982row0_col3,#T_707cef4d_7720_11ec_a8ac_90324b3c0982row0_col4,#T_707cef4d_7720_11ec_a8ac_90324b3c0982row0_col6,#T_707cef4d_7720_11ec_a8ac_90324b3c0982row0_col7,#T_707cef4d_7720_11ec_a8ac_90324b3c0982row1_col0,#T_707cef4d_7720_11ec_a8ac_90324b3c0982row1_col2,#T_707cef4d_7720_11ec_a8ac_90324b3c0982row1_col3,#T_707cef4d_7720_11ec_a8ac_90324b3c0982row1_col5,#T_707cef4d_7720_11ec_a8ac_90324b3c0982row2_col0,#T_707cef4d_7720_11ec_a8ac_90324b3c0982row2_col1,#T_707cef4d_7720_11ec_a8ac_90324b3c0982row2_col2,#T_707cef4d_7720_11ec_a8ac_90324b3c0982row2_col3,#T_707cef4d_7720_11ec_a8ac_90324b3c0982row2_col4,#T_707cef4d_7720_11ec_a8ac_90324b3c0982row2_col5,#T_707cef4d_7720_11ec_a8ac_90324b3c0982row2_col6,#T_707cef4d_7720_11ec_a8ac_90324b3c0982row2_col7,#T_707cef4d_7720_11ec_a8ac_90324b3c0982row3_col0,#T_707cef4d_7720_11ec_a8ac_90324b3c0982row3_col1,#T_707cef4d_7720_11ec_a8ac_90324b3c0982row3_col2,#T_707cef4d_7720_11ec_a8ac_90324b3c0982row3_col3,#T_707cef4d_7720_11ec_a8ac_90324b3c0982row3_col4,#T_707cef4d_7720_11ec_a8ac_90324b3c0982row3_col5,#T_707cef4d_7720_11ec_a8ac_90324b3c0982row3_col6,#T_707cef4d_7720_11ec_a8ac_90324b3c0982row3_col7,#T_707cef4d_7720_11ec_a8ac_90324b3c0982row4_col0,#T_707cef4d_7720_11ec_a8ac_90324b3c0982row4_col1,#T_707cef4d_7720_11ec_a8ac_90324b3c0982row4_col2,#T_707cef4d_7720_11ec_a8ac_90324b3c0982row4_col4,#T_707cef4d_7720_11ec_a8ac_90324b3c0982row4_col5,#T_707cef4d_7720_11ec_a8ac_90324b3c0982row4_col6,#T_707cef4d_7720_11ec_a8ac_90324b3c0982row4_col7,#T_707cef4d_7720_11ec_a8ac_90324b3c0982row5_col0,#T_707cef4d_7720_11ec_a8ac_90324b3c0982row5_col1,#T_707cef4d_7720_11ec_a8ac_90324b3c0982row5_col2,#T_707cef4d_7720_11ec_a8ac_90324b3c0982row5_col3,#T_707cef4d_7720_11ec_a8ac_90324b3c0982row5_col4,#T_707cef4d_7720_11ec_a8ac_90324b3c0982row5_col5,#T_707cef4d_7720_11ec_a8ac_90324b3c0982row5_col6,#T_707cef4d_7720_11ec_a8ac_90324b3c0982row5_col7,#T_707cef4d_7720_11ec_a8ac_90324b3c0982row6_col0,#T_707cef4d_7720_11ec_a8ac_90324b3c0982row6_col1,#T_707cef4d_7720_11ec_a8ac_90324b3c0982row6_col2,#T_707cef4d_7720_11ec_a8ac_90324b3c0982row6_col3,#T_707cef4d_7720_11ec_a8ac_90324b3c0982row6_col4,#T_707cef4d_7720_11ec_a8ac_90324b3c0982row6_col5,#T_707cef4d_7720_11ec_a8ac_90324b3c0982row6_col6,#T_707cef4d_7720_11ec_a8ac_90324b3c0982row6_col7,#T_707cef4d_7720_11ec_a8ac_90324b3c0982row7_col0,#T_707cef4d_7720_11ec_a8ac_90324b3c0982row7_col1,#T_707cef4d_7720_11ec_a8ac_90324b3c0982row7_col2,#T_707cef4d_7720_11ec_a8ac_90324b3c0982row7_col3,#T_707cef4d_7720_11ec_a8ac_90324b3c0982row7_col4,#T_707cef4d_7720_11ec_a8ac_90324b3c0982row7_col5,#T_707cef4d_7720_11ec_a8ac_90324b3c0982row7_col6,#T_707cef4d_7720_11ec_a8ac_90324b3c0982row7_col7,#T_707cef4d_7720_11ec_a8ac_90324b3c0982row8_col0,#T_707cef4d_7720_11ec_a8ac_90324b3c0982row8_col1,#T_707cef4d_7720_11ec_a8ac_90324b3c0982row8_col2,#T_707cef4d_7720_11ec_a8ac_90324b3c0982row8_col3,#T_707cef4d_7720_11ec_a8ac_90324b3c0982row8_col4,#T_707cef4d_7720_11ec_a8ac_90324b3c0982row8_col5,#T_707cef4d_7720_11ec_a8ac_90324b3c0982row8_col6,#T_707cef4d_7720_11ec_a8ac_90324b3c0982row8_col7,#T_707cef4d_7720_11ec_a8ac_90324b3c0982row9_col0,#T_707cef4d_7720_11ec_a8ac_90324b3c0982row9_col1,#T_707cef4d_7720_11ec_a8ac_90324b3c0982row9_col2,#T_707cef4d_7720_11ec_a8ac_90324b3c0982row9_col3,#T_707cef4d_7720_11ec_a8ac_90324b3c0982row9_col4,#T_707cef4d_7720_11ec_a8ac_90324b3c0982row9_col5,#T_707cef4d_7720_11ec_a8ac_90324b3c0982row9_col6,#T_707cef4d_7720_11ec_a8ac_90324b3c0982row9_col7,#T_707cef4d_7720_11ec_a8ac_90324b3c0982row10_col0,#T_707cef4d_7720_11ec_a8ac_90324b3c0982row10_col1,#T_707cef4d_7720_11ec_a8ac_90324b3c0982row10_col2,#T_707cef4d_7720_11ec_a8ac_90324b3c0982row10_col3,#T_707cef4d_7720_11ec_a8ac_90324b3c0982row10_col4,#T_707cef4d_7720_11ec_a8ac_90324b3c0982row10_col5,#T_707cef4d_7720_11ec_a8ac_90324b3c0982row10_col6,#T_707cef4d_7720_11ec_a8ac_90324b3c0982row10_col7,#T_707cef4d_7720_11ec_a8ac_90324b3c0982row11_col0,#T_707cef4d_7720_11ec_a8ac_90324b3c0982row11_col1,#T_707cef4d_7720_11ec_a8ac_90324b3c0982row11_col2,#T_707cef4d_7720_11ec_a8ac_90324b3c0982row11_col3,#T_707cef4d_7720_11ec_a8ac_90324b3c0982row11_col4,#T_707cef4d_7720_11ec_a8ac_90324b3c0982row11_col5,#T_707cef4d_7720_11ec_a8ac_90324b3c0982row11_col6,#T_707cef4d_7720_11ec_a8ac_90324b3c0982row11_col7,#T_707cef4d_7720_11ec_a8ac_90324b3c0982row12_col0,#T_707cef4d_7720_11ec_a8ac_90324b3c0982row12_col1,#T_707cef4d_7720_11ec_a8ac_90324b3c0982row12_col2,#T_707cef4d_7720_11ec_a8ac_90324b3c0982row12_col3,#T_707cef4d_7720_11ec_a8ac_90324b3c0982row12_col4,#T_707cef4d_7720_11ec_a8ac_90324b3c0982row12_col5,#T_707cef4d_7720_11ec_a8ac_90324b3c0982row12_col6,#T_707cef4d_7720_11ec_a8ac_90324b3c0982row12_col7,#T_707cef4d_7720_11ec_a8ac_90324b3c0982row13_col0,#T_707cef4d_7720_11ec_a8ac_90324b3c0982row13_col1,#T_707cef4d_7720_11ec_a8ac_90324b3c0982row13_col2,#T_707cef4d_7720_11ec_a8ac_90324b3c0982row13_col3,#T_707cef4d_7720_11ec_a8ac_90324b3c0982row13_col4,#T_707cef4d_7720_11ec_a8ac_90324b3c0982row13_col5,#T_707cef4d_7720_11ec_a8ac_90324b3c0982row13_col6,#T_707cef4d_7720_11ec_a8ac_90324b3c0982row13_col7{\n",
       "            text-align:  left;\n",
       "            text-align:  left;\n",
       "        }#T_707cef4d_7720_11ec_a8ac_90324b3c0982row0_col2,#T_707cef4d_7720_11ec_a8ac_90324b3c0982row0_col5,#T_707cef4d_7720_11ec_a8ac_90324b3c0982row1_col1,#T_707cef4d_7720_11ec_a8ac_90324b3c0982row1_col4,#T_707cef4d_7720_11ec_a8ac_90324b3c0982row1_col6,#T_707cef4d_7720_11ec_a8ac_90324b3c0982row1_col7,#T_707cef4d_7720_11ec_a8ac_90324b3c0982row4_col3{\n",
       "            text-align:  left;\n",
       "            text-align:  left;\n",
       "            background-color:  yellow;\n",
       "        }#T_707cef4d_7720_11ec_a8ac_90324b3c0982row0_col8,#T_707cef4d_7720_11ec_a8ac_90324b3c0982row1_col8,#T_707cef4d_7720_11ec_a8ac_90324b3c0982row2_col8,#T_707cef4d_7720_11ec_a8ac_90324b3c0982row3_col8,#T_707cef4d_7720_11ec_a8ac_90324b3c0982row4_col8,#T_707cef4d_7720_11ec_a8ac_90324b3c0982row5_col8,#T_707cef4d_7720_11ec_a8ac_90324b3c0982row6_col8,#T_707cef4d_7720_11ec_a8ac_90324b3c0982row8_col8,#T_707cef4d_7720_11ec_a8ac_90324b3c0982row9_col8,#T_707cef4d_7720_11ec_a8ac_90324b3c0982row10_col8,#T_707cef4d_7720_11ec_a8ac_90324b3c0982row12_col8,#T_707cef4d_7720_11ec_a8ac_90324b3c0982row13_col8{\n",
       "            text-align:  left;\n",
       "            text-align:  left;\n",
       "            background-color:  lightgrey;\n",
       "        }#T_707cef4d_7720_11ec_a8ac_90324b3c0982row7_col8,#T_707cef4d_7720_11ec_a8ac_90324b3c0982row11_col8{\n",
       "            text-align:  left;\n",
       "            text-align:  left;\n",
       "            background-color:  yellow;\n",
       "            background-color:  lightgrey;\n",
       "        }</style><table id=\"T_707cef4d_7720_11ec_a8ac_90324b3c0982\" ><thead>    <tr>        <th class=\"blank level0\" ></th>        <th class=\"col_heading level0 col0\" >Model</th>        <th class=\"col_heading level0 col1\" >Accuracy</th>        <th class=\"col_heading level0 col2\" >AUC</th>        <th class=\"col_heading level0 col3\" >Recall</th>        <th class=\"col_heading level0 col4\" >Prec.</th>        <th class=\"col_heading level0 col5\" >F1</th>        <th class=\"col_heading level0 col6\" >Kappa</th>        <th class=\"col_heading level0 col7\" >MCC</th>        <th class=\"col_heading level0 col8\" >TT (Sec)</th>    </tr></thead><tbody>\n",
       "                <tr>\n",
       "                        <th id=\"T_707cef4d_7720_11ec_a8ac_90324b3c0982level0_row0\" class=\"row_heading level0 row0\" >gbc</th>\n",
       "                        <td id=\"T_707cef4d_7720_11ec_a8ac_90324b3c0982row0_col0\" class=\"data row0 col0\" >Gradient Boosting Classifier</td>\n",
       "                        <td id=\"T_707cef4d_7720_11ec_a8ac_90324b3c0982row0_col1\" class=\"data row0 col1\" >0.8114</td>\n",
       "                        <td id=\"T_707cef4d_7720_11ec_a8ac_90324b3c0982row0_col2\" class=\"data row0 col2\" >0.7750</td>\n",
       "                        <td id=\"T_707cef4d_7720_11ec_a8ac_90324b3c0982row0_col3\" class=\"data row0 col3\" >0.6411</td>\n",
       "                        <td id=\"T_707cef4d_7720_11ec_a8ac_90324b3c0982row0_col4\" class=\"data row0 col4\" >0.5972</td>\n",
       "                        <td id=\"T_707cef4d_7720_11ec_a8ac_90324b3c0982row0_col5\" class=\"data row0 col5\" >0.6181</td>\n",
       "                        <td id=\"T_707cef4d_7720_11ec_a8ac_90324b3c0982row0_col6\" class=\"data row0 col6\" >0.4931</td>\n",
       "                        <td id=\"T_707cef4d_7720_11ec_a8ac_90324b3c0982row0_col7\" class=\"data row0 col7\" >0.4939</td>\n",
       "                        <td id=\"T_707cef4d_7720_11ec_a8ac_90324b3c0982row0_col8\" class=\"data row0 col8\" >0.2840</td>\n",
       "            </tr>\n",
       "            <tr>\n",
       "                        <th id=\"T_707cef4d_7720_11ec_a8ac_90324b3c0982level0_row1\" class=\"row_heading level0 row1\" >lightgbm</th>\n",
       "                        <td id=\"T_707cef4d_7720_11ec_a8ac_90324b3c0982row1_col0\" class=\"data row1 col0\" >Light Gradient Boosting Machine</td>\n",
       "                        <td id=\"T_707cef4d_7720_11ec_a8ac_90324b3c0982row1_col1\" class=\"data row1 col1\" >0.8207</td>\n",
       "                        <td id=\"T_707cef4d_7720_11ec_a8ac_90324b3c0982row1_col2\" class=\"data row1 col2\" >0.7712</td>\n",
       "                        <td id=\"T_707cef4d_7720_11ec_a8ac_90324b3c0982row1_col3\" class=\"data row1 col3\" >0.5974</td>\n",
       "                        <td id=\"T_707cef4d_7720_11ec_a8ac_90324b3c0982row1_col4\" class=\"data row1 col4\" >0.6304</td>\n",
       "                        <td id=\"T_707cef4d_7720_11ec_a8ac_90324b3c0982row1_col5\" class=\"data row1 col5\" >0.6133</td>\n",
       "                        <td id=\"T_707cef4d_7720_11ec_a8ac_90324b3c0982row1_col6\" class=\"data row1 col6\" >0.4968</td>\n",
       "                        <td id=\"T_707cef4d_7720_11ec_a8ac_90324b3c0982row1_col7\" class=\"data row1 col7\" >0.4972</td>\n",
       "                        <td id=\"T_707cef4d_7720_11ec_a8ac_90324b3c0982row1_col8\" class=\"data row1 col8\" >1.9080</td>\n",
       "            </tr>\n",
       "            <tr>\n",
       "                        <th id=\"T_707cef4d_7720_11ec_a8ac_90324b3c0982level0_row2\" class=\"row_heading level0 row2\" >ada</th>\n",
       "                        <td id=\"T_707cef4d_7720_11ec_a8ac_90324b3c0982row2_col0\" class=\"data row2 col0\" >Ada Boost Classifier</td>\n",
       "                        <td id=\"T_707cef4d_7720_11ec_a8ac_90324b3c0982row2_col1\" class=\"data row2 col1\" >0.7852</td>\n",
       "                        <td id=\"T_707cef4d_7720_11ec_a8ac_90324b3c0982row2_col2\" class=\"data row2 col2\" >0.7654</td>\n",
       "                        <td id=\"T_707cef4d_7720_11ec_a8ac_90324b3c0982row2_col3\" class=\"data row2 col3\" >0.6507</td>\n",
       "                        <td id=\"T_707cef4d_7720_11ec_a8ac_90324b3c0982row2_col4\" class=\"data row2 col4\" >0.5417</td>\n",
       "                        <td id=\"T_707cef4d_7720_11ec_a8ac_90324b3c0982row2_col5\" class=\"data row2 col5\" >0.5906</td>\n",
       "                        <td id=\"T_707cef4d_7720_11ec_a8ac_90324b3c0982row2_col6\" class=\"data row2 col6\" >0.4468</td>\n",
       "                        <td id=\"T_707cef4d_7720_11ec_a8ac_90324b3c0982row2_col7\" class=\"data row2 col7\" >0.4507</td>\n",
       "                        <td id=\"T_707cef4d_7720_11ec_a8ac_90324b3c0982row2_col8\" class=\"data row2 col8\" >0.1340</td>\n",
       "            </tr>\n",
       "            <tr>\n",
       "                        <th id=\"T_707cef4d_7720_11ec_a8ac_90324b3c0982level0_row3\" class=\"row_heading level0 row3\" >rf</th>\n",
       "                        <td id=\"T_707cef4d_7720_11ec_a8ac_90324b3c0982row3_col0\" class=\"data row3 col0\" >Random Forest Classifier</td>\n",
       "                        <td id=\"T_707cef4d_7720_11ec_a8ac_90324b3c0982row3_col1\" class=\"data row3 col1\" >0.7884</td>\n",
       "                        <td id=\"T_707cef4d_7720_11ec_a8ac_90324b3c0982row3_col2\" class=\"data row3 col2\" >0.7437</td>\n",
       "                        <td id=\"T_707cef4d_7720_11ec_a8ac_90324b3c0982row3_col3\" class=\"data row3 col3\" >0.4954</td>\n",
       "                        <td id=\"T_707cef4d_7720_11ec_a8ac_90324b3c0982row3_col4\" class=\"data row3 col4\" >0.5633</td>\n",
       "                        <td id=\"T_707cef4d_7720_11ec_a8ac_90324b3c0982row3_col5\" class=\"data row3 col5\" >0.5270</td>\n",
       "                        <td id=\"T_707cef4d_7720_11ec_a8ac_90324b3c0982row3_col6\" class=\"data row3 col6\" >0.3915</td>\n",
       "                        <td id=\"T_707cef4d_7720_11ec_a8ac_90324b3c0982row3_col7\" class=\"data row3 col7\" >0.3929</td>\n",
       "                        <td id=\"T_707cef4d_7720_11ec_a8ac_90324b3c0982row3_col8\" class=\"data row3 col8\" >0.3800</td>\n",
       "            </tr>\n",
       "            <tr>\n",
       "                        <th id=\"T_707cef4d_7720_11ec_a8ac_90324b3c0982level0_row4\" class=\"row_heading level0 row4\" >qda</th>\n",
       "                        <td id=\"T_707cef4d_7720_11ec_a8ac_90324b3c0982row4_col0\" class=\"data row4 col0\" >Quadratic Discriminant Analysis</td>\n",
       "                        <td id=\"T_707cef4d_7720_11ec_a8ac_90324b3c0982row4_col1\" class=\"data row4 col1\" >0.6917</td>\n",
       "                        <td id=\"T_707cef4d_7720_11ec_a8ac_90324b3c0982row4_col2\" class=\"data row4 col2\" >0.7284</td>\n",
       "                        <td id=\"T_707cef4d_7720_11ec_a8ac_90324b3c0982row4_col3\" class=\"data row4 col3\" >0.7243</td>\n",
       "                        <td id=\"T_707cef4d_7720_11ec_a8ac_90324b3c0982row4_col4\" class=\"data row4 col4\" >0.4155</td>\n",
       "                        <td id=\"T_707cef4d_7720_11ec_a8ac_90324b3c0982row4_col5\" class=\"data row4 col5\" >0.5280</td>\n",
       "                        <td id=\"T_707cef4d_7720_11ec_a8ac_90324b3c0982row4_col6\" class=\"data row4 col6\" >0.3232</td>\n",
       "                        <td id=\"T_707cef4d_7720_11ec_a8ac_90324b3c0982row4_col7\" class=\"data row4 col7\" >0.3507</td>\n",
       "                        <td id=\"T_707cef4d_7720_11ec_a8ac_90324b3c0982row4_col8\" class=\"data row4 col8\" >0.3520</td>\n",
       "            </tr>\n",
       "            <tr>\n",
       "                        <th id=\"T_707cef4d_7720_11ec_a8ac_90324b3c0982level0_row5\" class=\"row_heading level0 row5\" >et</th>\n",
       "                        <td id=\"T_707cef4d_7720_11ec_a8ac_90324b3c0982row5_col0\" class=\"data row5 col0\" >Extra Trees Classifier</td>\n",
       "                        <td id=\"T_707cef4d_7720_11ec_a8ac_90324b3c0982row5_col1\" class=\"data row5 col1\" >0.7854</td>\n",
       "                        <td id=\"T_707cef4d_7720_11ec_a8ac_90324b3c0982row5_col2\" class=\"data row5 col2\" >0.7154</td>\n",
       "                        <td id=\"T_707cef4d_7720_11ec_a8ac_90324b3c0982row5_col3\" class=\"data row5 col3\" >0.4894</td>\n",
       "                        <td id=\"T_707cef4d_7720_11ec_a8ac_90324b3c0982row5_col4\" class=\"data row5 col4\" >0.5561</td>\n",
       "                        <td id=\"T_707cef4d_7720_11ec_a8ac_90324b3c0982row5_col5\" class=\"data row5 col5\" >0.5205</td>\n",
       "                        <td id=\"T_707cef4d_7720_11ec_a8ac_90324b3c0982row5_col6\" class=\"data row5 col6\" >0.3830</td>\n",
       "                        <td id=\"T_707cef4d_7720_11ec_a8ac_90324b3c0982row5_col7\" class=\"data row5 col7\" >0.3844</td>\n",
       "                        <td id=\"T_707cef4d_7720_11ec_a8ac_90324b3c0982row5_col8\" class=\"data row5 col8\" >0.3240</td>\n",
       "            </tr>\n",
       "            <tr>\n",
       "                        <th id=\"T_707cef4d_7720_11ec_a8ac_90324b3c0982level0_row6\" class=\"row_heading level0 row6\" >knn</th>\n",
       "                        <td id=\"T_707cef4d_7720_11ec_a8ac_90324b3c0982row6_col0\" class=\"data row6 col0\" >K Neighbors Classifier</td>\n",
       "                        <td id=\"T_707cef4d_7720_11ec_a8ac_90324b3c0982row6_col1\" class=\"data row6 col1\" >0.6782</td>\n",
       "                        <td id=\"T_707cef4d_7720_11ec_a8ac_90324b3c0982row6_col2\" class=\"data row6 col2\" >0.7110</td>\n",
       "                        <td id=\"T_707cef4d_7720_11ec_a8ac_90324b3c0982row6_col3\" class=\"data row6 col3\" >0.6591</td>\n",
       "                        <td id=\"T_707cef4d_7720_11ec_a8ac_90324b3c0982row6_col4\" class=\"data row6 col4\" >0.3948</td>\n",
       "                        <td id=\"T_707cef4d_7720_11ec_a8ac_90324b3c0982row6_col5\" class=\"data row6 col5\" >0.4937</td>\n",
       "                        <td id=\"T_707cef4d_7720_11ec_a8ac_90324b3c0982row6_col6\" class=\"data row6 col6\" >0.2791</td>\n",
       "                        <td id=\"T_707cef4d_7720_11ec_a8ac_90324b3c0982row6_col7\" class=\"data row6 col7\" >0.2988</td>\n",
       "                        <td id=\"T_707cef4d_7720_11ec_a8ac_90324b3c0982row6_col8\" class=\"data row6 col8\" >0.5980</td>\n",
       "            </tr>\n",
       "            <tr>\n",
       "                        <th id=\"T_707cef4d_7720_11ec_a8ac_90324b3c0982level0_row7\" class=\"row_heading level0 row7\" >nb</th>\n",
       "                        <td id=\"T_707cef4d_7720_11ec_a8ac_90324b3c0982row7_col0\" class=\"data row7 col0\" >Naive Bayes</td>\n",
       "                        <td id=\"T_707cef4d_7720_11ec_a8ac_90324b3c0982row7_col1\" class=\"data row7 col1\" >0.6872</td>\n",
       "                        <td id=\"T_707cef4d_7720_11ec_a8ac_90324b3c0982row7_col2\" class=\"data row7 col2\" >0.6845</td>\n",
       "                        <td id=\"T_707cef4d_7720_11ec_a8ac_90324b3c0982row7_col3\" class=\"data row7 col3\" >0.5562</td>\n",
       "                        <td id=\"T_707cef4d_7720_11ec_a8ac_90324b3c0982row7_col4\" class=\"data row7 col4\" >0.3900</td>\n",
       "                        <td id=\"T_707cef4d_7720_11ec_a8ac_90324b3c0982row7_col5\" class=\"data row7 col5\" >0.4585</td>\n",
       "                        <td id=\"T_707cef4d_7720_11ec_a8ac_90324b3c0982row7_col6\" class=\"data row7 col6\" >0.2480</td>\n",
       "                        <td id=\"T_707cef4d_7720_11ec_a8ac_90324b3c0982row7_col7\" class=\"data row7 col7\" >0.2557</td>\n",
       "                        <td id=\"T_707cef4d_7720_11ec_a8ac_90324b3c0982row7_col8\" class=\"data row7 col8\" >0.0140</td>\n",
       "            </tr>\n",
       "            <tr>\n",
       "                        <th id=\"T_707cef4d_7720_11ec_a8ac_90324b3c0982level0_row8\" class=\"row_heading level0 row8\" >lr</th>\n",
       "                        <td id=\"T_707cef4d_7720_11ec_a8ac_90324b3c0982row8_col0\" class=\"data row8 col0\" >Logistic Regression</td>\n",
       "                        <td id=\"T_707cef4d_7720_11ec_a8ac_90324b3c0982row8_col1\" class=\"data row8 col1\" >0.6655</td>\n",
       "                        <td id=\"T_707cef4d_7720_11ec_a8ac_90324b3c0982row8_col2\" class=\"data row8 col2\" >0.6793</td>\n",
       "                        <td id=\"T_707cef4d_7720_11ec_a8ac_90324b3c0982row8_col3\" class=\"data row8 col3\" >0.6146</td>\n",
       "                        <td id=\"T_707cef4d_7720_11ec_a8ac_90324b3c0982row8_col4\" class=\"data row8 col4\" >0.3761</td>\n",
       "                        <td id=\"T_707cef4d_7720_11ec_a8ac_90324b3c0982row8_col5\" class=\"data row8 col5\" >0.4666</td>\n",
       "                        <td id=\"T_707cef4d_7720_11ec_a8ac_90324b3c0982row8_col6\" class=\"data row8 col6\" >0.2430</td>\n",
       "                        <td id=\"T_707cef4d_7720_11ec_a8ac_90324b3c0982row8_col7\" class=\"data row8 col7\" >0.2586</td>\n",
       "                        <td id=\"T_707cef4d_7720_11ec_a8ac_90324b3c0982row8_col8\" class=\"data row8 col8\" >11.1180</td>\n",
       "            </tr>\n",
       "            <tr>\n",
       "                        <th id=\"T_707cef4d_7720_11ec_a8ac_90324b3c0982level0_row9\" class=\"row_heading level0 row9\" >lda</th>\n",
       "                        <td id=\"T_707cef4d_7720_11ec_a8ac_90324b3c0982row9_col0\" class=\"data row9 col0\" >Linear Discriminant Analysis</td>\n",
       "                        <td id=\"T_707cef4d_7720_11ec_a8ac_90324b3c0982row9_col1\" class=\"data row9 col1\" >0.6664</td>\n",
       "                        <td id=\"T_707cef4d_7720_11ec_a8ac_90324b3c0982row9_col2\" class=\"data row9 col2\" >0.6780</td>\n",
       "                        <td id=\"T_707cef4d_7720_11ec_a8ac_90324b3c0982row9_col3\" class=\"data row9 col3\" >0.6106</td>\n",
       "                        <td id=\"T_707cef4d_7720_11ec_a8ac_90324b3c0982row9_col4\" class=\"data row9 col4\" >0.3764</td>\n",
       "                        <td id=\"T_707cef4d_7720_11ec_a8ac_90324b3c0982row9_col5\" class=\"data row9 col5\" >0.4657</td>\n",
       "                        <td id=\"T_707cef4d_7720_11ec_a8ac_90324b3c0982row9_col6\" class=\"data row9 col6\" >0.2426</td>\n",
       "                        <td id=\"T_707cef4d_7720_11ec_a8ac_90324b3c0982row9_col7\" class=\"data row9 col7\" >0.2576</td>\n",
       "                        <td id=\"T_707cef4d_7720_11ec_a8ac_90324b3c0982row9_col8\" class=\"data row9 col8\" >0.0320</td>\n",
       "            </tr>\n",
       "            <tr>\n",
       "                        <th id=\"T_707cef4d_7720_11ec_a8ac_90324b3c0982level0_row10\" class=\"row_heading level0 row10\" >dt</th>\n",
       "                        <td id=\"T_707cef4d_7720_11ec_a8ac_90324b3c0982row10_col0\" class=\"data row10 col0\" >Decision Tree Classifier</td>\n",
       "                        <td id=\"T_707cef4d_7720_11ec_a8ac_90324b3c0982row10_col1\" class=\"data row10 col1\" >0.7131</td>\n",
       "                        <td id=\"T_707cef4d_7720_11ec_a8ac_90324b3c0982row10_col2\" class=\"data row10 col2\" >0.6332</td>\n",
       "                        <td id=\"T_707cef4d_7720_11ec_a8ac_90324b3c0982row10_col3\" class=\"data row10 col3\" >0.4626</td>\n",
       "                        <td id=\"T_707cef4d_7720_11ec_a8ac_90324b3c0982row10_col4\" class=\"data row10 col4\" >0.4096</td>\n",
       "                        <td id=\"T_707cef4d_7720_11ec_a8ac_90324b3c0982row10_col5\" class=\"data row10 col5\" >0.4343</td>\n",
       "                        <td id=\"T_707cef4d_7720_11ec_a8ac_90324b3c0982row10_col6\" class=\"data row10 col6\" >0.2432</td>\n",
       "                        <td id=\"T_707cef4d_7720_11ec_a8ac_90324b3c0982row10_col7\" class=\"data row10 col7\" >0.2440</td>\n",
       "                        <td id=\"T_707cef4d_7720_11ec_a8ac_90324b3c0982row10_col8\" class=\"data row10 col8\" >0.0240</td>\n",
       "            </tr>\n",
       "            <tr>\n",
       "                        <th id=\"T_707cef4d_7720_11ec_a8ac_90324b3c0982level0_row11\" class=\"row_heading level0 row11\" >dummy</th>\n",
       "                        <td id=\"T_707cef4d_7720_11ec_a8ac_90324b3c0982row11_col0\" class=\"data row11 col0\" >Dummy Classifier</td>\n",
       "                        <td id=\"T_707cef4d_7720_11ec_a8ac_90324b3c0982row11_col1\" class=\"data row11 col1\" >0.7620</td>\n",
       "                        <td id=\"T_707cef4d_7720_11ec_a8ac_90324b3c0982row11_col2\" class=\"data row11 col2\" >0.5000</td>\n",
       "                        <td id=\"T_707cef4d_7720_11ec_a8ac_90324b3c0982row11_col3\" class=\"data row11 col3\" >0.0000</td>\n",
       "                        <td id=\"T_707cef4d_7720_11ec_a8ac_90324b3c0982row11_col4\" class=\"data row11 col4\" >0.0000</td>\n",
       "                        <td id=\"T_707cef4d_7720_11ec_a8ac_90324b3c0982row11_col5\" class=\"data row11 col5\" >0.0000</td>\n",
       "                        <td id=\"T_707cef4d_7720_11ec_a8ac_90324b3c0982row11_col6\" class=\"data row11 col6\" >0.0000</td>\n",
       "                        <td id=\"T_707cef4d_7720_11ec_a8ac_90324b3c0982row11_col7\" class=\"data row11 col7\" >0.0000</td>\n",
       "                        <td id=\"T_707cef4d_7720_11ec_a8ac_90324b3c0982row11_col8\" class=\"data row11 col8\" >0.0140</td>\n",
       "            </tr>\n",
       "            <tr>\n",
       "                        <th id=\"T_707cef4d_7720_11ec_a8ac_90324b3c0982level0_row12\" class=\"row_heading level0 row12\" >svm</th>\n",
       "                        <td id=\"T_707cef4d_7720_11ec_a8ac_90324b3c0982row12_col0\" class=\"data row12 col0\" >SVM - Linear Kernel</td>\n",
       "                        <td id=\"T_707cef4d_7720_11ec_a8ac_90324b3c0982row12_col1\" class=\"data row12 col1\" >0.6968</td>\n",
       "                        <td id=\"T_707cef4d_7720_11ec_a8ac_90324b3c0982row12_col2\" class=\"data row12 col2\" >0.0000</td>\n",
       "                        <td id=\"T_707cef4d_7720_11ec_a8ac_90324b3c0982row12_col3\" class=\"data row12 col3\" >0.3028</td>\n",
       "                        <td id=\"T_707cef4d_7720_11ec_a8ac_90324b3c0982row12_col4\" class=\"data row12 col4\" >0.2242</td>\n",
       "                        <td id=\"T_707cef4d_7720_11ec_a8ac_90324b3c0982row12_col5\" class=\"data row12 col5\" >0.2338</td>\n",
       "                        <td id=\"T_707cef4d_7720_11ec_a8ac_90324b3c0982row12_col6\" class=\"data row12 col6\" >0.1054</td>\n",
       "                        <td id=\"T_707cef4d_7720_11ec_a8ac_90324b3c0982row12_col7\" class=\"data row12 col7\" >0.1150</td>\n",
       "                        <td id=\"T_707cef4d_7720_11ec_a8ac_90324b3c0982row12_col8\" class=\"data row12 col8\" >0.1320</td>\n",
       "            </tr>\n",
       "            <tr>\n",
       "                        <th id=\"T_707cef4d_7720_11ec_a8ac_90324b3c0982level0_row13\" class=\"row_heading level0 row13\" >ridge</th>\n",
       "                        <td id=\"T_707cef4d_7720_11ec_a8ac_90324b3c0982row13_col0\" class=\"data row13 col0\" >Ridge Classifier</td>\n",
       "                        <td id=\"T_707cef4d_7720_11ec_a8ac_90324b3c0982row13_col1\" class=\"data row13 col1\" >0.6663</td>\n",
       "                        <td id=\"T_707cef4d_7720_11ec_a8ac_90324b3c0982row13_col2\" class=\"data row13 col2\" >0.0000</td>\n",
       "                        <td id=\"T_707cef4d_7720_11ec_a8ac_90324b3c0982row13_col3\" class=\"data row13 col3\" >0.6106</td>\n",
       "                        <td id=\"T_707cef4d_7720_11ec_a8ac_90324b3c0982row13_col4\" class=\"data row13 col4\" >0.3763</td>\n",
       "                        <td id=\"T_707cef4d_7720_11ec_a8ac_90324b3c0982row13_col5\" class=\"data row13 col5\" >0.4656</td>\n",
       "                        <td id=\"T_707cef4d_7720_11ec_a8ac_90324b3c0982row13_col6\" class=\"data row13 col6\" >0.2424</td>\n",
       "                        <td id=\"T_707cef4d_7720_11ec_a8ac_90324b3c0982row13_col7\" class=\"data row13 col7\" >0.2575</td>\n",
       "                        <td id=\"T_707cef4d_7720_11ec_a8ac_90324b3c0982row13_col8\" class=\"data row13 col8\" >0.5360</td>\n",
       "            </tr>\n",
       "    </tbody></table>"
      ],
      "text/plain": [
       "<pandas.io.formats.style.Styler at 0x20a3b1761c0>"
      ]
     },
     "metadata": {},
     "output_type": "display_data"
    }
   ],
   "source": [
    "best = compare_models(fold = 5,sort = 'AUC')"
   ]
  },
  {
   "cell_type": "markdown",
   "metadata": {},
   "source": [
    "#### Criando o modelo."
   ]
  },
  {
   "cell_type": "code",
   "execution_count": 80,
   "metadata": {
    "ExecuteTime": {
     "end_time": "2022-01-16T23:05:29.379788Z",
     "start_time": "2022-01-16T23:05:26.764043Z"
    },
    "scrolled": true
   },
   "outputs": [
    {
     "data": {
      "text/html": [
       "<style  type=\"text/css\" >\n",
       "#T_cc5cab43_7720_11ec_acb7_90324b3c0982row5_col0,#T_cc5cab43_7720_11ec_acb7_90324b3c0982row5_col1,#T_cc5cab43_7720_11ec_acb7_90324b3c0982row5_col2,#T_cc5cab43_7720_11ec_acb7_90324b3c0982row5_col3,#T_cc5cab43_7720_11ec_acb7_90324b3c0982row5_col4,#T_cc5cab43_7720_11ec_acb7_90324b3c0982row5_col5,#T_cc5cab43_7720_11ec_acb7_90324b3c0982row5_col6{\n",
       "            background:  yellow;\n",
       "        }</style><table id=\"T_cc5cab43_7720_11ec_acb7_90324b3c0982\" ><thead>    <tr>        <th class=\"blank level0\" ></th>        <th class=\"col_heading level0 col0\" >Accuracy</th>        <th class=\"col_heading level0 col1\" >AUC</th>        <th class=\"col_heading level0 col2\" >Recall</th>        <th class=\"col_heading level0 col3\" >Prec.</th>        <th class=\"col_heading level0 col4\" >F1</th>        <th class=\"col_heading level0 col5\" >Kappa</th>        <th class=\"col_heading level0 col6\" >MCC</th>    </tr></thead><tbody>\n",
       "                <tr>\n",
       "                        <th id=\"T_cc5cab43_7720_11ec_acb7_90324b3c0982level0_row0\" class=\"row_heading level0 row0\" >0</th>\n",
       "                        <td id=\"T_cc5cab43_7720_11ec_acb7_90324b3c0982row0_col0\" class=\"data row0 col0\" >0.8033</td>\n",
       "                        <td id=\"T_cc5cab43_7720_11ec_acb7_90324b3c0982row0_col1\" class=\"data row0 col1\" >0.7756</td>\n",
       "                        <td id=\"T_cc5cab43_7720_11ec_acb7_90324b3c0982row0_col2\" class=\"data row0 col2\" >0.6520</td>\n",
       "                        <td id=\"T_cc5cab43_7720_11ec_acb7_90324b3c0982row0_col3\" class=\"data row0 col3\" >0.5770</td>\n",
       "                        <td id=\"T_cc5cab43_7720_11ec_acb7_90324b3c0982row0_col4\" class=\"data row0 col4\" >0.6122</td>\n",
       "                        <td id=\"T_cc5cab43_7720_11ec_acb7_90324b3c0982row0_col5\" class=\"data row0 col5\" >0.4811</td>\n",
       "                        <td id=\"T_cc5cab43_7720_11ec_acb7_90324b3c0982row0_col6\" class=\"data row0 col6\" >0.4827</td>\n",
       "            </tr>\n",
       "            <tr>\n",
       "                        <th id=\"T_cc5cab43_7720_11ec_acb7_90324b3c0982level0_row1\" class=\"row_heading level0 row1\" >1</th>\n",
       "                        <td id=\"T_cc5cab43_7720_11ec_acb7_90324b3c0982row1_col0\" class=\"data row1 col0\" >0.8148</td>\n",
       "                        <td id=\"T_cc5cab43_7720_11ec_acb7_90324b3c0982row1_col1\" class=\"data row1 col1\" >0.7792</td>\n",
       "                        <td id=\"T_cc5cab43_7720_11ec_acb7_90324b3c0982row1_col2\" class=\"data row1 col2\" >0.6300</td>\n",
       "                        <td id=\"T_cc5cab43_7720_11ec_acb7_90324b3c0982row1_col3\" class=\"data row1 col3\" >0.6069</td>\n",
       "                        <td id=\"T_cc5cab43_7720_11ec_acb7_90324b3c0982row1_col4\" class=\"data row1 col4\" >0.6183</td>\n",
       "                        <td id=\"T_cc5cab43_7720_11ec_acb7_90324b3c0982row1_col5\" class=\"data row1 col5\" >0.4960</td>\n",
       "                        <td id=\"T_cc5cab43_7720_11ec_acb7_90324b3c0982row1_col6\" class=\"data row1 col6\" >0.4962</td>\n",
       "            </tr>\n",
       "            <tr>\n",
       "                        <th id=\"T_cc5cab43_7720_11ec_acb7_90324b3c0982level0_row2\" class=\"row_heading level0 row2\" >2</th>\n",
       "                        <td id=\"T_cc5cab43_7720_11ec_acb7_90324b3c0982row2_col0\" class=\"data row2 col0\" >0.8195</td>\n",
       "                        <td id=\"T_cc5cab43_7720_11ec_acb7_90324b3c0982row2_col1\" class=\"data row2 col1\" >0.7817</td>\n",
       "                        <td id=\"T_cc5cab43_7720_11ec_acb7_90324b3c0982row2_col2\" class=\"data row2 col2\" >0.6320</td>\n",
       "                        <td id=\"T_cc5cab43_7720_11ec_acb7_90324b3c0982row2_col3\" class=\"data row2 col3\" >0.6184</td>\n",
       "                        <td id=\"T_cc5cab43_7720_11ec_acb7_90324b3c0982row2_col4\" class=\"data row2 col4\" >0.6251</td>\n",
       "                        <td id=\"T_cc5cab43_7720_11ec_acb7_90324b3c0982row2_col5\" class=\"data row2 col5\" >0.5063</td>\n",
       "                        <td id=\"T_cc5cab43_7720_11ec_acb7_90324b3c0982row2_col6\" class=\"data row2 col6\" >0.5063</td>\n",
       "            </tr>\n",
       "            <tr>\n",
       "                        <th id=\"T_cc5cab43_7720_11ec_acb7_90324b3c0982level0_row3\" class=\"row_heading level0 row3\" >3</th>\n",
       "                        <td id=\"T_cc5cab43_7720_11ec_acb7_90324b3c0982row3_col0\" class=\"data row3 col0\" >0.8085</td>\n",
       "                        <td id=\"T_cc5cab43_7720_11ec_acb7_90324b3c0982row3_col1\" class=\"data row3 col1\" >0.7729</td>\n",
       "                        <td id=\"T_cc5cab43_7720_11ec_acb7_90324b3c0982row3_col2\" class=\"data row3 col2\" >0.6573</td>\n",
       "                        <td id=\"T_cc5cab43_7720_11ec_acb7_90324b3c0982row3_col3\" class=\"data row3 col3\" >0.5868</td>\n",
       "                        <td id=\"T_cc5cab43_7720_11ec_acb7_90324b3c0982row3_col4\" class=\"data row3 col4\" >0.6200</td>\n",
       "                        <td id=\"T_cc5cab43_7720_11ec_acb7_90324b3c0982row3_col5\" class=\"data row3 col5\" >0.4926</td>\n",
       "                        <td id=\"T_cc5cab43_7720_11ec_acb7_90324b3c0982row3_col6\" class=\"data row3 col6\" >0.4940</td>\n",
       "            </tr>\n",
       "            <tr>\n",
       "                        <th id=\"T_cc5cab43_7720_11ec_acb7_90324b3c0982level0_row4\" class=\"row_heading level0 row4\" >4</th>\n",
       "                        <td id=\"T_cc5cab43_7720_11ec_acb7_90324b3c0982row4_col0\" class=\"data row4 col0\" >0.8109</td>\n",
       "                        <td id=\"T_cc5cab43_7720_11ec_acb7_90324b3c0982row4_col1\" class=\"data row4 col1\" >0.7656</td>\n",
       "                        <td id=\"T_cc5cab43_7720_11ec_acb7_90324b3c0982row4_col2\" class=\"data row4 col2\" >0.6340</td>\n",
       "                        <td id=\"T_cc5cab43_7720_11ec_acb7_90324b3c0982row4_col3\" class=\"data row4 col3\" >0.5970</td>\n",
       "                        <td id=\"T_cc5cab43_7720_11ec_acb7_90324b3c0982row4_col4\" class=\"data row4 col4\" >0.6149</td>\n",
       "                        <td id=\"T_cc5cab43_7720_11ec_acb7_90324b3c0982row4_col5\" class=\"data row4 col5\" >0.4897</td>\n",
       "                        <td id=\"T_cc5cab43_7720_11ec_acb7_90324b3c0982row4_col6\" class=\"data row4 col6\" >0.4901</td>\n",
       "            </tr>\n",
       "            <tr>\n",
       "                        <th id=\"T_cc5cab43_7720_11ec_acb7_90324b3c0982level0_row5\" class=\"row_heading level0 row5\" >Mean</th>\n",
       "                        <td id=\"T_cc5cab43_7720_11ec_acb7_90324b3c0982row5_col0\" class=\"data row5 col0\" >0.8114</td>\n",
       "                        <td id=\"T_cc5cab43_7720_11ec_acb7_90324b3c0982row5_col1\" class=\"data row5 col1\" >0.7750</td>\n",
       "                        <td id=\"T_cc5cab43_7720_11ec_acb7_90324b3c0982row5_col2\" class=\"data row5 col2\" >0.6411</td>\n",
       "                        <td id=\"T_cc5cab43_7720_11ec_acb7_90324b3c0982row5_col3\" class=\"data row5 col3\" >0.5972</td>\n",
       "                        <td id=\"T_cc5cab43_7720_11ec_acb7_90324b3c0982row5_col4\" class=\"data row5 col4\" >0.6181</td>\n",
       "                        <td id=\"T_cc5cab43_7720_11ec_acb7_90324b3c0982row5_col5\" class=\"data row5 col5\" >0.4931</td>\n",
       "                        <td id=\"T_cc5cab43_7720_11ec_acb7_90324b3c0982row5_col6\" class=\"data row5 col6\" >0.4939</td>\n",
       "            </tr>\n",
       "            <tr>\n",
       "                        <th id=\"T_cc5cab43_7720_11ec_acb7_90324b3c0982level0_row6\" class=\"row_heading level0 row6\" >SD</th>\n",
       "                        <td id=\"T_cc5cab43_7720_11ec_acb7_90324b3c0982row6_col0\" class=\"data row6 col0\" >0.0055</td>\n",
       "                        <td id=\"T_cc5cab43_7720_11ec_acb7_90324b3c0982row6_col1\" class=\"data row6 col1\" >0.0056</td>\n",
       "                        <td id=\"T_cc5cab43_7720_11ec_acb7_90324b3c0982row6_col2\" class=\"data row6 col2\" >0.0113</td>\n",
       "                        <td id=\"T_cc5cab43_7720_11ec_acb7_90324b3c0982row6_col3\" class=\"data row6 col3\" >0.0146</td>\n",
       "                        <td id=\"T_cc5cab43_7720_11ec_acb7_90324b3c0982row6_col4\" class=\"data row6 col4\" >0.0044</td>\n",
       "                        <td id=\"T_cc5cab43_7720_11ec_acb7_90324b3c0982row6_col5\" class=\"data row6 col5\" >0.0082</td>\n",
       "                        <td id=\"T_cc5cab43_7720_11ec_acb7_90324b3c0982row6_col6\" class=\"data row6 col6\" >0.0077</td>\n",
       "            </tr>\n",
       "    </tbody></table>"
      ],
      "text/plain": [
       "<pandas.io.formats.style.Styler at 0x20a3bbb9ac0>"
      ]
     },
     "metadata": {},
     "output_type": "display_data"
    }
   ],
   "source": [
    "gbc = create_model('gbc', fold = 5)"
   ]
  },
  {
   "cell_type": "markdown",
   "metadata": {},
   "source": [
    "#### Realizando o tunning do modelo."
   ]
  },
  {
   "cell_type": "code",
   "execution_count": 81,
   "metadata": {
    "ExecuteTime": {
     "end_time": "2022-01-16T23:12:13.738055Z",
     "start_time": "2022-01-16T23:10:19.386659Z"
    },
    "scrolled": false,
    "tags": []
   },
   "outputs": [
    {
     "data": {
      "text/html": [
       "<style  type=\"text/css\" >\n",
       "#T_bd61bed1_7721_11ec_a731_90324b3c0982row5_col0,#T_bd61bed1_7721_11ec_a731_90324b3c0982row5_col1,#T_bd61bed1_7721_11ec_a731_90324b3c0982row5_col2,#T_bd61bed1_7721_11ec_a731_90324b3c0982row5_col3,#T_bd61bed1_7721_11ec_a731_90324b3c0982row5_col4,#T_bd61bed1_7721_11ec_a731_90324b3c0982row5_col5,#T_bd61bed1_7721_11ec_a731_90324b3c0982row5_col6{\n",
       "            background:  yellow;\n",
       "        }</style><table id=\"T_bd61bed1_7721_11ec_a731_90324b3c0982\" ><thead>    <tr>        <th class=\"blank level0\" ></th>        <th class=\"col_heading level0 col0\" >Accuracy</th>        <th class=\"col_heading level0 col1\" >AUC</th>        <th class=\"col_heading level0 col2\" >Recall</th>        <th class=\"col_heading level0 col3\" >Prec.</th>        <th class=\"col_heading level0 col4\" >F1</th>        <th class=\"col_heading level0 col5\" >Kappa</th>        <th class=\"col_heading level0 col6\" >MCC</th>    </tr></thead><tbody>\n",
       "                <tr>\n",
       "                        <th id=\"T_bd61bed1_7721_11ec_a731_90324b3c0982level0_row0\" class=\"row_heading level0 row0\" >0</th>\n",
       "                        <td id=\"T_bd61bed1_7721_11ec_a731_90324b3c0982row0_col0\" class=\"data row0 col0\" >0.8033</td>\n",
       "                        <td id=\"T_bd61bed1_7721_11ec_a731_90324b3c0982row0_col1\" class=\"data row0 col1\" >0.7756</td>\n",
       "                        <td id=\"T_bd61bed1_7721_11ec_a731_90324b3c0982row0_col2\" class=\"data row0 col2\" >0.6520</td>\n",
       "                        <td id=\"T_bd61bed1_7721_11ec_a731_90324b3c0982row0_col3\" class=\"data row0 col3\" >0.5770</td>\n",
       "                        <td id=\"T_bd61bed1_7721_11ec_a731_90324b3c0982row0_col4\" class=\"data row0 col4\" >0.6122</td>\n",
       "                        <td id=\"T_bd61bed1_7721_11ec_a731_90324b3c0982row0_col5\" class=\"data row0 col5\" >0.4811</td>\n",
       "                        <td id=\"T_bd61bed1_7721_11ec_a731_90324b3c0982row0_col6\" class=\"data row0 col6\" >0.4827</td>\n",
       "            </tr>\n",
       "            <tr>\n",
       "                        <th id=\"T_bd61bed1_7721_11ec_a731_90324b3c0982level0_row1\" class=\"row_heading level0 row1\" >1</th>\n",
       "                        <td id=\"T_bd61bed1_7721_11ec_a731_90324b3c0982row1_col0\" class=\"data row1 col0\" >0.8148</td>\n",
       "                        <td id=\"T_bd61bed1_7721_11ec_a731_90324b3c0982row1_col1\" class=\"data row1 col1\" >0.7792</td>\n",
       "                        <td id=\"T_bd61bed1_7721_11ec_a731_90324b3c0982row1_col2\" class=\"data row1 col2\" >0.6300</td>\n",
       "                        <td id=\"T_bd61bed1_7721_11ec_a731_90324b3c0982row1_col3\" class=\"data row1 col3\" >0.6069</td>\n",
       "                        <td id=\"T_bd61bed1_7721_11ec_a731_90324b3c0982row1_col4\" class=\"data row1 col4\" >0.6183</td>\n",
       "                        <td id=\"T_bd61bed1_7721_11ec_a731_90324b3c0982row1_col5\" class=\"data row1 col5\" >0.4960</td>\n",
       "                        <td id=\"T_bd61bed1_7721_11ec_a731_90324b3c0982row1_col6\" class=\"data row1 col6\" >0.4962</td>\n",
       "            </tr>\n",
       "            <tr>\n",
       "                        <th id=\"T_bd61bed1_7721_11ec_a731_90324b3c0982level0_row2\" class=\"row_heading level0 row2\" >2</th>\n",
       "                        <td id=\"T_bd61bed1_7721_11ec_a731_90324b3c0982row2_col0\" class=\"data row2 col0\" >0.8195</td>\n",
       "                        <td id=\"T_bd61bed1_7721_11ec_a731_90324b3c0982row2_col1\" class=\"data row2 col1\" >0.7817</td>\n",
       "                        <td id=\"T_bd61bed1_7721_11ec_a731_90324b3c0982row2_col2\" class=\"data row2 col2\" >0.6320</td>\n",
       "                        <td id=\"T_bd61bed1_7721_11ec_a731_90324b3c0982row2_col3\" class=\"data row2 col3\" >0.6184</td>\n",
       "                        <td id=\"T_bd61bed1_7721_11ec_a731_90324b3c0982row2_col4\" class=\"data row2 col4\" >0.6251</td>\n",
       "                        <td id=\"T_bd61bed1_7721_11ec_a731_90324b3c0982row2_col5\" class=\"data row2 col5\" >0.5063</td>\n",
       "                        <td id=\"T_bd61bed1_7721_11ec_a731_90324b3c0982row2_col6\" class=\"data row2 col6\" >0.5063</td>\n",
       "            </tr>\n",
       "            <tr>\n",
       "                        <th id=\"T_bd61bed1_7721_11ec_a731_90324b3c0982level0_row3\" class=\"row_heading level0 row3\" >3</th>\n",
       "                        <td id=\"T_bd61bed1_7721_11ec_a731_90324b3c0982row3_col0\" class=\"data row3 col0\" >0.8085</td>\n",
       "                        <td id=\"T_bd61bed1_7721_11ec_a731_90324b3c0982row3_col1\" class=\"data row3 col1\" >0.7729</td>\n",
       "                        <td id=\"T_bd61bed1_7721_11ec_a731_90324b3c0982row3_col2\" class=\"data row3 col2\" >0.6573</td>\n",
       "                        <td id=\"T_bd61bed1_7721_11ec_a731_90324b3c0982row3_col3\" class=\"data row3 col3\" >0.5868</td>\n",
       "                        <td id=\"T_bd61bed1_7721_11ec_a731_90324b3c0982row3_col4\" class=\"data row3 col4\" >0.6200</td>\n",
       "                        <td id=\"T_bd61bed1_7721_11ec_a731_90324b3c0982row3_col5\" class=\"data row3 col5\" >0.4926</td>\n",
       "                        <td id=\"T_bd61bed1_7721_11ec_a731_90324b3c0982row3_col6\" class=\"data row3 col6\" >0.4940</td>\n",
       "            </tr>\n",
       "            <tr>\n",
       "                        <th id=\"T_bd61bed1_7721_11ec_a731_90324b3c0982level0_row4\" class=\"row_heading level0 row4\" >4</th>\n",
       "                        <td id=\"T_bd61bed1_7721_11ec_a731_90324b3c0982row4_col0\" class=\"data row4 col0\" >0.8109</td>\n",
       "                        <td id=\"T_bd61bed1_7721_11ec_a731_90324b3c0982row4_col1\" class=\"data row4 col1\" >0.7656</td>\n",
       "                        <td id=\"T_bd61bed1_7721_11ec_a731_90324b3c0982row4_col2\" class=\"data row4 col2\" >0.6340</td>\n",
       "                        <td id=\"T_bd61bed1_7721_11ec_a731_90324b3c0982row4_col3\" class=\"data row4 col3\" >0.5970</td>\n",
       "                        <td id=\"T_bd61bed1_7721_11ec_a731_90324b3c0982row4_col4\" class=\"data row4 col4\" >0.6149</td>\n",
       "                        <td id=\"T_bd61bed1_7721_11ec_a731_90324b3c0982row4_col5\" class=\"data row4 col5\" >0.4897</td>\n",
       "                        <td id=\"T_bd61bed1_7721_11ec_a731_90324b3c0982row4_col6\" class=\"data row4 col6\" >0.4901</td>\n",
       "            </tr>\n",
       "            <tr>\n",
       "                        <th id=\"T_bd61bed1_7721_11ec_a731_90324b3c0982level0_row5\" class=\"row_heading level0 row5\" >Mean</th>\n",
       "                        <td id=\"T_bd61bed1_7721_11ec_a731_90324b3c0982row5_col0\" class=\"data row5 col0\" >0.8114</td>\n",
       "                        <td id=\"T_bd61bed1_7721_11ec_a731_90324b3c0982row5_col1\" class=\"data row5 col1\" >0.7750</td>\n",
       "                        <td id=\"T_bd61bed1_7721_11ec_a731_90324b3c0982row5_col2\" class=\"data row5 col2\" >0.6411</td>\n",
       "                        <td id=\"T_bd61bed1_7721_11ec_a731_90324b3c0982row5_col3\" class=\"data row5 col3\" >0.5972</td>\n",
       "                        <td id=\"T_bd61bed1_7721_11ec_a731_90324b3c0982row5_col4\" class=\"data row5 col4\" >0.6181</td>\n",
       "                        <td id=\"T_bd61bed1_7721_11ec_a731_90324b3c0982row5_col5\" class=\"data row5 col5\" >0.4931</td>\n",
       "                        <td id=\"T_bd61bed1_7721_11ec_a731_90324b3c0982row5_col6\" class=\"data row5 col6\" >0.4939</td>\n",
       "            </tr>\n",
       "            <tr>\n",
       "                        <th id=\"T_bd61bed1_7721_11ec_a731_90324b3c0982level0_row6\" class=\"row_heading level0 row6\" >SD</th>\n",
       "                        <td id=\"T_bd61bed1_7721_11ec_a731_90324b3c0982row6_col0\" class=\"data row6 col0\" >0.0055</td>\n",
       "                        <td id=\"T_bd61bed1_7721_11ec_a731_90324b3c0982row6_col1\" class=\"data row6 col1\" >0.0056</td>\n",
       "                        <td id=\"T_bd61bed1_7721_11ec_a731_90324b3c0982row6_col2\" class=\"data row6 col2\" >0.0113</td>\n",
       "                        <td id=\"T_bd61bed1_7721_11ec_a731_90324b3c0982row6_col3\" class=\"data row6 col3\" >0.0146</td>\n",
       "                        <td id=\"T_bd61bed1_7721_11ec_a731_90324b3c0982row6_col4\" class=\"data row6 col4\" >0.0044</td>\n",
       "                        <td id=\"T_bd61bed1_7721_11ec_a731_90324b3c0982row6_col5\" class=\"data row6 col5\" >0.0082</td>\n",
       "                        <td id=\"T_bd61bed1_7721_11ec_a731_90324b3c0982row6_col6\" class=\"data row6 col6\" >0.0077</td>\n",
       "            </tr>\n",
       "    </tbody></table>"
      ],
      "text/plain": [
       "<pandas.io.formats.style.Styler at 0x20a3bb98340>"
      ]
     },
     "metadata": {},
     "output_type": "display_data"
    }
   ],
   "source": [
    "tuned_gbc = tune_model(gbc\n",
    "                      ,fold = 5\n",
    "                      ,custom_grid = {\n",
    "                                      \"learning_rate\":[0.1,0.2,0.5]\n",
    "                                     ,\"n_estimators\":[100,500,1000]\n",
    "                                     ,\"min_samples_split\":[1,2,5,10]\n",
    "                                     ,\"max_depth\":[1,3,9]\n",
    "                                     }\n",
    "                      ,optimize = 'AUC')"
   ]
  },
  {
   "cell_type": "code",
   "execution_count": 82,
   "metadata": {
    "ExecuteTime": {
     "end_time": "2022-01-16T23:13:46.065703Z",
     "start_time": "2022-01-16T23:13:45.862704Z"
    }
   },
   "outputs": [
    {
     "data": {
      "text/html": [
       "<div>\n",
       "<style scoped>\n",
       "    .dataframe tbody tr th:only-of-type {\n",
       "        vertical-align: middle;\n",
       "    }\n",
       "\n",
       "    .dataframe tbody tr th {\n",
       "        vertical-align: top;\n",
       "    }\n",
       "\n",
       "    .dataframe thead th {\n",
       "        text-align: right;\n",
       "    }\n",
       "</style>\n",
       "<table border=\"1\" class=\"dataframe\">\n",
       "  <thead>\n",
       "    <tr style=\"text-align: right;\">\n",
       "      <th></th>\n",
       "      <th>department</th>\n",
       "      <th>salary</th>\n",
       "      <th>averageMonthlyHours</th>\n",
       "      <th>projectCount</th>\n",
       "      <th>satisfaction</th>\n",
       "      <th>evaluation</th>\n",
       "      <th>yearsAtCompany</th>\n",
       "      <th>workAccident</th>\n",
       "      <th>turnover</th>\n",
       "      <th>Label</th>\n",
       "      <th>Score</th>\n",
       "    </tr>\n",
       "  </thead>\n",
       "  <tbody>\n",
       "    <tr>\n",
       "      <th>0</th>\n",
       "      <td>7</td>\n",
       "      <td>1</td>\n",
       "      <td>266</td>\n",
       "      <td>2</td>\n",
       "      <td>38.0</td>\n",
       "      <td>53.0</td>\n",
       "      <td>3</td>\n",
       "      <td>0</td>\n",
       "      <td>1</td>\n",
       "      <td>1</td>\n",
       "      <td>0.7791</td>\n",
       "    </tr>\n",
       "    <tr>\n",
       "      <th>1</th>\n",
       "      <td>7</td>\n",
       "      <td>2</td>\n",
       "      <td>252</td>\n",
       "      <td>5</td>\n",
       "      <td>80.0</td>\n",
       "      <td>86.0</td>\n",
       "      <td>6</td>\n",
       "      <td>0</td>\n",
       "      <td>1</td>\n",
       "      <td>1</td>\n",
       "      <td>0.6527</td>\n",
       "    </tr>\n",
       "    <tr>\n",
       "      <th>2</th>\n",
       "      <td>7</td>\n",
       "      <td>2</td>\n",
       "      <td>289</td>\n",
       "      <td>7</td>\n",
       "      <td>11.0</td>\n",
       "      <td>88.0</td>\n",
       "      <td>4</td>\n",
       "      <td>0</td>\n",
       "      <td>1</td>\n",
       "      <td>1</td>\n",
       "      <td>0.7896</td>\n",
       "    </tr>\n",
       "    <tr>\n",
       "      <th>3</th>\n",
       "      <td>7</td>\n",
       "      <td>1</td>\n",
       "      <td>275</td>\n",
       "      <td>5</td>\n",
       "      <td>72.0</td>\n",
       "      <td>87.0</td>\n",
       "      <td>5</td>\n",
       "      <td>0</td>\n",
       "      <td>1</td>\n",
       "      <td>1</td>\n",
       "      <td>0.7227</td>\n",
       "    </tr>\n",
       "    <tr>\n",
       "      <th>4</th>\n",
       "      <td>7</td>\n",
       "      <td>1</td>\n",
       "      <td>292</td>\n",
       "      <td>2</td>\n",
       "      <td>37.0</td>\n",
       "      <td>52.0</td>\n",
       "      <td>3</td>\n",
       "      <td>0</td>\n",
       "      <td>1</td>\n",
       "      <td>1</td>\n",
       "      <td>0.7975</td>\n",
       "    </tr>\n",
       "    <tr>\n",
       "      <th>...</th>\n",
       "      <td>...</td>\n",
       "      <td>...</td>\n",
       "      <td>...</td>\n",
       "      <td>...</td>\n",
       "      <td>...</td>\n",
       "      <td>...</td>\n",
       "      <td>...</td>\n",
       "      <td>...</td>\n",
       "      <td>...</td>\n",
       "      <td>...</td>\n",
       "      <td>...</td>\n",
       "    </tr>\n",
       "    <tr>\n",
       "      <th>14993</th>\n",
       "      <td>9</td>\n",
       "      <td>1</td>\n",
       "      <td>279</td>\n",
       "      <td>6</td>\n",
       "      <td>76.0</td>\n",
       "      <td>83.0</td>\n",
       "      <td>6</td>\n",
       "      <td>0</td>\n",
       "      <td>1</td>\n",
       "      <td>1</td>\n",
       "      <td>0.6152</td>\n",
       "    </tr>\n",
       "    <tr>\n",
       "      <th>14994</th>\n",
       "      <td>8</td>\n",
       "      <td>1</td>\n",
       "      <td>287</td>\n",
       "      <td>2</td>\n",
       "      <td>40.0</td>\n",
       "      <td>57.0</td>\n",
       "      <td>3</td>\n",
       "      <td>0</td>\n",
       "      <td>1</td>\n",
       "      <td>1</td>\n",
       "      <td>0.7944</td>\n",
       "    </tr>\n",
       "    <tr>\n",
       "      <th>14995</th>\n",
       "      <td>8</td>\n",
       "      <td>1</td>\n",
       "      <td>253</td>\n",
       "      <td>2</td>\n",
       "      <td>37.0</td>\n",
       "      <td>48.0</td>\n",
       "      <td>3</td>\n",
       "      <td>0</td>\n",
       "      <td>1</td>\n",
       "      <td>1</td>\n",
       "      <td>0.8194</td>\n",
       "    </tr>\n",
       "    <tr>\n",
       "      <th>14996</th>\n",
       "      <td>8</td>\n",
       "      <td>1</td>\n",
       "      <td>288</td>\n",
       "      <td>2</td>\n",
       "      <td>37.0</td>\n",
       "      <td>53.0</td>\n",
       "      <td>3</td>\n",
       "      <td>0</td>\n",
       "      <td>1</td>\n",
       "      <td>1</td>\n",
       "      <td>0.7975</td>\n",
       "    </tr>\n",
       "    <tr>\n",
       "      <th>14997</th>\n",
       "      <td>8</td>\n",
       "      <td>1</td>\n",
       "      <td>272</td>\n",
       "      <td>6</td>\n",
       "      <td>11.0</td>\n",
       "      <td>96.0</td>\n",
       "      <td>4</td>\n",
       "      <td>0</td>\n",
       "      <td>1</td>\n",
       "      <td>1</td>\n",
       "      <td>0.7896</td>\n",
       "    </tr>\n",
       "  </tbody>\n",
       "</table>\n",
       "<p>14998 rows × 11 columns</p>\n",
       "</div>"
      ],
      "text/plain": [
       "       department  salary  averageMonthlyHours  projectCount  satisfaction  \\\n",
       "0               7       1                  266             2          38.0   \n",
       "1               7       2                  252             5          80.0   \n",
       "2               7       2                  289             7          11.0   \n",
       "3               7       1                  275             5          72.0   \n",
       "4               7       1                  292             2          37.0   \n",
       "...           ...     ...                  ...           ...           ...   \n",
       "14993           9       1                  279             6          76.0   \n",
       "14994           8       1                  287             2          40.0   \n",
       "14995           8       1                  253             2          37.0   \n",
       "14996           8       1                  288             2          37.0   \n",
       "14997           8       1                  272             6          11.0   \n",
       "\n",
       "       evaluation  yearsAtCompany  workAccident  turnover  Label   Score  \n",
       "0            53.0               3             0         1      1  0.7791  \n",
       "1            86.0               6             0         1      1  0.6527  \n",
       "2            88.0               4             0         1      1  0.7896  \n",
       "3            87.0               5             0         1      1  0.7227  \n",
       "4            52.0               3             0         1      1  0.7975  \n",
       "...           ...             ...           ...       ...    ...     ...  \n",
       "14993        83.0               6             0         1      1  0.6152  \n",
       "14994        57.0               3             0         1      1  0.7944  \n",
       "14995        48.0               3             0         1      1  0.8194  \n",
       "14996        53.0               3             0         1      1  0.7975  \n",
       "14997        96.0               4             0         1      1  0.7896  \n",
       "\n",
       "[14998 rows x 11 columns]"
      ]
     },
     "execution_count": 82,
     "metadata": {},
     "output_type": "execute_result"
    }
   ],
   "source": [
    "predict_model(gbc, data=df)"
   ]
  },
  {
   "cell_type": "markdown",
   "metadata": {},
   "source": [
    "#### Finalizando o modelo."
   ]
  },
  {
   "cell_type": "code",
   "execution_count": 83,
   "metadata": {
    "ExecuteTime": {
     "end_time": "2022-01-16T23:15:56.581915Z",
     "start_time": "2022-01-16T23:15:50.666910Z"
    }
   },
   "outputs": [],
   "source": [
    "final_model = finalize_model(gbc)"
   ]
  },
  {
   "cell_type": "code",
   "execution_count": 84,
   "metadata": {
    "ExecuteTime": {
     "end_time": "2022-01-16T23:17:17.259709Z",
     "start_time": "2022-01-16T23:17:16.746869Z"
    }
   },
   "outputs": [
    {
     "name": "stdout",
     "output_type": "stream",
     "text": [
      "Transformation Pipeline and Model Successfully Saved\n"
     ]
    },
    {
     "data": {
      "text/plain": [
       "(Pipeline(memory=None,\n",
       "          steps=[('dtypes',\n",
       "                  DataTypes_Auto_infer(categorical_features=[],\n",
       "                                       display_types=True, features_todrop=[],\n",
       "                                       id_columns=[],\n",
       "                                       ml_usecase='classification',\n",
       "                                       numerical_features=['yearsAtCompany'],\n",
       "                                       target='turnover', time_features=[])),\n",
       "                 ('imputer',\n",
       "                  Simple_Imputer(categorical_strategy='not_available',\n",
       "                                 fill_value_categorical=None,\n",
       "                                 fill_value_numerical=...\n",
       "                                             learning_rate=0.1, loss='deviance',\n",
       "                                             max_depth=3, max_features=None,\n",
       "                                             max_leaf_nodes=None,\n",
       "                                             min_impurity_decrease=0.0,\n",
       "                                             min_impurity_split=None,\n",
       "                                             min_samples_leaf=1,\n",
       "                                             min_samples_split=2,\n",
       "                                             min_weight_fraction_leaf=0.0,\n",
       "                                             n_estimators=100,\n",
       "                                             n_iter_no_change=None,\n",
       "                                             presort='deprecated',\n",
       "                                             random_state=7257, subsample=1.0,\n",
       "                                             tol=0.0001, validation_fraction=0.1,\n",
       "                                             verbose=0, warm_start=False)]],\n",
       "          verbose=False),\n",
       " 'model.pkl')"
      ]
     },
     "execution_count": 84,
     "metadata": {},
     "output_type": "execute_result"
    }
   ],
   "source": [
    "save_model(final_model,'model')"
   ]
  },
  {
   "cell_type": "markdown",
   "metadata": {},
   "source": [
    "#### Transferindo os arquivos para o Data Lake."
   ]
  },
  {
   "cell_type": "markdown",
   "metadata": {},
   "source": [
    "#### Modelo de Classificação."
   ]
  },
  {
   "cell_type": "code",
   "execution_count": 85,
   "metadata": {
    "ExecuteTime": {
     "end_time": "2022-01-16T23:19:35.620820Z",
     "start_time": "2022-01-16T23:19:32.190597Z"
    }
   },
   "outputs": [
    {
     "data": {
      "text/plain": [
       "<minio.helpers.ObjectWriteResult at 0x20a31881640>"
      ]
     },
     "execution_count": 85,
     "metadata": {},
     "output_type": "execute_result"
    }
   ],
   "source": [
    "client.fput_object(\n",
    "    \"curated\",\n",
    "    \"model.pkl\",\n",
    "    \"model.pkl\"\n",
    ")"
   ]
  },
  {
   "cell_type": "markdown",
   "metadata": {},
   "source": [
    "#### Exportando o conjunto de dados para o disco."
   ]
  },
  {
   "cell_type": "code",
   "execution_count": 86,
   "metadata": {
    "ExecuteTime": {
     "end_time": "2022-01-16T23:19:48.470145Z",
     "start_time": "2022-01-16T23:19:48.155306Z"
    },
    "scrolled": true
   },
   "outputs": [],
   "source": [
    "df[[\"satisfaction\",\"evaluation\",\"averageMonthlyHours\",\"yearsAtCompany\",\"turnover\"]].to_csv(\"dataset.csv\",index=False)"
   ]
  },
  {
   "cell_type": "code",
   "execution_count": 87,
   "metadata": {
    "ExecuteTime": {
     "end_time": "2022-01-16T23:19:51.806981Z",
     "start_time": "2022-01-16T23:19:51.383673Z"
    },
    "scrolled": true
   },
   "outputs": [
    {
     "data": {
      "text/plain": [
       "<minio.helpers.ObjectWriteResult at 0x20a313bbfd0>"
      ]
     },
     "execution_count": 87,
     "metadata": {},
     "output_type": "execute_result"
    }
   ],
   "source": [
    "client.fput_object(\n",
    "    \"curated\",\n",
    "    \"dataset.csv\",\n",
    "    \"dataset.csv\"\n",
    ")"
   ]
  }
 ],
 "metadata": {
  "kernelspec": {
   "display_name": "Python 3",
   "language": "python",
   "name": "python3"
  },
  "language_info": {
   "codemirror_mode": {
    "name": "ipython",
    "version": 3
   },
   "file_extension": ".py",
   "mimetype": "text/x-python",
   "name": "python",
   "nbconvert_exporter": "python",
   "pygments_lexer": "ipython3",
   "version": "3.8.5"
  },
  "varInspector": {
   "cols": {
    "lenName": 16,
    "lenType": 16,
    "lenVar": 40
   },
   "kernels_config": {
    "python": {
     "delete_cmd_postfix": "",
     "delete_cmd_prefix": "del ",
     "library": "var_list.py",
     "varRefreshCmd": "print(var_dic_list())"
    },
    "r": {
     "delete_cmd_postfix": ") ",
     "delete_cmd_prefix": "rm(",
     "library": "var_list.r",
     "varRefreshCmd": "cat(var_dic_list()) "
    }
   },
   "types_to_exclude": [
    "module",
    "function",
    "builtin_function_or_method",
    "instance",
    "_Feature"
   ],
   "window_display": false
  }
 },
 "nbformat": 4,
 "nbformat_minor": 5
}
